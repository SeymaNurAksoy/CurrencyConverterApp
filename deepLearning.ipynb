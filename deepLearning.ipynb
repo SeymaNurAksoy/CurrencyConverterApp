{
  "cells": [
    {
      "cell_type": "markdown",
      "metadata": {
        "id": "view-in-github",
        "colab_type": "text"
      },
      "source": [
        "<a href=\"https://colab.research.google.com/github/SeymaNurAksoy/CurrencyConverterApp/blob/main/deepLearning.ipynb\" target=\"_parent\"><img src=\"https://colab.research.google.com/assets/colab-badge.svg\" alt=\"Open In Colab\"/></a>"
      ]
    },
    {
      "cell_type": "code",
      "execution_count": null,
      "metadata": {
        "colab": {
          "base_uri": "https://localhost:8080/"
        },
        "id": "G8Lw0D3SAwG_",
        "outputId": "c4135909-cd04-4ea2-a971-3b786d8271a7"
      },
      "outputs": [
        {
          "output_type": "stream",
          "name": "stdout",
          "text": [
            "[nltk_data] Downloading package punkt to /root/nltk_data...\n",
            "[nltk_data]   Package punkt is already up-to-date!\n",
            "[nltk_data] Downloading package stopwords to /root/nltk_data...\n",
            "[nltk_data]   Package stopwords is already up-to-date!\n"
          ]
        },
        {
          "output_type": "execute_result",
          "data": {
            "text/plain": [
              "['acaba',\n",
              " 'ama',\n",
              " 'aslında',\n",
              " 'az',\n",
              " 'bazı',\n",
              " 'belki',\n",
              " 'biri',\n",
              " 'birkaç',\n",
              " 'birşey',\n",
              " 'biz',\n",
              " 'bu',\n",
              " 'çok',\n",
              " 'çünkü',\n",
              " 'da',\n",
              " 'daha',\n",
              " 'de',\n",
              " 'defa',\n",
              " 'diye',\n",
              " 'eğer',\n",
              " 'en',\n",
              " 'gibi',\n",
              " 'hem',\n",
              " 'hep',\n",
              " 'hepsi',\n",
              " 'her',\n",
              " 'hiç',\n",
              " 'için',\n",
              " 'ile',\n",
              " 'ise',\n",
              " 'kez',\n",
              " 'ki',\n",
              " 'kim',\n",
              " 'mı',\n",
              " 'mu',\n",
              " 'mü',\n",
              " 'nasıl',\n",
              " 'ne',\n",
              " 'neden',\n",
              " 'nerde',\n",
              " 'nerede',\n",
              " 'nereye',\n",
              " 'niçin',\n",
              " 'niye',\n",
              " 'o',\n",
              " 'sanki',\n",
              " 'şey',\n",
              " 'siz',\n",
              " 'şu',\n",
              " 'tüm',\n",
              " 've',\n",
              " 'veya',\n",
              " 'ya',\n",
              " 'yani']"
            ]
          },
          "metadata": {},
          "execution_count": 49
        }
      ],
      "source": [
        "import numpy as np\n",
        "import pandas as pd\n",
        "from tensorflow.python.keras.models import Sequential\n",
        "from tensorflow.python.keras.layers import Dense, GRU, Embedding, LSTM\n",
        "from tensorflow.keras.optimizers import Adam # - Works\n",
        "from keras.preprocessing.text import Tokenizer\n",
        "from keras.preprocessing.sequence import pad_sequences\n",
        "from tensorflow.python.keras.models import load_model\n",
        "import re\n",
        "import nltk\n",
        "\n",
        "nltk.download('punkt')\n",
        "nltk.download('stopwords')\n",
        "from nltk.corpus import stopwords\n",
        "WPT = nltk.WordPunctTokenizer()\n",
        "stop_word_list = nltk.corpus.stopwords.words('turkish')\n",
        "stop_word_list"
      ]
    },
    {
      "cell_type": "code",
      "execution_count": null,
      "metadata": {
        "colab": {
          "base_uri": "https://localhost:8080/",
          "height": 423
        },
        "id": "UkRlIUPX-gxG",
        "outputId": "a4ef010a-ce04-4c55-9587-a77f4dd1759a"
      },
      "outputs": [
        {
          "output_type": "execute_result",
          "data": {
            "text/plain": [
              "                                               Text  Sentiment\n",
              "0             bana beklediğim cevapları vermiyorsun          0\n",
              "1            senden istediğim cevaplar bunlar değil          0\n",
              "2                     verdiğin yanıtlar doğru değil          0\n",
              "3            duymak istediğim cevaplar bunlar değil          0\n",
              "4                                seni seviyorum bro          1\n",
              "...                                             ...        ...\n",
              "19018   J7 Pro Cihazı Geldi Fakat Faturası Gelmedi!          0\n",
              "19019        Müşteri Hizmetlerine Ulaşamama Sorunu!          0\n",
              "19020                           Para İadesi Sorunu!          0\n",
              "19021                                Mağdur Ediyor!          0\n",
              "19022        Ürünü Aldığı Halde Parayı İade Etmedi!          0\n",
              "\n",
              "[19023 rows x 2 columns]"
            ],
            "text/html": [
              "\n",
              "  <div id=\"df-123d5dcd-1f57-470d-b535-bdb07a4d0701\">\n",
              "    <div class=\"colab-df-container\">\n",
              "      <div>\n",
              "<style scoped>\n",
              "    .dataframe tbody tr th:only-of-type {\n",
              "        vertical-align: middle;\n",
              "    }\n",
              "\n",
              "    .dataframe tbody tr th {\n",
              "        vertical-align: top;\n",
              "    }\n",
              "\n",
              "    .dataframe thead th {\n",
              "        text-align: right;\n",
              "    }\n",
              "</style>\n",
              "<table border=\"1\" class=\"dataframe\">\n",
              "  <thead>\n",
              "    <tr style=\"text-align: right;\">\n",
              "      <th></th>\n",
              "      <th>Text</th>\n",
              "      <th>Sentiment</th>\n",
              "    </tr>\n",
              "  </thead>\n",
              "  <tbody>\n",
              "    <tr>\n",
              "      <th>0</th>\n",
              "      <td>bana beklediğim cevapları vermiyorsun</td>\n",
              "      <td>0</td>\n",
              "    </tr>\n",
              "    <tr>\n",
              "      <th>1</th>\n",
              "      <td>senden istediğim cevaplar bunlar değil</td>\n",
              "      <td>0</td>\n",
              "    </tr>\n",
              "    <tr>\n",
              "      <th>2</th>\n",
              "      <td>verdiğin yanıtlar doğru değil</td>\n",
              "      <td>0</td>\n",
              "    </tr>\n",
              "    <tr>\n",
              "      <th>3</th>\n",
              "      <td>duymak istediğim cevaplar bunlar değil</td>\n",
              "      <td>0</td>\n",
              "    </tr>\n",
              "    <tr>\n",
              "      <th>4</th>\n",
              "      <td>seni seviyorum bro</td>\n",
              "      <td>1</td>\n",
              "    </tr>\n",
              "    <tr>\n",
              "      <th>...</th>\n",
              "      <td>...</td>\n",
              "      <td>...</td>\n",
              "    </tr>\n",
              "    <tr>\n",
              "      <th>19018</th>\n",
              "      <td>J7 Pro Cihazı Geldi Fakat Faturası Gelmedi!</td>\n",
              "      <td>0</td>\n",
              "    </tr>\n",
              "    <tr>\n",
              "      <th>19019</th>\n",
              "      <td>Müşteri Hizmetlerine Ulaşamama Sorunu!</td>\n",
              "      <td>0</td>\n",
              "    </tr>\n",
              "    <tr>\n",
              "      <th>19020</th>\n",
              "      <td>Para İadesi Sorunu!</td>\n",
              "      <td>0</td>\n",
              "    </tr>\n",
              "    <tr>\n",
              "      <th>19021</th>\n",
              "      <td>Mağdur Ediyor!</td>\n",
              "      <td>0</td>\n",
              "    </tr>\n",
              "    <tr>\n",
              "      <th>19022</th>\n",
              "      <td>Ürünü Aldığı Halde Parayı İade Etmedi!</td>\n",
              "      <td>0</td>\n",
              "    </tr>\n",
              "  </tbody>\n",
              "</table>\n",
              "<p>19023 rows × 2 columns</p>\n",
              "</div>\n",
              "      <button class=\"colab-df-convert\" onclick=\"convertToInteractive('df-123d5dcd-1f57-470d-b535-bdb07a4d0701')\"\n",
              "              title=\"Convert this dataframe to an interactive table.\"\n",
              "              style=\"display:none;\">\n",
              "        \n",
              "  <svg xmlns=\"http://www.w3.org/2000/svg\" height=\"24px\"viewBox=\"0 0 24 24\"\n",
              "       width=\"24px\">\n",
              "    <path d=\"M0 0h24v24H0V0z\" fill=\"none\"/>\n",
              "    <path d=\"M18.56 5.44l.94 2.06.94-2.06 2.06-.94-2.06-.94-.94-2.06-.94 2.06-2.06.94zm-11 1L8.5 8.5l.94-2.06 2.06-.94-2.06-.94L8.5 2.5l-.94 2.06-2.06.94zm10 10l.94 2.06.94-2.06 2.06-.94-2.06-.94-.94-2.06-.94 2.06-2.06.94z\"/><path d=\"M17.41 7.96l-1.37-1.37c-.4-.4-.92-.59-1.43-.59-.52 0-1.04.2-1.43.59L10.3 9.45l-7.72 7.72c-.78.78-.78 2.05 0 2.83L4 21.41c.39.39.9.59 1.41.59.51 0 1.02-.2 1.41-.59l7.78-7.78 2.81-2.81c.8-.78.8-2.07 0-2.86zM5.41 20L4 18.59l7.72-7.72 1.47 1.35L5.41 20z\"/>\n",
              "  </svg>\n",
              "      </button>\n",
              "      \n",
              "  <style>\n",
              "    .colab-df-container {\n",
              "      display:flex;\n",
              "      flex-wrap:wrap;\n",
              "      gap: 12px;\n",
              "    }\n",
              "\n",
              "    .colab-df-convert {\n",
              "      background-color: #E8F0FE;\n",
              "      border: none;\n",
              "      border-radius: 50%;\n",
              "      cursor: pointer;\n",
              "      display: none;\n",
              "      fill: #1967D2;\n",
              "      height: 32px;\n",
              "      padding: 0 0 0 0;\n",
              "      width: 32px;\n",
              "    }\n",
              "\n",
              "    .colab-df-convert:hover {\n",
              "      background-color: #E2EBFA;\n",
              "      box-shadow: 0px 1px 2px rgba(60, 64, 67, 0.3), 0px 1px 3px 1px rgba(60, 64, 67, 0.15);\n",
              "      fill: #174EA6;\n",
              "    }\n",
              "\n",
              "    [theme=dark] .colab-df-convert {\n",
              "      background-color: #3B4455;\n",
              "      fill: #D2E3FC;\n",
              "    }\n",
              "\n",
              "    [theme=dark] .colab-df-convert:hover {\n",
              "      background-color: #434B5C;\n",
              "      box-shadow: 0px 1px 3px 1px rgba(0, 0, 0, 0.15);\n",
              "      filter: drop-shadow(0px 1px 2px rgba(0, 0, 0, 0.3));\n",
              "      fill: #FFFFFF;\n",
              "    }\n",
              "  </style>\n",
              "\n",
              "      <script>\n",
              "        const buttonEl =\n",
              "          document.querySelector('#df-123d5dcd-1f57-470d-b535-bdb07a4d0701 button.colab-df-convert');\n",
              "        buttonEl.style.display =\n",
              "          google.colab.kernel.accessAllowed ? 'block' : 'none';\n",
              "\n",
              "        async function convertToInteractive(key) {\n",
              "          const element = document.querySelector('#df-123d5dcd-1f57-470d-b535-bdb07a4d0701');\n",
              "          const dataTable =\n",
              "            await google.colab.kernel.invokeFunction('convertToInteractive',\n",
              "                                                     [key], {});\n",
              "          if (!dataTable) return;\n",
              "\n",
              "          const docLinkHtml = 'Like what you see? Visit the ' +\n",
              "            '<a target=\"_blank\" href=https://colab.research.google.com/notebooks/data_table.ipynb>data table notebook</a>'\n",
              "            + ' to learn more about interactive tables.';\n",
              "          element.innerHTML = '';\n",
              "          dataTable['output_type'] = 'display_data';\n",
              "          await google.colab.output.renderOutput(dataTable, element);\n",
              "          const docLink = document.createElement('div');\n",
              "          docLink.innerHTML = docLinkHtml;\n",
              "          element.appendChild(docLink);\n",
              "        }\n",
              "      </script>\n",
              "    </div>\n",
              "  </div>\n",
              "  "
            ]
          },
          "metadata": {},
          "execution_count": 50
        }
      ],
      "source": [
        "dataset = pd.read_excel('sentiment_analysis.xlsx', sheet_name = 'Sheet1')\n",
        "dataset"
      ]
    },
    {
      "cell_type": "code",
      "execution_count": null,
      "metadata": {
        "id": "zpT6Vk7gFM6B"
      },
      "outputs": [],
      "source": [
        "dataset['Text'] = dataset['Text'].apply(lambda x: re.sub('[,\\.!?:()\"]', '', x))\n",
        "dataset['Text'] = dataset['Text'].apply(lambda x: x.lower())\n",
        "dataset['Text'] = dataset['Text'].apply(lambda x: x.strip())\n",
        "\n",
        "def token(values):\n",
        "    words = nltk.tokenize.word_tokenize(values)\n",
        "    filtered_words = [word for word in words if word not in stop_word_list]\n",
        "    not_stopword_doc = \" \".join(filtered_words)\n",
        "    return not_stopword_doc\n",
        "\n",
        "dataset['Text'] = dataset['Text'].apply(lambda x: token(x))"
      ]
    },
    {
      "cell_type": "code",
      "execution_count": null,
      "metadata": {
        "colab": {
          "base_uri": "https://localhost:8080/"
        },
        "id": "GqsmkpfoFW48",
        "outputId": "29baf559-341f-4dd6-ae3e-e2667ea703a1"
      },
      "outputs": [
        {
          "output_type": "execute_result",
          "data": {
            "text/plain": [
              "0             bana beklediğim cevapları vermiyorsun\n",
              "1            senden istediğim cevaplar bunlar değil\n",
              "2                     verdiğin yanıtlar doğru değil\n",
              "3            duymak istediğim cevaplar bunlar değil\n",
              "4                                seni seviyorum bro\n",
              "                            ...                    \n",
              "19018    j7 pro cihazı geldi fakat faturası gelmedi\n",
              "19019         müşteri hizmetlerine ulaşamama sorunu\n",
              "19020                           para i̇adesi sorunu\n",
              "19021                                 mağdur ediyor\n",
              "19022        ürünü aldığı halde parayı i̇ade etmedi\n",
              "Name: Text, Length: 19023, dtype: object"
            ]
          },
          "metadata": {},
          "execution_count": 52
        }
      ],
      "source": [
        "dataset['Text']"
      ]
    },
    {
      "cell_type": "code",
      "execution_count": null,
      "metadata": {
        "id": "jlxdrklXFlhd"
      },
      "outputs": [],
      "source": [
        "data = dataset['Text'].values.tolist()\n",
        "sentiment = dataset['Sentiment'].values.tolist()"
      ]
    },
    {
      "cell_type": "code",
      "execution_count": null,
      "metadata": {
        "id": "whRHJXv7Freu"
      },
      "outputs": [],
      "source": [
        "from sklearn.model_selection import train_test_split\n",
        "x_train, x_test, y_train, y_test = train_test_split(data,sentiment,test_size = 0.2, random_state = 42)"
      ]
    },
    {
      "cell_type": "code",
      "execution_count": null,
      "metadata": {
        "colab": {
          "base_uri": "https://localhost:8080/",
          "height": 35
        },
        "id": "_uXs-wbnFvfq",
        "outputId": "271824b2-3a12-42be-9a9d-b1ba5c33534f"
      },
      "outputs": [
        {
          "output_type": "execute_result",
          "data": {
            "text/plain": [
              "'fiyata iyi süper'"
            ],
            "application/vnd.google.colaboratory.intrinsic+json": {
              "type": "string"
            }
          },
          "metadata": {},
          "execution_count": 55
        }
      ],
      "source": [
        "x_train[300]"
      ]
    },
    {
      "cell_type": "code",
      "execution_count": null,
      "metadata": {
        "colab": {
          "base_uri": "https://localhost:8080/"
        },
        "id": "vWXY0QuaFxV5",
        "outputId": "7cd7bac8-4a81-41b9-c4c2-1d531f098e8c"
      },
      "outputs": [
        {
          "output_type": "execute_result",
          "data": {
            "text/plain": [
              "1"
            ]
          },
          "metadata": {},
          "execution_count": 56
        }
      ],
      "source": [
        "y_train[300]"
      ]
    },
    {
      "cell_type": "code",
      "execution_count": null,
      "metadata": {
        "colab": {
          "base_uri": "https://localhost:8080/"
        },
        "id": "ZQpZUesfF0ME",
        "outputId": "2dd17e79-8a4f-4e56-ba76-818074a6e486"
      },
      "outputs": [
        {
          "output_type": "execute_result",
          "data": {
            "text/plain": [
              "{'bir': 1,\n",
              " 'ürün': 2,\n",
              " 'iyi': 3,\n",
              " 'güzel': 4,\n",
              " 'tavsiye': 5,\n",
              " 'gayet': 6,\n",
              " 'ederim': 7,\n",
              " 'hızlı': 8,\n",
              " 'aldım': 9,\n",
              " 'yok': 10,\n",
              " 'telefon': 11,\n",
              " 'olarak': 12,\n",
              " 'ürünü': 13,\n",
              " 'göre': 14,\n",
              " 'kadar': 15,\n",
              " '2': 16,\n",
              " 'var': 17,\n",
              " 'teşekkürler': 18,\n",
              " 'elime': 19,\n",
              " 'fiyat': 20,\n",
              " 'uygun': 21,\n",
              " 'kullanışlı': 22,\n",
              " 'fiyata': 23,\n",
              " 'ben': 24,\n",
              " 'gün': 25,\n",
              " 'değil': 26,\n",
              " 'kargo': 27,\n",
              " 'biraz': 28,\n",
              " '1': 29,\n",
              " 'kaliteli': 30,\n",
              " 'kullanıyorum': 31,\n",
              " 'kalitesi': 32,\n",
              " 'geldi': 33,\n",
              " 'gerçekten': 34,\n",
              " 'tek': 35,\n",
              " 'şarj': 36,\n",
              " '3': 37,\n",
              " 'sonra': 38,\n",
              " 'bi': 39,\n",
              " 'olması': 40,\n",
              " 'cok': 41,\n",
              " 'bence': 42,\n",
              " 'küçük': 43,\n",
              " 'kesinlikle': 44,\n",
              " 'önce': 45,\n",
              " 'tam': 46,\n",
              " 'oldu': 47,\n",
              " 'performans': 48,\n",
              " 'ses': 49,\n",
              " 'ulaştı': 50,\n",
              " 'mükemmel': 51,\n",
              " 'sorun': 52,\n",
              " 'fakat': 53,\n",
              " 'oldukça': 54,\n",
              " 'fazla': 55,\n",
              " 'ancak': 56,\n",
              " 'bile': 57,\n",
              " 'fiyatına': 58,\n",
              " 'memnun': 59,\n",
              " 'hepsiburada': 60,\n",
              " 'başarılı': 61,\n",
              " 'şık': 62,\n",
              " 'fiyatı': 63,\n",
              " 'uzun': 64,\n",
              " 'telefonu': 65,\n",
              " 'memnunum': 66,\n",
              " 'hızı': 67,\n",
              " 'ayrıca': 68,\n",
              " 'sipariş': 69,\n",
              " 'kolay': 70,\n",
              " '5': 71,\n",
              " 'aynı': 72,\n",
              " 'büyük': 73,\n",
              " 'sorunsuz': 74,\n",
              " 'süper': 75,\n",
              " 'şekilde': 76,\n",
              " 'ekran': 77,\n",
              " 'harika': 78,\n",
              " 'cihaz': 79,\n",
              " 'zaten': 80,\n",
              " '4': 81,\n",
              " 'benim': 82,\n",
              " 'mouse': 83,\n",
              " 'diğer': 84,\n",
              " 'usb': 85,\n",
              " 'ürünün': 86,\n",
              " 'rahat': 87,\n",
              " 'sadece': 88,\n",
              " '10': 89,\n",
              " 'ilk': 90,\n",
              " 'olan': 91,\n",
              " 'samsung': 92,\n",
              " 'gerek': 93,\n",
              " 'olduğu': 94,\n",
              " 'teşekkür': 95,\n",
              " 'herkese': 96,\n",
              " 'içinde': 97,\n",
              " 'hemen': 98,\n",
              " 'gb': 99,\n",
              " 'alın': 100,\n",
              " 'olsun': 101,\n",
              " 'zaman': 102,\n",
              " 'çalışıyor': 103,\n",
              " 'saat': 104,\n",
              " 'başka': 105,\n",
              " 'iki': 106,\n",
              " 'kötü': 107,\n",
              " 'pil': 108,\n",
              " 'arkadaşlar': 109,\n",
              " 'günde': 110,\n",
              " 'yeni': 111,\n",
              " 'sıkıntı': 112,\n",
              " 'ediyorum': 113,\n",
              " 'yeterli': 114,\n",
              " 'son': 115,\n",
              " 'kısa': 116,\n",
              " 'yaklaşık': 117,\n",
              " 'özelliği': 118,\n",
              " 'rağmen': 119,\n",
              " 'sağlam': 120,\n",
              " 'ideal': 121,\n",
              " 'bana': 122,\n",
              " 'oluyor': 123,\n",
              " 'kullanımı': 124,\n",
              " 'aldığım': 125,\n",
              " 'çıktı': 126,\n",
              " 'urun': 127,\n",
              " 'marka': 128,\n",
              " 'verdim': 129,\n",
              " 'olduğunu': 130,\n",
              " 'ettim': 131,\n",
              " 'teslim': 132,\n",
              " 'almak': 133,\n",
              " 'kaldım': 134,\n",
              " 'para': 135,\n",
              " 'normal': 136,\n",
              " 'geliyor': 137,\n",
              " 'bunu': 138,\n",
              " 'dışında': 139,\n",
              " 'ucuz': 140,\n",
              " 'derim': 141,\n",
              " 'mi': 142,\n",
              " 'ay': 143,\n",
              " 'hafif': 144,\n",
              " 'özellikle': 145,\n",
              " 'şarjı': 146,\n",
              " 'kalite': 147,\n",
              " 'tercih': 148,\n",
              " 'yüksek': 149,\n",
              " 'almıştım': 150,\n",
              " 'gidiyor': 151,\n",
              " 'kullanım': 152,\n",
              " 'ssd': 153,\n",
              " 'ediyor': 154,\n",
              " 'yine': 155,\n",
              " 'böyle': 156,\n",
              " 'telefonun': 157,\n",
              " 'kulaklık': 158,\n",
              " 'geçti': 159,\n",
              " 'kurulumu': 160,\n",
              " 'internet': 161,\n",
              " 'süre': 162,\n",
              " 'performansı': 163,\n",
              " 'sorunu': 164,\n",
              " 'sürede': 165,\n",
              " 'burada': 166,\n",
              " '6': 167,\n",
              " 'zor': 168,\n",
              " 'olsa': 169,\n",
              " 'tane': 170,\n",
              " 'ufak': 171,\n",
              " 'veriyor': 172,\n",
              " 'teslimat': 173,\n",
              " 'hafta': 174,\n",
              " 'kablosuz': 175,\n",
              " 'hediye': 176,\n",
              " 'onun': 177,\n",
              " 'özellikleri': 178,\n",
              " 'guzel': 179,\n",
              " 'kendi': 180,\n",
              " 'açısından': 181,\n",
              " 'eski': 182,\n",
              " 'orjinal': 183,\n",
              " 'dokunmatik': 184,\n",
              " 'sesi': 185,\n",
              " 'beğendim': 186,\n",
              " 'pişman': 187,\n",
              " 'hepsiburadacom': 188,\n",
              " 'aydır': 189,\n",
              " 'sahip': 190,\n",
              " 'kamera': 191,\n",
              " 'çekim': 192,\n",
              " 'iphone': 193,\n",
              " 'gelen': 194,\n",
              " 'konusunda': 195,\n",
              " 'alınabilecek': 196,\n",
              " '8': 197,\n",
              " '15': 198,\n",
              " 'iş': 199,\n",
              " 'kablosu': 200,\n",
              " 'basit': 201,\n",
              " 'düşünmeden': 202,\n",
              " 'müzik': 203,\n",
              " 'pek': 204,\n",
              " 'hafıza': 205,\n",
              " 'wifi': 206,\n",
              " 'bunun': 207,\n",
              " 'yazıcı': 208,\n",
              " 'kullandım': 209,\n",
              " 'düşük': 210,\n",
              " 'oyun': 211,\n",
              " 'ev': 212,\n",
              " 'hız': 213,\n",
              " 'yazma': 214,\n",
              " 'yanında': 215,\n",
              " 'olur': 216,\n",
              " 'sürekli': 217,\n",
              " 'malzeme': 218,\n",
              " 'hala': 219,\n",
              " 'hiçbir': 220,\n",
              " 'kurulum': 221,\n",
              " 'bi̇r': 222,\n",
              " 'artık': 223,\n",
              " 'hizli': 224,\n",
              " 'bende': 225,\n",
              " 'yapıyor': 226,\n",
              " 'ele': 227,\n",
              " 'problem': 228,\n",
              " 'kullanmak': 229,\n",
              " 'alalı': 230,\n",
              " 'icin': 231,\n",
              " 'süresi': 232,\n",
              " 'günü': 233,\n",
              " 'farklı': 234,\n",
              " 'çabuk': 235,\n",
              " 'beni': 236,\n",
              " 'kamerası': 237,\n",
              " 'fena': 238,\n",
              " 'yer': 239,\n",
              " '20': 240,\n",
              " 'olmasına': 241,\n",
              " 'aldim': 242,\n",
              " 'numara': 243,\n",
              " 'duruyor': 244,\n",
              " 'varsa': 245,\n",
              " 'diyebilirim': 246,\n",
              " 'dolayı': 247,\n",
              " 'adet': 248,\n",
              " 'üründen': 249,\n",
              " 'hemde': 250,\n",
              " 'dan': 251,\n",
              " 'alabilirsiniz': 252,\n",
              " 'hb': 253,\n",
              " 'i̇ade': 254,\n",
              " 'kullandığım': 255,\n",
              " '7': 256,\n",
              " 'cihazı': 257,\n",
              " 'kullanmaya': 258,\n",
              " 'düşünüyorum': 259,\n",
              " 'batarya': 260,\n",
              " 'öncelikle': 261,\n",
              " 'yaşamadım': 262,\n",
              " 'okuma': 263,\n",
              " 'kartuş': 264,\n",
              " 'vs': 265,\n",
              " 'kablo': 266,\n",
              " 'herhangi': 267,\n",
              " 'telefona': 268,\n",
              " 'taktım': 269,\n",
              " 'ağır': 270,\n",
              " '30': 271,\n",
              " 'gönderi': 272,\n",
              " 'ekranı': 273,\n",
              " 'metal': 274,\n",
              " 'haftadır': 275,\n",
              " '16': 276,\n",
              " 'tasarımı': 277,\n",
              " 'yavaş': 278,\n",
              " 'tekrar': 279,\n",
              " 'şimdi': 280,\n",
              " 'gücü': 281,\n",
              " 'sanırım': 282,\n",
              " 'sessiz': 283,\n",
              " 'ayrı': 284,\n",
              " 'net': 285,\n",
              " 'orta': 286,\n",
              " 'alacak': 287,\n",
              " 'bellek': 288,\n",
              " 'doğru': 289,\n",
              " 'sizin': 290,\n",
              " 'yerine': 291,\n",
              " 'gerekiyor': 292,\n",
              " 'arada': 293,\n",
              " 'satın': 294,\n",
              " 'olmadı': 295,\n",
              " 'pc': 296,\n",
              " 'birlikte': 297,\n",
              " 'nokia': 298,\n",
              " 'hoş': 299,\n",
              " 'ertesi': 300,\n",
              " 'almayı': 301,\n",
              " 'evde': 302,\n",
              " 'bağlantı': 303,\n",
              " 'vardı': 304,\n",
              " 'edici': 305,\n",
              " 'veri': 306,\n",
              " 'öyle': 307,\n",
              " 'üzerinde': 308,\n",
              " 'derece': 309,\n",
              " 'yerde': 310,\n",
              " 'tatmin': 311,\n",
              " 'bilgisayar': 312,\n",
              " 'laptop': 313,\n",
              " 'çıkıyor': 314,\n",
              " 'fotoğraf': 315,\n",
              " 'plastik': 316,\n",
              " 'ince': 317,\n",
              " 'çekiyor': 318,\n",
              " 'lazım': 319,\n",
              " 'ye': 320,\n",
              " 'kere': 321,\n",
              " 'falan': 322,\n",
              " 'alışveriş': 323,\n",
              " 'bugün': 324,\n",
              " 'özellik': 325,\n",
              " 'çanta': 326,\n",
              " 'olmuş': 327,\n",
              " 'alırken': 328,\n",
              " 'fark': 329,\n",
              " 'genel': 330,\n",
              " 'hizmet': 331,\n",
              " 'yıl': 332,\n",
              " 'geç': 333,\n",
              " 'kartı': 334,\n",
              " 'a': 335,\n",
              " 'dikkat': 336,\n",
              " 'telefonda': 337,\n",
              " 'hp': 338,\n",
              " 'ön': 339,\n",
              " 'yorumlara': 340,\n",
              " 'yüzden': 341,\n",
              " 'baskı': 342,\n",
              " 'size': 343,\n",
              " 'bundan': 344,\n",
              " 'siyah': 345,\n",
              " 'belli': 346,\n",
              " 'tl': 347,\n",
              " 'degil': 348,\n",
              " 'önemli': 349,\n",
              " 'gündür': 350,\n",
              " 'sarj': 351,\n",
              " 'rahatlıkla': 352,\n",
              " 'ömrü': 353,\n",
              " 'müşteri': 354,\n",
              " 'kargoya': 355,\n",
              " 'den': 356,\n",
              " 'telefondan': 357,\n",
              " 'fazlasıyla': 358,\n",
              " 'i̇lk': 359,\n",
              " 'logitech': 360,\n",
              " 'pili': 361,\n",
              " 'tasarım': 362,\n",
              " 'baya': 363,\n",
              " 'pratik': 364,\n",
              " 'arasında': 365,\n",
              " 'yorum': 366,\n",
              " 'anda': 367,\n",
              " 'sn': 368,\n",
              " 'paraya': 369,\n",
              " 'üst': 370,\n",
              " 'zamanında': 371,\n",
              " 'tabi': 372,\n",
              " 'hatta': 373,\n",
              " 'olabilir': 374,\n",
              " 'gönül': 375,\n",
              " 'günlük': 376,\n",
              " 'mause': 377,\n",
              " 'yoksa': 378,\n",
              " 'iyisi': 379,\n",
              " 'yada': 380,\n",
              " 'an': 381,\n",
              " 'yaptım': 382,\n",
              " 'note': 383,\n",
              " 'beklediğimden': 384,\n",
              " 'arkadaşlara': 385,\n",
              " 'karar': 386,\n",
              " 'pahalı': 387,\n",
              " 'parmak': 388,\n",
              " 'üzerinden': 389,\n",
              " 'yere': 390,\n",
              " 'kutu': 391,\n",
              " 'adım': 392,\n",
              " 'kibar': 393,\n",
              " 'gece': 394,\n",
              " 'şuan': 395,\n",
              " 'video': 396,\n",
              " 'kılıf': 397,\n",
              " 'oturuyor': 398,\n",
              " 'kaç': 399,\n",
              " 'eder': 400,\n",
              " 'bütün': 401,\n",
              " 'işe': 402,\n",
              " 'geri': 403,\n",
              " 'almadan': 404,\n",
              " 'modem': 405,\n",
              " 'arama': 406,\n",
              " 'kullanımda': 407,\n",
              " 'içerisinde': 408,\n",
              " 'mb': 409,\n",
              " 'kalitesiz': 410,\n",
              " 'zamanda': 411,\n",
              " 'arka': 412,\n",
              " 'su': 413,\n",
              " '32': 414,\n",
              " 'orijinal': 415,\n",
              " 'boyutu': 416,\n",
              " 'edilir': 417,\n",
              " 'aktarım': 418,\n",
              " 'şimdilik': 419,\n",
              " 'hdd': 420,\n",
              " 'almaya': 421,\n",
              " 'alt': 422,\n",
              " 'çıkan': 423,\n",
              " 'rahatsız': 424,\n",
              " 'olmaması': 425,\n",
              " 'alıp': 426,\n",
              " 'uyku': 427,\n",
              " 'devam': 428,\n",
              " 'ergonomik': 429,\n",
              " 'denedim': 430,\n",
              " 'yanı': 431,\n",
              " 'kaçırmayın': 432,\n",
              " 'oldum': 433,\n",
              " 'altında': 434,\n",
              " 'aldık': 435,\n",
              " 'sandisk': 436,\n",
              " 'sayesinde': 437,\n",
              " 'bazen': 438,\n",
              " 'mah': 439,\n",
              " 'öneririm': 440,\n",
              " 'sıkıntısı': 441,\n",
              " 'üründe': 442,\n",
              " 'on': 443,\n",
              " 'içine': 444,\n",
              " 'tereddüt': 445,\n",
              " 'birde': 446,\n",
              " 'ilgili': 447,\n",
              " 'sinyal': 448,\n",
              " 'gitti': 449,\n",
              " 'avantaj': 450,\n",
              " 'olurdu': 451,\n",
              " 'gördüm': 452,\n",
              " 'i̇yi': 453,\n",
              " 'olumsuz': 454,\n",
              " 'şiddetle': 455,\n",
              " 'bataryası': 456,\n",
              " 'alınabilir': 457,\n",
              " 'etti': 458,\n",
              " 'olmuyor': 459,\n",
              " 'izi': 460,\n",
              " 'windows': 461,\n",
              " 'yakın': 462,\n",
              " 'kart': 463,\n",
              " 'model': 464,\n",
              " 'gelince': 465,\n",
              " 'hoşuma': 466,\n",
              " 'neredeyse': 467,\n",
              " 'görür': 468,\n",
              " 'olmayan': 469,\n",
              " 'gereken': 470,\n",
              " 'olanlar': 471,\n",
              " 'türlü': 472,\n",
              " 'buna': 473,\n",
              " 'almanızı': 474,\n",
              " 'flash': 475,\n",
              " 'yıldız': 476,\n",
              " 'tavsi̇ye': 477,\n",
              " 'görüyor': 478,\n",
              " 'kat': 479,\n",
              " 'ürüne': 480,\n",
              " 'eksik': 481,\n",
              " 'kullanan': 482,\n",
              " 'farkı': 483,\n",
              " 'full': 484,\n",
              " 'piyasada': 485,\n",
              " 'idare': 486,\n",
              " 'bilgisayarım': 487,\n",
              " 'fi': 488,\n",
              " 'etmiyorum': 489,\n",
              " 'sizi': 490,\n",
              " 'sonuç': 491,\n",
              " 'henüz': 492,\n",
              " 'alan': 493,\n",
              " 'yi': 494,\n",
              " 'başladım': 495,\n",
              " 'paketleme': 496,\n",
              " 'mevcut': 497,\n",
              " 'halde': 498,\n",
              " 'ram': 499,\n",
              " 'yıldır': 500,\n",
              " 'ürünler': 501,\n",
              " 'disk': 502,\n",
              " 'etmek': 503,\n",
              " 'uygulama': 504,\n",
              " 'görüntü': 505,\n",
              " 'android': 506,\n",
              " 'dün': 507,\n",
              " 'keşke': 508,\n",
              " 'umarım': 509,\n",
              " 'koku': 510,\n",
              " 'bilmiyorum': 511,\n",
              " 'açık': 512,\n",
              " 'saatte': 513,\n",
              " '24': 514,\n",
              " 'üstünde': 515,\n",
              " 'onu': 516,\n",
              " 'saniyede': 517,\n",
              " 'tesekkurler': 518,\n",
              " '100': 519,\n",
              " 'hepsiburadaya': 520,\n",
              " 'eksiği': 521,\n",
              " 'içinden': 522,\n",
              " 'i̇yi̇': 523,\n",
              " 'uyumlu': 524,\n",
              " 'renkli': 525,\n",
              " 'wi': 526,\n",
              " 'dayanıklı': 527,\n",
              " 'ederi̇m': 528,\n",
              " 'telefonum': 529,\n",
              " 'evin': 530,\n",
              " 'kasa': 531,\n",
              " 'tamamen': 532,\n",
              " 'kendini': 533,\n",
              " 'haricinde': 534,\n",
              " 'bluetooth': 535,\n",
              " 'üstelik': 536,\n",
              " 'inanılmaz': 537,\n",
              " 'zayıf': 538,\n",
              " 'p': 539,\n",
              " 'sağlıyor': 540,\n",
              " 'telefonla': 541,\n",
              " 'gercekten': 542,\n",
              " 'cep': 543,\n",
              " 'gps': 544,\n",
              " 'problemi': 545,\n",
              " 'yalnız': 546,\n",
              " 'asus': 547,\n",
              " 'yapmıyor': 548,\n",
              " 'olmadan': 549,\n",
              " 'birçok': 550,\n",
              " 'gore': 551,\n",
              " 'sabah': 552,\n",
              " 'kullanıyordum': 553,\n",
              " 'i': 554,\n",
              " 'prima': 555,\n",
              " 'üzerine': 556,\n",
              " 'zorunda': 557,\n",
              " 'oranı': 558,\n",
              " 'değer': 559,\n",
              " 'cihazın': 560,\n",
              " 'ışık': 561,\n",
              " 'firma': 562,\n",
              " 'bakarak': 563,\n",
              " 'etmiyor': 564,\n",
              " 'iade': 565,\n",
              " 'aşırı': 566,\n",
              " 'olduğundan': 567,\n",
              " 'çift': 568,\n",
              " 'hassas': 569,\n",
              " 'sık': 570,\n",
              " 'araç': 571,\n",
              " 'mesaj': 572,\n",
              " 'tuşu': 573,\n",
              " 'kalitesini': 574,\n",
              " 'isteyenlere': 575,\n",
              " '25': 576,\n",
              " 'buradan': 577,\n",
              " 'görmedim': 578,\n",
              " 'sene': 579,\n",
              " 'i̇adesi': 580,\n",
              " 'ortalama': 581,\n",
              " 'oda': 582,\n",
              " 'rahatlığıyla': 583,\n",
              " 'ihtiyacı': 584,\n",
              " 'olmaz': 585,\n",
              " 'bişey': 586,\n",
              " 'mutlaka': 587,\n",
              " 'önceki': 588,\n",
              " 'kısmı': 589,\n",
              " 'tak': 590,\n",
              " 'kokusu': 591,\n",
              " 'beklemeyin': 592,\n",
              " 'makul': 593,\n",
              " 'durum': 594,\n",
              " 'dk': 595,\n",
              " 'hakkını': 596,\n",
              " 'edildi': 597,\n",
              " 'donma': 598,\n",
              " 'güvenilir': 599,\n",
              " 'e': 600,\n",
              " 'f': 601,\n",
              " 'i̇çi̇n': 602,\n",
              " 'beyaz': 603,\n",
              " 'karşılıyor': 604,\n",
              " 'görünüyor': 605,\n",
              " 'hic': 606,\n",
              " 'bakımından': 607,\n",
              " 'hayal': 608,\n",
              " 'alıyorum': 609,\n",
              " 'kalıyor': 610,\n",
              " 'hale': 611,\n",
              " 'hak': 612,\n",
              " 'eksi': 613,\n",
              " 'fiyatıda': 614,\n",
              " 'istediğim': 615,\n",
              " 'internete': 616,\n",
              " 'akıllı': 617,\n",
              " 'beraber': 618,\n",
              " 'gun': 619,\n",
              " 'renk': 620,\n",
              " 'verdiğim': 621,\n",
              " 'toner': 622,\n",
              " 'geniş': 623,\n",
              " 'dış': 624,\n",
              " 'edin': 625,\n",
              " 'sistemi': 626,\n",
              " 'kullaniyorum': 627,\n",
              " 'zarif': 628,\n",
              " 'buldum': 629,\n",
              " 'olsaydı': 630,\n",
              " 'ona': 631,\n",
              " 'test': 632,\n",
              " 'çıkmadı': 633,\n",
              " 'saniye': 634,\n",
              " 'açılıyor': 635,\n",
              " 'beri': 636,\n",
              " 'yan': 637,\n",
              " 'olduğum': 638,\n",
              " 'xiaomi': 639,\n",
              " 'görüntüsü': 640,\n",
              " 'elimde': 641,\n",
              " 'dahi': 642,\n",
              " 'fare': 643,\n",
              " 'yeri': 644,\n",
              " 'olabilirdi': 645,\n",
              " 'gelmedi': 646,\n",
              " 'olacak': 647,\n",
              " 'karşı': 648,\n",
              " 'göz': 649,\n",
              " 'kendine': 650,\n",
              " 'tv': 651,\n",
              " 'akşam': 652,\n",
              " 'ucuza': 653,\n",
              " 'siparişi': 654,\n",
              " 'bilgisayara': 655,\n",
              " 'yapmak': 656,\n",
              " 'ana': 657,\n",
              " 'evet': 658,\n",
              " 'muhteşem': 659,\n",
              " 'birisi': 660,\n",
              " 'herşey': 661,\n",
              " '12': 662,\n",
              " 'sert': 663,\n",
              " 'beklediğim': 664,\n",
              " 'etmeden': 665,\n",
              " 'direk': 666,\n",
              " 'almışım': 667,\n",
              " 'ekonomik': 668,\n",
              " 'değilim': 669,\n",
              " 'mümkün': 670,\n",
              " 's': 671,\n",
              " 'olanlara': 672,\n",
              " 'isteyenler': 673,\n",
              " 'telefonumu': 674,\n",
              " 'görünce': 675,\n",
              " 'fatura': 676,\n",
              " 'gelmesi': 677,\n",
              " 'ara': 678,\n",
              " 'indirim': 679,\n",
              " 'tıklama': 680,\n",
              " 'kablolu': 681,\n",
              " 'üzerindeki': 682,\n",
              " 'sata': 683,\n",
              " 'kingston': 684,\n",
              " 'eden': 685,\n",
              " 'kulaklığı': 686,\n",
              " 'ücretsiz': 687,\n",
              " 'kullanın': 688,\n",
              " 'bır': 689,\n",
              " 'kapalı': 690,\n",
              " 'el': 691,\n",
              " 'takip': 692,\n",
              " 'yapısı': 693,\n",
              " 'film': 694,\n",
              " 'bez': 695,\n",
              " 'çekimi': 696,\n",
              " 'fiyatlı': 697,\n",
              " 'hayırlı': 698,\n",
              " 'nin': 699,\n",
              " 'türkiye': 700,\n",
              " 'içi': 701,\n",
              " 'garantili': 702,\n",
              " 'olunca': 703,\n",
              " 'koruyucu': 704,\n",
              " 'ısınma': 705,\n",
              " 'yorumları': 706,\n",
              " 'urunu': 707,\n",
              " 'sikerim': 708,\n",
              " 'anahtarlığa': 709,\n",
              " 'kırmızı': 710,\n",
              " 'uygulaması': 711,\n",
              " 'kaldı': 712,\n",
              " 'elinize': 713,\n",
              " 'fayda': 714,\n",
              " 'boyut': 715,\n",
              " 'satıcı': 716,\n",
              " 'tuş': 717,\n",
              " 'artı': 718,\n",
              " 'idi': 719,\n",
              " 'vb': 720,\n",
              " 'estetik': 721,\n",
              " 'kurdum': 722,\n",
              " 'diş': 723,\n",
              " 'herkes': 724,\n",
              " 'anca': 725,\n",
              " 'resmen': 726,\n",
              " 'kargoda': 727,\n",
              " 'kalitede': 728,\n",
              " 'yerden': 729,\n",
              " 'yinede': 730,\n",
              " 'önceden': 731,\n",
              " 'fiyatının': 732,\n",
              " 'yönü': 733,\n",
              " 'bağlantısı': 734,\n",
              " 'nabız': 735,\n",
              " 'seviyede': 736,\n",
              " 'kullanıyor': 737,\n",
              " 'uzak': 738,\n",
              " 'işinizi': 739,\n",
              " 'standart': 740,\n",
              " 'cam': 741,\n",
              " 'yazılım': 742,\n",
              " 'müthiş': 743,\n",
              " 'ışığı': 744,\n",
              " 'sonuçta': 745,\n",
              " '5800': 746,\n",
              " 'düzgün': 747,\n",
              " 'üç': 748,\n",
              " 'paket': 749,\n",
              " 'sıfır': 750,\n",
              " 'yazıyor': 751,\n",
              " 'yetersiz': 752,\n",
              " 'aktif': 753,\n",
              " 'özellikler': 754,\n",
              " 'telefonlar': 755,\n",
              " 'eşime': 756,\n",
              " 'gönderim': 757,\n",
              " 'işimi': 758,\n",
              " 'piyasadaki': 759,\n",
              " 'düşünenlere': 760,\n",
              " 'yaparken': 761,\n",
              " 'ekstra': 762,\n",
              " 'garanti': 763,\n",
              " 'kullanabilirsiniz': 764,\n",
              " 'gerekli': 765,\n",
              " 'site': 766,\n",
              " 'kargom': 767,\n",
              " 'bedava': 768,\n",
              " 'başladı': 769,\n",
              " 'konuda': 770,\n",
              " '9': 771,\n",
              " 'takılma': 772,\n",
              " '50': 773,\n",
              " 'lg': 774,\n",
              " 'olmadığı': 775,\n",
              " 'kullanırken': 776,\n",
              " 'başta': 777,\n",
              " 'ürünleri': 778,\n",
              " 'yanlış': 779,\n",
              " 'aldıktan': 780,\n",
              " 'dedim': 781,\n",
              " 'iken': 782,\n",
              " 'notebook': 783,\n",
              " 'geçen': 784,\n",
              " 'almış': 785,\n",
              " 'dolu': 786,\n",
              " 'açılış': 787,\n",
              " 'beğenmedim': 788,\n",
              " 'takıp': 789,\n",
              " 'seni': 790,\n",
              " 'kaba': 791,\n",
              " 'iyiydi': 792,\n",
              " 'otomatik': 793,\n",
              " 'tarafı': 794,\n",
              " 'ettiğim': 795,\n",
              " 'arası': 796,\n",
              " 'hepsiburadadan': 797,\n",
              " 'desteği': 798,\n",
              " 'güvenli': 799,\n",
              " 'açıkçası': 800,\n",
              " 'merhaba': 801,\n",
              " 'karşıladı': 802,\n",
              " 'yüzeyde': 803,\n",
              " 'sonunda': 804,\n",
              " 'alıyor': 805,\n",
              " 'araba': 806,\n",
              " 'alınacak': 807,\n",
              " 'yoğun': 808,\n",
              " 'verildi': 809,\n",
              " 'program': 810,\n",
              " 'üstü': 811,\n",
              " 'hakkında': 812,\n",
              " 'ek': 813,\n",
              " 'vermiyor': 814,\n",
              " 'etmem': 815,\n",
              " 'aldı': 816,\n",
              " 'diyorum': 817,\n",
              " 'olumlu': 818,\n",
              " 'kalın': 819,\n",
              " 'çoğu': 820,\n",
              " 'özelliğini': 821,\n",
              " 'dpi': 822,\n",
              " 'cevap': 823,\n",
              " 'işi': 824,\n",
              " 'internette': 825,\n",
              " 'hareket': 826,\n",
              " 'teknoloji': 827,\n",
              " 'yoktu': 828,\n",
              " 'olmasi': 829,\n",
              " 'parasını': 830,\n",
              " 'ürünle': 831,\n",
              " 'aldığımda': 832,\n",
              " 'yorumlarda': 833,\n",
              " 'verdikten': 834,\n",
              " 'modeli': 835,\n",
              " 'gösteriyor': 836,\n",
              " 'şimdiye': 837,\n",
              " 'programı': 838,\n",
              " 'malesef': 839,\n",
              " 'dakika': 840,\n",
              " 'istedim': 841,\n",
              " 'markası': 842,\n",
              " 'harici': 843,\n",
              " 'nedeniyle': 844,\n",
              " 'almayın': 845,\n",
              " 'alet': 846,\n",
              " 'alanı': 847,\n",
              " 'olanı': 848,\n",
              " 'interneti': 849,\n",
              " 'ücret': 850,\n",
              " 'çıkarıyor': 851,\n",
              " 'kampanya': 852,\n",
              " 'işletim': 853,\n",
              " 'bulmak': 854,\n",
              " 'tabiki': 855,\n",
              " 'sade': 856,\n",
              " 'dakikada': 857,\n",
              " 'hissi': 858,\n",
              " 'kapak': 859,\n",
              " 'rahatlığı': 860,\n",
              " 'kullanıma': 861,\n",
              " 'apple': 862,\n",
              " 'bekliyorum': 863,\n",
              " 'kelimeyle': 864,\n",
              " 'demek': 865,\n",
              " 'asla': 866,\n",
              " 'işte': 867,\n",
              " 'güçlü': 868,\n",
              " '5000': 869,\n",
              " 'kontrol': 870,\n",
              " 'geldiğinde': 871,\n",
              " 'rengi': 872,\n",
              " 'söyleyebilirim': 873,\n",
              " 'un': 874,\n",
              " 'ta': 875,\n",
              " 'hesaplı': 876,\n",
              " 'tşk': 877,\n",
              " 'yardımcı': 878,\n",
              " 'gereksiz': 879,\n",
              " 'olmasa': 880,\n",
              " 'verip': 881,\n",
              " 'hediyesi': 882,\n",
              " 'düştü': 883,\n",
              " 'arkadaslar': 884,\n",
              " 'd': 885,\n",
              " 'mukemmel': 886,\n",
              " 'olmazsınız': 887,\n",
              " 'olarakta': 888,\n",
              " 'kutudan': 889,\n",
              " 'arkadaşım': 890,\n",
              " 'ekranda': 891,\n",
              " 'durumda': 892,\n",
              " 'dizüstü': 893,\n",
              " 'ikinci': 894,\n",
              " 'kendim': 895,\n",
              " 'boş': 896,\n",
              " 'söz': 897,\n",
              " 'cuma': 898,\n",
              " 'diyorsanız': 899,\n",
              " 'güncelleme': 900,\n",
              " 'sürüyor': 901,\n",
              " 'ayrica': 902,\n",
              " 'kısacası': 903,\n",
              " 'piyasaya': 904,\n",
              " 'azından': 905,\n",
              " 'derecede': 906,\n",
              " 'yapılmış': 907,\n",
              " 'bilgi': 908,\n",
              " 'bilgisayarı': 909,\n",
              " 'dosya': 910,\n",
              " 'araştırdım': 911,\n",
              " 'lazer': 912,\n",
              " 'indirimli': 913,\n",
              " 'düşünen': 914,\n",
              " 'isteyen': 915,\n",
              " 'lik': 916,\n",
              " 'sd': 917,\n",
              " 'kasma': 918,\n",
              " 'ıyı': 919,\n",
              " 'oldukca': 920,\n",
              " 'buda': 921,\n",
              " 'günden': 922,\n",
              " 'girişi': 923,\n",
              " 'oluşu': 924,\n",
              " 'kullanılabilir': 925,\n",
              " 'i̇ki': 926,\n",
              " 'berbat': 927,\n",
              " 'içindeki': 928,\n",
              " 'bilgisayarın': 929,\n",
              " 'türkçe': 930,\n",
              " 'titreşim': 931,\n",
              " 'masaüstü': 932,\n",
              " 'banka': 933,\n",
              " 'insan': 934,\n",
              " 'sizden': 935,\n",
              " 'yıllık': 936,\n",
              " 'verilen': 937,\n",
              " 'oldugu': 938,\n",
              " 'yerinde': 939,\n",
              " 'paramı': 940,\n",
              " 'senin': 941,\n",
              " 'tık': 942,\n",
              " 'spor': 943,\n",
              " 'seri': 944,\n",
              " 'açma': 945,\n",
              " 'zamanla': 946,\n",
              " 'resim': 947,\n",
              " 'in': 948,\n",
              " 'herhalde': 949,\n",
              " 'mutlu': 950,\n",
              " 'dikkatli': 951,\n",
              " 'kelime': 952,\n",
              " 'kulak': 953,\n",
              " 'işlemci': 954,\n",
              " 'bitiyor': 955,\n",
              " 'stabil': 956,\n",
              " 'yana': 957,\n",
              " 'alacaklara': 958,\n",
              " 'zamandır': 959,\n",
              " 'kolayca': 960,\n",
              " 'hızlandı': 961,\n",
              " 'boyutları': 962,\n",
              " 'kendisi': 963,\n",
              " 'kopma': 964,\n",
              " 'derdi': 965,\n",
              " 'olmak': 966,\n",
              " 'seviyesi': 967,\n",
              " 'herşeyi': 968,\n",
              " 'yaptı': 969,\n",
              " 'konusu': 970,\n",
              " 'alabileceğiniz': 971,\n",
              " 'kullanıyoruz': 972,\n",
              " 'siparişim': 973,\n",
              " 'hızlıydı': 974,\n",
              " '40': 975,\n",
              " 'tavsıye': 976,\n",
              " 'ürünlere': 977,\n",
              " 'masa': 978,\n",
              " 'metre': 979,\n",
              " 'senedir': 980,\n",
              " 'toshiba': 981,\n",
              " 'kucuk': 982,\n",
              " 'bunlar': 983,\n",
              " 'kendime': 984,\n",
              " 'şeyi': 985,\n",
              " 'sıra': 986,\n",
              " 'alınır': 987,\n",
              " 'dahil': 988,\n",
              " 'veren': 989,\n",
              " 'yapmış': 990,\n",
              " 'sistem': 991,\n",
              " 'istiyorum': 992,\n",
              " 'bitti': 993,\n",
              " 'düşüyor': 994,\n",
              " 'super': 995,\n",
              " 'telefonlara': 996,\n",
              " 'siteden': 997,\n",
              " 'sekilde': 998,\n",
              " 'olup': 999,\n",
              " 'garantisi': 1000,\n",
              " ...}"
            ]
          },
          "metadata": {},
          "execution_count": 57
        }
      ],
      "source": [
        "tokenizer = Tokenizer(num_words = 10000)\n",
        "tokenizer.fit_on_texts(data)\n",
        "tokenizer.word_index"
      ]
    },
    {
      "cell_type": "code",
      "execution_count": null,
      "metadata": {
        "id": "0yB9bEHsF6sd"
      },
      "outputs": [],
      "source": [
        "\n",
        "x_train_tokens = tokenizer.texts_to_sequences(x_train)\n",
        "x_test_tokens = tokenizer.texts_to_sequences(x_test)"
      ]
    },
    {
      "cell_type": "code",
      "execution_count": null,
      "metadata": {
        "colab": {
          "base_uri": "https://localhost:8080/"
        },
        "id": "4SpQELybF-ui",
        "outputId": "69ef5f9c-8f94-4314-96a0-b48f673719b5"
      },
      "outputs": [
        {
          "output_type": "execute_result",
          "data": {
            "text/plain": [
              "[23, 3, 75]"
            ]
          },
          "metadata": {},
          "execution_count": 59
        }
      ],
      "source": [
        "x_train_tokens[300]"
      ]
    },
    {
      "cell_type": "code",
      "execution_count": null,
      "metadata": {
        "colab": {
          "base_uri": "https://localhost:8080/",
          "height": 35
        },
        "id": "5UJTOgKkGAsQ",
        "outputId": "623eb4d0-1be2-4225-d77e-5fd199fa2ad3"
      },
      "outputs": [
        {
          "output_type": "execute_result",
          "data": {
            "text/plain": [
              "'fiyata iyi süper'"
            ],
            "application/vnd.google.colaboratory.intrinsic+json": {
              "type": "string"
            }
          },
          "metadata": {},
          "execution_count": 60
        }
      ],
      "source": [
        "x_train[300]"
      ]
    },
    {
      "cell_type": "code",
      "execution_count": null,
      "metadata": {
        "id": "MtGNg3BVGAvg"
      },
      "outputs": [],
      "source": [
        "\n",
        "num_tokens = [len(tokens) for tokens in x_train_tokens + x_test_tokens]\n",
        "num_tokens = np.array(num_tokens)"
      ]
    },
    {
      "cell_type": "code",
      "execution_count": null,
      "metadata": {
        "colab": {
          "base_uri": "https://localhost:8080/"
        },
        "id": "d2gFjuUrGGLG",
        "outputId": "f94335e2-8cc4-447d-edb1-e05b34a6b6e9"
      },
      "outputs": [
        {
          "output_type": "execute_result",
          "data": {
            "text/plain": [
              "16.39641486621458"
            ]
          },
          "metadata": {},
          "execution_count": 62
        }
      ],
      "source": [
        "np.mean(num_tokens)"
      ]
    },
    {
      "cell_type": "code",
      "execution_count": null,
      "metadata": {
        "colab": {
          "base_uri": "https://localhost:8080/"
        },
        "id": "vpldhigLGGRM",
        "outputId": "a3205b82-43d1-4329-d2c7-0a618007f8ab"
      },
      "outputs": [
        {
          "output_type": "execute_result",
          "data": {
            "text/plain": [
              "233"
            ]
          },
          "metadata": {},
          "execution_count": 63
        }
      ],
      "source": [
        "np.max(num_tokens)"
      ]
    },
    {
      "cell_type": "code",
      "execution_count": null,
      "metadata": {
        "colab": {
          "base_uri": "https://localhost:8080/"
        },
        "id": "vDPp41o7GGUN",
        "outputId": "26d5cf2a-1ba3-4e0e-ad9d-d29536333b58"
      },
      "outputs": [
        {
          "output_type": "execute_result",
          "data": {
            "text/plain": [
              "52"
            ]
          },
          "metadata": {},
          "execution_count": 64
        }
      ],
      "source": [
        "\n",
        "max_tokens = np.mean(num_tokens) + 2 * np.std(num_tokens)\n",
        "max_tokens = int(max_tokens)\n",
        "max_tokens"
      ]
    },
    {
      "cell_type": "code",
      "execution_count": null,
      "metadata": {
        "colab": {
          "base_uri": "https://localhost:8080/"
        },
        "id": "pRU3toUGGGYZ",
        "outputId": "2f868f9c-898f-4c44-e709-88da5a9d9918"
      },
      "outputs": [
        {
          "output_type": "execute_result",
          "data": {
            "text/plain": [
              "0.9601534983966777"
            ]
          },
          "metadata": {},
          "execution_count": 65
        }
      ],
      "source": [
        "\n",
        "np.sum(num_tokens < max_tokens) / len(num_tokens)"
      ]
    },
    {
      "cell_type": "code",
      "execution_count": null,
      "metadata": {
        "id": "qkdJn3YqGGbQ"
      },
      "outputs": [],
      "source": [
        "\n",
        "x_train_pad = np.array(pad_sequences(x_train_tokens, maxlen=max_tokens))\n",
        "x_test_pad = np.array(pad_sequences(x_test_tokens, maxlen=max_tokens))\n"
      ]
    },
    {
      "cell_type": "code",
      "execution_count": null,
      "metadata": {
        "colab": {
          "base_uri": "https://localhost:8080/"
        },
        "id": "vnzmrjlkGTFg",
        "outputId": "958fe5b6-af8f-4874-a304-4358f5e282f1"
      },
      "outputs": [
        {
          "output_type": "execute_result",
          "data": {
            "text/plain": [
              "array([   0,    0,    0,    0,    0,    0,    0,    0,    0,    0,    0,\n",
              "          0,    0,    0,    0,    0,    0,    0,    0,    0,    0,    0,\n",
              "          0,    0,    0,    0,    0,    0,    0,    0,    0,    0,    0,\n",
              "          0,    0,  542,   10, 1832,   15, 9904, 3943,  227, 1817,  195,\n",
              "        112, 6744,  179,  689,  643,   55,   10, 2686], dtype=int32)"
            ]
          },
          "metadata": {},
          "execution_count": 67
        }
      ],
      "source": [
        "np.array(x_train_pad[3027])"
      ]
    },
    {
      "cell_type": "code",
      "execution_count": null,
      "metadata": {
        "colab": {
          "base_uri": "https://localhost:8080/"
        },
        "id": "PHOAafVTGTIL",
        "outputId": "55ce56f7-0ba8-4298-9b9d-7e5ced7f0e24"
      },
      "outputs": [
        {
          "output_type": "execute_result",
          "data": {
            "text/plain": [
              "array([   0,    0,    0,    0,    0,    0,    0,    0,    0,    0,    0,\n",
              "          0,    0,    0,    0,    0,    0,    0,    0,    0,    0,    0,\n",
              "          0,    0,    0,    0,    0,    0,    0,    0,    0,    0,    0,\n",
              "          0,    0,    0,    2,   49,   32,   58,   14,   61,   45, 5251,\n",
              "        529,  194,  183,  686, 3113,   56,    3,  123], dtype=int32)"
            ]
          },
          "metadata": {},
          "execution_count": 68
        }
      ],
      "source": [
        "x_test_pad[2000]"
      ]
    },
    {
      "cell_type": "code",
      "execution_count": null,
      "metadata": {
        "id": "VJ5J9tlbGTKu"
      },
      "outputs": [],
      "source": [
        "\n",
        "idx = tokenizer.word_index\n",
        "inverse_map = dict(zip(idx.values(), idx.keys()))\n",
        "\n",
        "\n",
        "def tokens_to_string(tokens):\n",
        "    words = [inverse_map[token] for token in tokens if token!=0]\n",
        "    text = ' '.join(words)\n",
        "    return text"
      ]
    },
    {
      "cell_type": "code",
      "execution_count": null,
      "metadata": {
        "id": "ENghZnzzGTM7"
      },
      "outputs": [],
      "source": [
        "import tensorflow as tf\n",
        "from tensorflow import keras\n",
        "from tensorflow.keras import layers\n",
        "#ardışık bir model\n",
        "model =Sequential()\n",
        "\n",
        "embedding_size = 50\n",
        "\n",
        "\n",
        "model.add(Embedding(input_dim=10000,\n",
        "                    output_dim=embedding_size,\n",
        "                    input_length=max_tokens,\n",
        "                    name='embedding_layer'))"
      ]
    },
    {
      "cell_type": "code",
      "execution_count": null,
      "metadata": {
        "id": "68NBUjkFHCUF",
        "colab": {
          "base_uri": "https://localhost:8080/"
        },
        "outputId": "70c78d3b-c596-4a0f-d6a3-58e032f200e5"
      },
      "outputs": [
        {
          "output_type": "stream",
          "name": "stdout",
          "text": [
            "Requirement already satisfied: tensorflow==2.2.0rc2 in /usr/local/lib/python3.7/dist-packages (2.2.0rc2)\n",
            "Requirement already satisfied: scipy==1.4.1 in /usr/local/lib/python3.7/dist-packages (from tensorflow==2.2.0rc2) (1.4.1)\n",
            "Requirement already satisfied: tensorboard<2.3.0,>=2.2.0 in /usr/local/lib/python3.7/dist-packages (from tensorflow==2.2.0rc2) (2.2.2)\n",
            "Requirement already satisfied: wheel>=0.26 in /usr/local/lib/python3.7/dist-packages (from tensorflow==2.2.0rc2) (0.37.1)\n",
            "Requirement already satisfied: termcolor>=1.1.0 in /usr/local/lib/python3.7/dist-packages (from tensorflow==2.2.0rc2) (1.1.0)\n",
            "Requirement already satisfied: numpy<2.0,>=1.16.0 in /usr/local/lib/python3.7/dist-packages (from tensorflow==2.2.0rc2) (1.21.5)\n",
            "Requirement already satisfied: wrapt>=1.11.1 in /usr/local/lib/python3.7/dist-packages (from tensorflow==2.2.0rc2) (1.14.0)\n",
            "Requirement already satisfied: grpcio>=1.8.6 in /usr/local/lib/python3.7/dist-packages (from tensorflow==2.2.0rc2) (1.44.0)\n",
            "Requirement already satisfied: tensorflow-estimator<2.3.0,>=2.2.0rc0 in /usr/local/lib/python3.7/dist-packages (from tensorflow==2.2.0rc2) (2.2.0)\n",
            "Requirement already satisfied: keras-preprocessing>=1.1.0 in /usr/local/lib/python3.7/dist-packages (from tensorflow==2.2.0rc2) (1.1.2)\n",
            "Requirement already satisfied: gast==0.3.3 in /usr/local/lib/python3.7/dist-packages (from tensorflow==2.2.0rc2) (0.3.3)\n",
            "Requirement already satisfied: protobuf>=3.8.0 in /usr/local/lib/python3.7/dist-packages (from tensorflow==2.2.0rc2) (3.17.3)\n",
            "Requirement already satisfied: h5py<2.11.0,>=2.10.0 in /usr/local/lib/python3.7/dist-packages (from tensorflow==2.2.0rc2) (2.10.0)\n",
            "Requirement already satisfied: opt-einsum>=2.3.2 in /usr/local/lib/python3.7/dist-packages (from tensorflow==2.2.0rc2) (3.3.0)\n",
            "Requirement already satisfied: absl-py>=0.7.0 in /usr/local/lib/python3.7/dist-packages (from tensorflow==2.2.0rc2) (1.0.0)\n",
            "Requirement already satisfied: google-pasta>=0.1.8 in /usr/local/lib/python3.7/dist-packages (from tensorflow==2.2.0rc2) (0.2.0)\n",
            "Requirement already satisfied: six>=1.12.0 in /usr/local/lib/python3.7/dist-packages (from tensorflow==2.2.0rc2) (1.15.0)\n",
            "Requirement already satisfied: astunparse==1.6.3 in /usr/local/lib/python3.7/dist-packages (from tensorflow==2.2.0rc2) (1.6.3)\n",
            "Requirement already satisfied: tensorboard-plugin-wit>=1.6.0 in /usr/local/lib/python3.7/dist-packages (from tensorboard<2.3.0,>=2.2.0->tensorflow==2.2.0rc2) (1.8.1)\n",
            "Requirement already satisfied: google-auth-oauthlib<0.5,>=0.4.1 in /usr/local/lib/python3.7/dist-packages (from tensorboard<2.3.0,>=2.2.0->tensorflow==2.2.0rc2) (0.4.6)\n",
            "Requirement already satisfied: markdown>=2.6.8 in /usr/local/lib/python3.7/dist-packages (from tensorboard<2.3.0,>=2.2.0->tensorflow==2.2.0rc2) (3.3.6)\n",
            "Requirement already satisfied: werkzeug>=0.11.15 in /usr/local/lib/python3.7/dist-packages (from tensorboard<2.3.0,>=2.2.0->tensorflow==2.2.0rc2) (1.0.1)\n",
            "Requirement already satisfied: requests<3,>=2.21.0 in /usr/local/lib/python3.7/dist-packages (from tensorboard<2.3.0,>=2.2.0->tensorflow==2.2.0rc2) (2.23.0)\n",
            "Requirement already satisfied: google-auth<2,>=1.6.3 in /usr/local/lib/python3.7/dist-packages (from tensorboard<2.3.0,>=2.2.0->tensorflow==2.2.0rc2) (1.35.0)\n",
            "Requirement already satisfied: setuptools>=41.0.0 in /usr/local/lib/python3.7/dist-packages (from tensorboard<2.3.0,>=2.2.0->tensorflow==2.2.0rc2) (57.4.0)\n",
            "Requirement already satisfied: rsa<5,>=3.1.4 in /usr/local/lib/python3.7/dist-packages (from google-auth<2,>=1.6.3->tensorboard<2.3.0,>=2.2.0->tensorflow==2.2.0rc2) (4.8)\n",
            "Requirement already satisfied: cachetools<5.0,>=2.0.0 in /usr/local/lib/python3.7/dist-packages (from google-auth<2,>=1.6.3->tensorboard<2.3.0,>=2.2.0->tensorflow==2.2.0rc2) (4.2.4)\n",
            "Requirement already satisfied: pyasn1-modules>=0.2.1 in /usr/local/lib/python3.7/dist-packages (from google-auth<2,>=1.6.3->tensorboard<2.3.0,>=2.2.0->tensorflow==2.2.0rc2) (0.2.8)\n",
            "Requirement already satisfied: requests-oauthlib>=0.7.0 in /usr/local/lib/python3.7/dist-packages (from google-auth-oauthlib<0.5,>=0.4.1->tensorboard<2.3.0,>=2.2.0->tensorflow==2.2.0rc2) (1.3.1)\n",
            "Requirement already satisfied: importlib-metadata>=4.4 in /usr/local/lib/python3.7/dist-packages (from markdown>=2.6.8->tensorboard<2.3.0,>=2.2.0->tensorflow==2.2.0rc2) (4.11.3)\n",
            "Requirement already satisfied: typing-extensions>=3.6.4 in /usr/local/lib/python3.7/dist-packages (from importlib-metadata>=4.4->markdown>=2.6.8->tensorboard<2.3.0,>=2.2.0->tensorflow==2.2.0rc2) (3.10.0.2)\n",
            "Requirement already satisfied: zipp>=0.5 in /usr/local/lib/python3.7/dist-packages (from importlib-metadata>=4.4->markdown>=2.6.8->tensorboard<2.3.0,>=2.2.0->tensorflow==2.2.0rc2) (3.7.0)\n",
            "Requirement already satisfied: pyasn1<0.5.0,>=0.4.6 in /usr/local/lib/python3.7/dist-packages (from pyasn1-modules>=0.2.1->google-auth<2,>=1.6.3->tensorboard<2.3.0,>=2.2.0->tensorflow==2.2.0rc2) (0.4.8)\n",
            "Requirement already satisfied: chardet<4,>=3.0.2 in /usr/local/lib/python3.7/dist-packages (from requests<3,>=2.21.0->tensorboard<2.3.0,>=2.2.0->tensorflow==2.2.0rc2) (3.0.4)\n",
            "Requirement already satisfied: certifi>=2017.4.17 in /usr/local/lib/python3.7/dist-packages (from requests<3,>=2.21.0->tensorboard<2.3.0,>=2.2.0->tensorflow==2.2.0rc2) (2021.10.8)\n",
            "Requirement already satisfied: urllib3!=1.25.0,!=1.25.1,<1.26,>=1.21.1 in /usr/local/lib/python3.7/dist-packages (from requests<3,>=2.21.0->tensorboard<2.3.0,>=2.2.0->tensorflow==2.2.0rc2) (1.24.3)\n",
            "Requirement already satisfied: idna<3,>=2.5 in /usr/local/lib/python3.7/dist-packages (from requests<3,>=2.21.0->tensorboard<2.3.0,>=2.2.0->tensorflow==2.2.0rc2) (2.10)\n",
            "Requirement already satisfied: oauthlib>=3.0.0 in /usr/local/lib/python3.7/dist-packages (from requests-oauthlib>=0.7.0->google-auth-oauthlib<0.5,>=0.4.1->tensorboard<2.3.0,>=2.2.0->tensorflow==2.2.0rc2) (3.2.0)\n",
            "Requirement already satisfied: keras==2.2.4 in /usr/local/lib/python3.7/dist-packages (2.2.4)\n",
            "Requirement already satisfied: keras-preprocessing>=1.0.5 in /usr/local/lib/python3.7/dist-packages (from keras==2.2.4) (1.1.2)\n",
            "Requirement already satisfied: numpy>=1.9.1 in /usr/local/lib/python3.7/dist-packages (from keras==2.2.4) (1.21.5)\n",
            "Requirement already satisfied: six>=1.9.0 in /usr/local/lib/python3.7/dist-packages (from keras==2.2.4) (1.15.0)\n",
            "Requirement already satisfied: h5py in /usr/local/lib/python3.7/dist-packages (from keras==2.2.4) (2.10.0)\n",
            "Requirement already satisfied: scipy>=0.14 in /usr/local/lib/python3.7/dist-packages (from keras==2.2.4) (1.4.1)\n",
            "Requirement already satisfied: keras-applications>=1.0.6 in /usr/local/lib/python3.7/dist-packages (from keras==2.2.4) (1.0.8)\n",
            "Requirement already satisfied: pyyaml in /usr/local/lib/python3.7/dist-packages (from keras==2.2.4) (3.13)\n"
          ]
        }
      ],
      "source": [
        "!pip install tensorflow==2.2.0rc2\n",
        "!pip install keras==2.2.4"
      ]
    },
    {
      "cell_type": "code",
      "execution_count": null,
      "metadata": {
        "id": "5hiYjACWGTPw"
      },
      "outputs": [],
      "source": [
        "\n",
        "model.add(LSTM(units=16, return_sequences=True))\n",
        "\n",
        "model.add(LSTM(units=8, return_sequences=True))\n",
        "\n",
        "model.add(LSTM(units=4))\n",
        "\n",
        "model.add(Dense(1, activation='sigmoid'))"
      ]
    },
    {
      "cell_type": "code",
      "execution_count": null,
      "metadata": {
        "id": "rE5xURG1MV99"
      },
      "outputs": [],
      "source": [
        "\n",
        "\n",
        "adam = keras.optimizers.Adam(learning_rate=0.0001)\n",
        "\n",
        "model.compile(loss='binary_crossentropy',\n",
        "              optimizer='adam',\n",
        "              metrics=['accuracy'])"
      ]
    },
    {
      "cell_type": "code",
      "execution_count": null,
      "metadata": {
        "colab": {
          "base_uri": "https://localhost:8080/"
        },
        "id": "kt7BQK66MPAq",
        "outputId": "98df7ea1-8856-4c22-a3fe-dd0baaf2cfab"
      },
      "outputs": [
        {
          "output_type": "stream",
          "name": "stdout",
          "text": [
            "Model: \"sequential_1\"\n",
            "_________________________________________________________________\n",
            "Layer (type)                 Output Shape              Param #   \n",
            "=================================================================\n",
            "embedding_layer (Embedding)  (None, 52, 50)            500000    \n",
            "_________________________________________________________________\n",
            "lstm_3 (LSTM)                (None, 52, 16)            4288      \n",
            "_________________________________________________________________\n",
            "lstm_4 (LSTM)                (None, 52, 8)             800       \n",
            "_________________________________________________________________\n",
            "lstm_5 (LSTM)                (None, 4)                 208       \n",
            "_________________________________________________________________\n",
            "dense_1 (Dense)              (None, 1)                 5         \n",
            "=================================================================\n",
            "Total params: 505,301\n",
            "Trainable params: 505,301\n",
            "Non-trainable params: 0\n",
            "_________________________________________________________________\n"
          ]
        }
      ],
      "source": [
        "model.summary()"
      ]
    },
    {
      "cell_type": "code",
      "execution_count": null,
      "metadata": {
        "colab": {
          "base_uri": "https://localhost:8080/"
        },
        "id": "Wzh5gGypGTSn",
        "outputId": "8fea0dc3-88fc-43cc-899e-848e58851f87"
      },
      "outputs": [
        {
          "output_type": "stream",
          "name": "stdout",
          "text": [
            "Epoch 1/5\n",
            "WARNING:tensorflow:AutoGraph could not transform <function Model.make_train_function.<locals>.train_function at 0x7f9ca4519560> and will run it as-is.\n",
            "Please report this to the TensorFlow team. When filing the bug, set the verbosity to 10 (on Linux, `export AUTOGRAPH_VERBOSITY=10`) and attach the full output.\n",
            "Cause: closure mismatch, requested ('self', 'step_function'), but source function had ()\n",
            "To silence this warning, decorate the function with @tf.autograph.experimental.do_not_convert\n",
            "WARNING: AutoGraph could not transform <function Model.make_train_function.<locals>.train_function at 0x7f9ca4519560> and will run it as-is.\n",
            "Please report this to the TensorFlow team. When filing the bug, set the verbosity to 10 (on Linux, `export AUTOGRAPH_VERBOSITY=10`) and attach the full output.\n",
            "Cause: closure mismatch, requested ('self', 'step_function'), but source function had ()\n",
            "To silence this warning, decorate the function with @tf.autograph.experimental.do_not_convert\n",
            "179/179 [==============================] - ETA: 0s - loss: 0.4875 - accuracy: 0.7969WARNING:tensorflow:AutoGraph could not transform <function Model.make_test_function.<locals>.test_function at 0x7f9ca4526e60> and will run it as-is.\n",
            "Please report this to the TensorFlow team. When filing the bug, set the verbosity to 10 (on Linux, `export AUTOGRAPH_VERBOSITY=10`) and attach the full output.\n",
            "Cause: closure mismatch, requested ('self', 'step_function'), but source function had ()\n",
            "To silence this warning, decorate the function with @tf.autograph.experimental.do_not_convert\n",
            "WARNING: AutoGraph could not transform <function Model.make_test_function.<locals>.test_function at 0x7f9ca4526e60> and will run it as-is.\n",
            "Please report this to the TensorFlow team. When filing the bug, set the verbosity to 10 (on Linux, `export AUTOGRAPH_VERBOSITY=10`) and attach the full output.\n",
            "Cause: closure mismatch, requested ('self', 'step_function'), but source function had ()\n",
            "To silence this warning, decorate the function with @tf.autograph.experimental.do_not_convert\n",
            "179/179 [==============================] - 62s 275ms/step - loss: 0.4875 - accuracy: 0.7969 - val_loss: 0.3270 - val_accuracy: 0.8920\n",
            "Epoch 2/5\n",
            "179/179 [==============================] - 27s 149ms/step - loss: 0.2364 - accuracy: 0.9273 - val_loss: 0.2271 - val_accuracy: 0.9235\n",
            "Epoch 3/5\n",
            "179/179 [==============================] - 26s 147ms/step - loss: 0.1262 - accuracy: 0.9664 - val_loss: 0.2216 - val_accuracy: 0.9259\n",
            "Epoch 4/5\n",
            "179/179 [==============================] - 27s 152ms/step - loss: 0.0781 - accuracy: 0.9822 - val_loss: 0.2257 - val_accuracy: 0.9261\n",
            "Epoch 5/5\n",
            "179/179 [==============================] - 32s 181ms/step - loss: 0.0525 - accuracy: 0.9882 - val_loss: 0.2469 - val_accuracy: 0.9248\n"
          ]
        }
      ],
      "source": [
        "\n",
        "x_train_pad=np.array(x_train_pad)\n",
        "y_train =np.array(y_train)\n",
        "\n",
        "history = model.fit(x_train_pad, y_train, epochs=5, batch_size=64,validation_split=0.25)"
      ]
    },
    {
      "cell_type": "code",
      "execution_count": null,
      "metadata": {
        "id": "eDIEy0mVjC2i"
      },
      "outputs": [],
      "source": [
        "model.save(\"sentiment_model.h5\")"
      ]
    },
    {
      "cell_type": "code",
      "execution_count": null,
      "metadata": {
        "colab": {
          "base_uri": "https://localhost:8080/"
        },
        "id": "Yrz_e-JljEq8",
        "outputId": "ad271280-984e-4244-9c6a-ec107f84c706"
      },
      "outputs": [
        {
          "output_type": "stream",
          "name": "stdout",
          "text": [
            "119/119 [==============================] - 3s 22ms/step - loss: 0.2555 - accuracy: 0.9206\n"
          ]
        }
      ],
      "source": [
        "\n",
        "x_test_pad=np.array(x_test_pad)\n",
        "y_test =np.array(y_test)\n",
        "result = model.evaluate(x_test_pad, y_test)"
      ]
    },
    {
      "cell_type": "code",
      "execution_count": null,
      "metadata": {
        "colab": {
          "base_uri": "https://localhost:8080/"
        },
        "id": "J0YEVVgvjWaZ",
        "outputId": "553de458-ff77-4ace-cdb9-e77677e95ad7"
      },
      "outputs": [
        {
          "output_type": "execute_result",
          "data": {
            "text/plain": [
              "0.9206307530403137"
            ]
          },
          "metadata": {},
          "execution_count": 78
        }
      ],
      "source": [
        "result[1]"
      ]
    },
    {
      "cell_type": "code",
      "execution_count": null,
      "metadata": {
        "colab": {
          "base_uri": "https://localhost:8080/"
        },
        "id": "6_WIJgqxjWdT",
        "outputId": "b5befb1c-db5a-4ee1-c464-ba14403bb23a"
      },
      "outputs": [
        {
          "output_type": "stream",
          "name": "stdout",
          "text": [
            "WARNING:tensorflow:AutoGraph could not transform <function Model.make_predict_function.<locals>.predict_function at 0x7f9ca451ae60> and will run it as-is.\n",
            "Please report this to the TensorFlow team. When filing the bug, set the verbosity to 10 (on Linux, `export AUTOGRAPH_VERBOSITY=10`) and attach the full output.\n",
            "Cause: closure mismatch, requested ('self', 'step_function'), but source function had ()\n",
            "To silence this warning, decorate the function with @tf.autograph.experimental.do_not_convert\n",
            "WARNING: AutoGraph could not transform <function Model.make_predict_function.<locals>.predict_function at 0x7f9ca451ae60> and will run it as-is.\n",
            "Please report this to the TensorFlow team. When filing the bug, set the verbosity to 10 (on Linux, `export AUTOGRAPH_VERBOSITY=10`) and attach the full output.\n",
            "Cause: closure mismatch, requested ('self', 'step_function'), but source function had ()\n",
            "To silence this warning, decorate the function with @tf.autograph.experimental.do_not_convert\n"
          ]
        },
        {
          "output_type": "stream",
          "name": "stderr",
          "text": [
            "/usr/local/lib/python3.7/dist-packages/tensorflow/python/keras/engine/sequential.py:454: UserWarning: `model.predict_classes()` is deprecated and will be removed after 2021-01-01. Please use instead:* `np.argmax(model.predict(x), axis=-1)`,   if your model does multi-class classification   (e.g. if it uses a `softmax` last-layer activation).* `(model.predict(x) > 0.5).astype(\"int32\")`,   if your model does binary classification   (e.g. if it uses a `sigmoid` last-layer activation).\n"
          ]
        }
      ],
      "source": [
        "y_pred = model.predict_classes(x=x_test_pad[:700])\n"
      ]
    },
    {
      "cell_type": "code",
      "execution_count": null,
      "metadata": {
        "id": "wAY6P8objWf1"
      },
      "outputs": [],
      "source": [
        "y_pred = y_pred.T[0]"
      ]
    },
    {
      "cell_type": "code",
      "execution_count": null,
      "metadata": {
        "colab": {
          "base_uri": "https://localhost:8080/"
        },
        "id": "AC7sko4FjEth",
        "outputId": "c47cc0ff-045a-4b41-a944-b327bd281f9d"
      },
      "outputs": [
        {
          "output_type": "execute_result",
          "data": {
            "text/plain": [
              "array([1, 0, 0, 0, 1, 1, 0, 1, 1, 1, 1, 0, 1, 0, 0, 0, 1, 1, 1, 1, 1, 1,\n",
              "       0, 1, 1, 1, 1, 1, 0, 1, 1, 1, 1, 1, 1, 0, 1, 1, 1, 1, 1, 0, 0, 1,\n",
              "       1, 1, 1, 0, 1, 1, 1, 0, 1, 1, 1, 0, 0, 1, 0, 0, 1, 0, 1, 0, 1, 1,\n",
              "       0, 1, 0, 1, 0, 1, 1, 0, 0, 1, 0, 0, 1, 1, 1, 1, 1, 1, 1, 1, 1, 1,\n",
              "       1, 1, 0, 1, 1, 1, 1, 0, 1, 1, 0, 1, 1, 1, 1, 1, 0, 1, 1, 0, 1, 0,\n",
              "       1, 1, 1, 1, 1, 1, 1, 1, 0, 0, 1, 1, 1, 1, 1, 1, 0, 0, 0, 0, 0, 1,\n",
              "       1, 0, 1, 1, 1, 0, 0, 1, 1, 1, 1, 1, 1, 1, 1, 1, 1, 1, 0, 1, 1, 1,\n",
              "       1, 0, 0, 1, 1, 1, 1, 1, 1, 0, 1, 1, 1, 0, 1, 1, 1, 1, 0, 1, 1, 1,\n",
              "       1, 1, 1, 1, 0, 0, 0, 0, 1, 1, 0, 1, 1, 1, 1, 1, 1, 0, 1, 0, 1, 0,\n",
              "       1, 0, 1, 0, 1, 1, 1, 0, 1, 1, 0, 1, 1, 1, 1, 1, 1, 1, 1, 1, 1, 1,\n",
              "       0, 1, 1, 1, 0, 1, 0, 0, 1, 1, 1, 1, 1, 1, 0, 1, 1, 1, 1, 1, 1, 1,\n",
              "       0, 1, 1, 1, 1, 1, 1, 1, 1, 1, 1, 1, 1, 1, 1, 1, 0, 1, 1, 0, 1, 1,\n",
              "       1, 1, 1, 0, 1, 0, 1, 1, 1, 1, 1, 1, 0, 1, 1, 1, 0, 0, 1, 1, 1, 1,\n",
              "       0, 1, 1, 0, 0, 1, 1, 0, 1, 1, 1, 1, 1, 1, 1, 0, 0, 1, 1, 1, 0, 1,\n",
              "       1, 1, 0, 1, 1, 0, 0, 0, 1, 0, 1, 1, 1, 1, 0, 0, 0, 1, 1, 1, 0, 1,\n",
              "       1, 0, 1, 1, 1, 1, 0, 1, 0, 1, 1, 1, 1, 1, 1, 0, 1, 1, 1, 1, 0, 1,\n",
              "       1, 0, 1, 1, 0, 0, 0, 0, 1, 0, 1, 0, 1, 1, 0, 1, 1, 1, 0, 1, 1, 1,\n",
              "       1, 1, 1, 1, 0, 1, 0, 1, 1, 0, 1, 1, 1, 1, 1, 0, 1, 1, 1, 1, 0, 1,\n",
              "       1, 0, 1, 1, 1, 1, 0, 1, 1, 1, 0, 0, 1, 1, 0, 0, 1, 1, 1, 0, 0, 1,\n",
              "       1, 1, 1, 1, 1, 1, 1, 1, 1, 1, 1, 1, 1, 1, 0, 1, 0, 1, 1, 0, 0, 1,\n",
              "       1, 1, 1, 1, 1, 1, 1, 1, 1, 1, 0, 0, 1, 0, 1, 0, 1, 1, 1, 1, 1, 1,\n",
              "       1, 1, 1, 1, 0, 0, 1, 0, 0, 1, 1, 1, 0, 1, 1, 1, 1, 1, 1, 1, 1, 0,\n",
              "       1, 1, 0, 1, 0, 1, 0, 1, 1, 0, 1, 0, 1, 1, 1, 1, 1, 1, 1, 1, 1, 1,\n",
              "       1, 1, 0, 1, 0, 1, 0, 1, 1, 1, 1, 1, 0, 1, 0, 1, 1, 1, 1, 1, 1, 1,\n",
              "       1, 1, 1, 1, 0, 1, 0, 1, 1, 1, 1, 0, 1, 0, 0, 1, 1, 0, 1, 0, 0, 1,\n",
              "       1, 1, 0, 1, 1, 1, 0, 1, 1, 1, 1, 1, 1, 1, 1, 0, 1, 1, 1, 1, 1, 0,\n",
              "       1, 1, 0, 1, 1, 1, 1, 0, 1, 1, 1, 1, 1, 1, 1, 0, 1, 1, 1, 1, 1, 1,\n",
              "       1, 1, 1, 0, 1, 0, 1, 1, 1, 1, 1, 1, 0, 1, 1, 1, 1, 1, 1, 1, 1, 1,\n",
              "       0, 1, 0, 0, 0, 0, 1, 1, 1, 1, 1, 1, 0, 1, 1, 1, 0, 0, 1, 0, 0, 0,\n",
              "       1, 0, 0, 0, 1, 1, 1, 1, 1, 1, 1, 1, 1, 1, 0, 1, 1, 1, 1, 0, 1, 1,\n",
              "       0, 1, 1, 1, 0, 1, 1, 0, 0, 1, 1, 0, 1, 1, 1, 1, 1, 1, 1, 1, 1, 0,\n",
              "       0, 1, 1, 1, 1, 1, 1, 1, 1, 1, 1, 1, 1, 1, 1, 1, 1, 0], dtype=int32)"
            ]
          },
          "metadata": {},
          "execution_count": 81
        }
      ],
      "source": [
        "y_pred"
      ]
    },
    {
      "cell_type": "code",
      "execution_count": null,
      "metadata": {
        "id": "XgeMDFjsjcqw"
      },
      "outputs": [],
      "source": [
        "text = \"katılıyorum\"\n",
        "texts = [text]\n",
        "tokens = tokenizer.texts_to_sequences(texts)"
      ]
    },
    {
      "cell_type": "code",
      "execution_count": null,
      "metadata": {
        "colab": {
          "base_uri": "https://localhost:8080/"
        },
        "id": "LO_Lfv7mjctg",
        "outputId": "f1672d1d-1a50-4f2b-9386-fd79a16897c4"
      },
      "outputs": [
        {
          "output_type": "execute_result",
          "data": {
            "text/plain": [
              "(1, 52)"
            ]
          },
          "metadata": {},
          "execution_count": 83
        }
      ],
      "source": [
        "tokens_pad = pad_sequences(tokens,maxlen = max_tokens)\n",
        "tokens_pad.shape"
      ]
    },
    {
      "cell_type": "code",
      "execution_count": null,
      "metadata": {
        "colab": {
          "base_uri": "https://localhost:8080/"
        },
        "id": "1n8n_icUjcv4",
        "outputId": "352426a0-04d2-40c8-cc4b-de66d46291e0"
      },
      "outputs": [
        {
          "output_type": "stream",
          "name": "stdout",
          "text": [
            "moralinizin 0 olduğunu görüyorum. \n"
          ]
        },
        {
          "output_type": "stream",
          "name": "stderr",
          "text": [
            "/usr/local/lib/python3.7/dist-packages/tensorflow/python/keras/engine/sequential.py:454: UserWarning: `model.predict_classes()` is deprecated and will be removed after 2021-01-01. Please use instead:* `np.argmax(model.predict(x), axis=-1)`,   if your model does multi-class classification   (e.g. if it uses a `softmax` last-layer activation).* `(model.predict(x) > 0.5).astype(\"int32\")`,   if your model does binary classification   (e.g. if it uses a `sigmoid` last-layer activation).\n"
          ]
        }
      ],
      "source": [
        "print(\"moralinizin {} olduğunu görüyorum. \".format(model.predict_classes(tokens_pad).tolist()[0][0]))\n"
      ]
    },
    {
      "cell_type": "code",
      "execution_count": null,
      "metadata": {
        "colab": {
          "base_uri": "https://localhost:8080/",
          "height": 621
        },
        "id": "tvKq_1gXjcyn",
        "outputId": "dbe8e2f1-3de6-42f6-99e9-65bf8eef818b"
      },
      "outputs": [
        {
          "output_type": "display_data",
          "data": {
            "text/plain": [
              "<Figure size 1080x720 with 1 Axes>"
            ],
            "image/png": "[encoded data removed]"
          },
          "metadata": {
            "needs_background": "light"
          }
        }
      ],
      "source": [
        "plt.figure(figsize = (15,10))\n",
        "plt.plot(history.history['loss'])\n",
        "plt.plot(history.history['val_loss'])\n",
        "plt.title('Model loss')\n",
        "plt.ylabel('Loss')\n",
        "plt.xlabel('Epoch')\n",
        "plt.legend(['Train', 'Test'], loc='upper left')\n",
        "plt.show()"
      ]
    },
    {
      "cell_type": "code",
      "execution_count": null,
      "metadata": {
        "colab": {
          "base_uri": "https://localhost:8080/",
          "height": 621
        },
        "id": "g-coQKrEkz5D",
        "outputId": "6fa9ba52-5915-41b5-b9c8-f0e813660849"
      },
      "outputs": [
        {
          "output_type": "display_data",
          "data": {
            "text/plain": [
              "<Figure size 1080x720 with 1 Axes>"
            ],
            "image/png": "[encoded data removed]"
          },
          "metadata": {
            "needs_background": "light"
          }
        }
      ],
      "source": [
        "import matplotlib.pyplot as plt\n",
        "plt.figure(figsize = (15,10))\n",
        "plt.plot(history.history['accuracy'])\n",
        "plt.plot(history.history['val_accuracy'])\n",
        "plt.title('Model accuracy')\n",
        "plt.ylabel('Accuracy')\n",
        "plt.xlabel('Epoch')\n",
        "plt.legend(['Train', 'Test'], loc='upper left')\n",
        "plt.show()"
      ]
    },
    {
      "cell_type": "markdown",
      "metadata": {
        "id": "bAaGF_g0DiLH"
      },
      "source": [
        "# Yeni Bölüm"
      ]
    },
    {
      "cell_type": "markdown",
      "metadata": {
        "id": "-Flm0vp169Qh"
      },
      "source": [
        ""
      ]
    }
  ],
  "metadata": {
    "colab": {
      "collapsed_sections": [],
      "name": "deepLearning.ipynb",
      "provenance": [],
      "include_colab_link": true
    },
    "kernelspec": {
      "display_name": "Python 3",
      "name": "python3"
    },
    "language_info": {
      "name": "python"
    }
  },
  "nbformat": 4,
  "nbformat_minor": 0
}