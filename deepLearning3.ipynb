{
  "cells": [
    {
      "cell_type": "markdown",
      "metadata": {
        "id": "view-in-github",
        "colab_type": "text"
      },
      "source": [
        "<a href=\"https://colab.research.google.com/github/SeymaNurAksoy/CurrencyConverterApp/blob/main/deepLearning3.ipynb\" target=\"_parent\"><img src=\"https://colab.research.google.com/assets/colab-badge.svg\" alt=\"Open In Colab\"/></a>"
      ]
    },
    {
      "cell_type": "code",
      "execution_count": 1,
      "metadata": {
        "id": "G8Lw0D3SAwG_",
        "colab": {
          "base_uri": "https://localhost:8080/"
        },
        "outputId": "1bdbebb2-8b17-4f07-a721-eb3d341137e8"
      },
      "outputs": [
        {
          "output_type": "stream",
          "name": "stdout",
          "text": [
            "[nltk_data] Downloading package punkt to /root/nltk_data...\n",
            "[nltk_data]   Package punkt is already up-to-date!\n",
            "[nltk_data] Downloading package stopwords to /root/nltk_data...\n",
            "[nltk_data]   Package stopwords is already up-to-date!\n"
          ]
        },
        {
          "output_type": "execute_result",
          "data": {
            "text/plain": [
              "['acaba',\n",
              " 'ama',\n",
              " 'aslında',\n",
              " 'az',\n",
              " 'bazı',\n",
              " 'belki',\n",
              " 'biri',\n",
              " 'birkaç',\n",
              " 'birşey',\n",
              " 'biz',\n",
              " 'bu',\n",
              " 'çok',\n",
              " 'çünkü',\n",
              " 'da',\n",
              " 'daha',\n",
              " 'de',\n",
              " 'defa',\n",
              " 'diye',\n",
              " 'eğer',\n",
              " 'en',\n",
              " 'gibi',\n",
              " 'hem',\n",
              " 'hep',\n",
              " 'hepsi',\n",
              " 'her',\n",
              " 'hiç',\n",
              " 'için',\n",
              " 'ile',\n",
              " 'ise',\n",
              " 'kez',\n",
              " 'ki',\n",
              " 'kim',\n",
              " 'mı',\n",
              " 'mu',\n",
              " 'mü',\n",
              " 'nasıl',\n",
              " 'ne',\n",
              " 'neden',\n",
              " 'nerde',\n",
              " 'nerede',\n",
              " 'nereye',\n",
              " 'niçin',\n",
              " 'niye',\n",
              " 'o',\n",
              " 'sanki',\n",
              " 'şey',\n",
              " 'siz',\n",
              " 'şu',\n",
              " 'tüm',\n",
              " 've',\n",
              " 'veya',\n",
              " 'ya',\n",
              " 'yani']"
            ]
          },
          "metadata": {},
          "execution_count": 1
        }
      ],
      "source": [
        "import numpy as np\n",
        "import pandas as pd\n",
        "from tensorflow.python.keras.models import Sequential\n",
        "from tensorflow.python.keras.layers import Dense, GRU, Embedding, LSTM\n",
        "from tensorflow.keras.layers import Dense,Embedding,Activation,Dropout\n",
        "from tensorflow.python.keras.layers.core import Activation\n",
        "from keras.layers import Conv1D,MaxPooling1D,GlobalMaxPool1D\n",
        "from tensorflow.keras.optimizers import Adam \n",
        "from keras.preprocessing.text import Tokenizer\n",
        "from keras.preprocessing.sequence import pad_sequences\n",
        "from tensorflow.python.keras.models import load_model\n",
        "import re\n",
        "import nltk\n",
        "\n",
        "nltk.download('punkt')\n",
        "nltk.download('stopwords')\n",
        "from nltk.corpus import stopwords\n",
        "WPT = nltk.WordPunctTokenizer()\n",
        "stop_word_list = nltk.corpus.stopwords.words('turkish')\n",
        "stop_word_list\n"
      ]
    },
    {
      "cell_type": "code",
      "execution_count": 2,
      "metadata": {
        "colab": {
          "base_uri": "https://localhost:8080/"
        },
        "id": "B8IFooI_ECyX",
        "outputId": "012e8af3-2463-411b-f058-f821dd1952a7"
      },
      "outputs": [
        {
          "output_type": "stream",
          "name": "stdout",
          "text": [
            "Requirement already satisfied: tensorflow in /usr/local/lib/python3.7/dist-packages (2.8.0)\n",
            "Requirement already satisfied: astunparse>=1.6.0 in /usr/local/lib/python3.7/dist-packages (from tensorflow) (1.6.3)\n",
            "Requirement already satisfied: gast>=0.2.1 in /usr/local/lib/python3.7/dist-packages (from tensorflow) (0.3.3)\n",
            "Requirement already satisfied: setuptools in /usr/local/lib/python3.7/dist-packages (from tensorflow) (57.4.0)\n",
            "Requirement already satisfied: termcolor>=1.1.0 in /usr/local/lib/python3.7/dist-packages (from tensorflow) (1.1.0)\n",
            "Requirement already satisfied: keras<2.9,>=2.8.0rc0 in /usr/local/lib/python3.7/dist-packages (from tensorflow) (2.8.0)\n",
            "Requirement already satisfied: tensorflow-io-gcs-filesystem>=0.23.1 in /usr/local/lib/python3.7/dist-packages (from tensorflow) (0.25.0)\n",
            "Requirement already satisfied: absl-py>=0.4.0 in /usr/local/lib/python3.7/dist-packages (from tensorflow) (1.0.0)\n",
            "Requirement already satisfied: keras-preprocessing>=1.1.1 in /usr/local/lib/python3.7/dist-packages (from tensorflow) (1.1.2)\n",
            "Requirement already satisfied: six>=1.12.0 in /usr/local/lib/python3.7/dist-packages (from tensorflow) (1.15.0)\n",
            "Requirement already satisfied: h5py>=2.9.0 in /usr/local/lib/python3.7/dist-packages (from tensorflow) (2.10.0)\n",
            "Requirement already satisfied: numpy>=1.20 in /usr/local/lib/python3.7/dist-packages (from tensorflow) (1.21.6)\n",
            "Requirement already satisfied: opt-einsum>=2.3.2 in /usr/local/lib/python3.7/dist-packages (from tensorflow) (3.3.0)\n",
            "Requirement already satisfied: libclang>=9.0.1 in /usr/local/lib/python3.7/dist-packages (from tensorflow) (14.0.1)\n",
            "Requirement already satisfied: tensorboard<2.9,>=2.8 in /usr/local/lib/python3.7/dist-packages (from tensorflow) (2.8.0)\n",
            "Requirement already satisfied: wrapt>=1.11.0 in /usr/local/lib/python3.7/dist-packages (from tensorflow) (1.14.0)\n",
            "Requirement already satisfied: typing-extensions>=3.6.6 in /usr/local/lib/python3.7/dist-packages (from tensorflow) (4.2.0)\n",
            "Requirement already satisfied: google-pasta>=0.1.1 in /usr/local/lib/python3.7/dist-packages (from tensorflow) (0.2.0)\n",
            "Requirement already satisfied: protobuf>=3.9.2 in /usr/local/lib/python3.7/dist-packages (from tensorflow) (3.17.3)\n",
            "Requirement already satisfied: grpcio<2.0,>=1.24.3 in /usr/local/lib/python3.7/dist-packages (from tensorflow) (1.44.0)\n",
            "Requirement already satisfied: flatbuffers>=1.12 in /usr/local/lib/python3.7/dist-packages (from tensorflow) (2.0)\n",
            "Requirement already satisfied: tf-estimator-nightly==2.8.0.dev2021122109 in /usr/local/lib/python3.7/dist-packages (from tensorflow) (2.8.0.dev2021122109)\n",
            "Requirement already satisfied: wheel<1.0,>=0.23.0 in /usr/local/lib/python3.7/dist-packages (from astunparse>=1.6.0->tensorflow) (0.37.1)\n",
            "Requirement already satisfied: google-auth-oauthlib<0.5,>=0.4.1 in /usr/local/lib/python3.7/dist-packages (from tensorboard<2.9,>=2.8->tensorflow) (0.4.6)\n",
            "Requirement already satisfied: tensorboard-data-server<0.7.0,>=0.6.0 in /usr/local/lib/python3.7/dist-packages (from tensorboard<2.9,>=2.8->tensorflow) (0.6.1)\n",
            "Requirement already satisfied: markdown>=2.6.8 in /usr/local/lib/python3.7/dist-packages (from tensorboard<2.9,>=2.8->tensorflow) (3.3.6)\n",
            "Requirement already satisfied: werkzeug>=0.11.15 in /usr/local/lib/python3.7/dist-packages (from tensorboard<2.9,>=2.8->tensorflow) (1.0.1)\n",
            "Requirement already satisfied: google-auth<3,>=1.6.3 in /usr/local/lib/python3.7/dist-packages (from tensorboard<2.9,>=2.8->tensorflow) (1.35.0)\n",
            "Requirement already satisfied: tensorboard-plugin-wit>=1.6.0 in /usr/local/lib/python3.7/dist-packages (from tensorboard<2.9,>=2.8->tensorflow) (1.8.1)\n",
            "Requirement already satisfied: requests<3,>=2.21.0 in /usr/local/lib/python3.7/dist-packages (from tensorboard<2.9,>=2.8->tensorflow) (2.23.0)\n",
            "Requirement already satisfied: cachetools<5.0,>=2.0.0 in /usr/local/lib/python3.7/dist-packages (from google-auth<3,>=1.6.3->tensorboard<2.9,>=2.8->tensorflow) (4.2.4)\n",
            "Requirement already satisfied: pyasn1-modules>=0.2.1 in /usr/local/lib/python3.7/dist-packages (from google-auth<3,>=1.6.3->tensorboard<2.9,>=2.8->tensorflow) (0.2.8)\n",
            "Requirement already satisfied: rsa<5,>=3.1.4 in /usr/local/lib/python3.7/dist-packages (from google-auth<3,>=1.6.3->tensorboard<2.9,>=2.8->tensorflow) (4.8)\n",
            "Requirement already satisfied: requests-oauthlib>=0.7.0 in /usr/local/lib/python3.7/dist-packages (from google-auth-oauthlib<0.5,>=0.4.1->tensorboard<2.9,>=2.8->tensorflow) (1.3.1)\n",
            "Requirement already satisfied: importlib-metadata>=4.4 in /usr/local/lib/python3.7/dist-packages (from markdown>=2.6.8->tensorboard<2.9,>=2.8->tensorflow) (4.11.3)\n",
            "Requirement already satisfied: zipp>=0.5 in /usr/local/lib/python3.7/dist-packages (from importlib-metadata>=4.4->markdown>=2.6.8->tensorboard<2.9,>=2.8->tensorflow) (3.8.0)\n",
            "Requirement already satisfied: pyasn1<0.5.0,>=0.4.6 in /usr/local/lib/python3.7/dist-packages (from pyasn1-modules>=0.2.1->google-auth<3,>=1.6.3->tensorboard<2.9,>=2.8->tensorflow) (0.4.8)\n",
            "Requirement already satisfied: urllib3!=1.25.0,!=1.25.1,<1.26,>=1.21.1 in /usr/local/lib/python3.7/dist-packages (from requests<3,>=2.21.0->tensorboard<2.9,>=2.8->tensorflow) (1.24.3)\n",
            "Requirement already satisfied: chardet<4,>=3.0.2 in /usr/local/lib/python3.7/dist-packages (from requests<3,>=2.21.0->tensorboard<2.9,>=2.8->tensorflow) (3.0.4)\n",
            "Requirement already satisfied: idna<3,>=2.5 in /usr/local/lib/python3.7/dist-packages (from requests<3,>=2.21.0->tensorboard<2.9,>=2.8->tensorflow) (2.10)\n",
            "Requirement already satisfied: certifi>=2017.4.17 in /usr/local/lib/python3.7/dist-packages (from requests<3,>=2.21.0->tensorboard<2.9,>=2.8->tensorflow) (2021.10.8)\n",
            "Requirement already satisfied: oauthlib>=3.0.0 in /usr/local/lib/python3.7/dist-packages (from requests-oauthlib>=0.7.0->google-auth-oauthlib<0.5,>=0.4.1->tensorboard<2.9,>=2.8->tensorflow) (3.2.0)\n",
            "Requirement already satisfied: keras in /usr/local/lib/python3.7/dist-packages (2.8.0)\n"
          ]
        }
      ],
      "source": [
        "!pip install --upgrade tensorflow\n",
        "!pip install --upgrade keras\n"
      ]
    },
    {
      "cell_type": "code",
      "execution_count": 3,
      "metadata": {
        "colab": {
          "base_uri": "https://localhost:8080/",
          "height": 424
        },
        "id": "UkRlIUPX-gxG",
        "outputId": "a4709a63-ffa6-41f7-fd76-abdda4506002"
      },
      "outputs": [
        {
          "output_type": "execute_result",
          "data": {
            "text/plain": [
              "                                                    Text  Sentiment\n",
              "0      Daha öncede almıştım bu cihazdan ense ve sakal...          1\n",
              "1      Ürün gayet başarılı sakal kesmede başlık sayıs...          1\n",
              "2      Daha öncede aynısını almıştım çok güzel ve kal...          1\n",
              "3      Erkek kuaförüyüm ense ve sıfır sakal traşı içi...          1\n",
              "4                               ürün gerçekten çok güzel          1\n",
              "...                                                  ...        ...\n",
              "34187        J7 Pro Cihazı Geldi Fakat Faturası Gelmedi!          0\n",
              "34188             Müşteri Hizmetlerine Ulaşamama Sorunu!          0\n",
              "34189                                Para İadesi Sorunu!          0\n",
              "34190                                     Mağdur Ediyor!          0\n",
              "34191             Ürünü Aldığı Halde Parayı İade Etmedi!          0\n",
              "\n",
              "[34192 rows x 2 columns]"
            ],
            "text/html": [
              "\n",
              "  <div id=\"df-211f8b13-6323-4b31-ba16-a3c94c44e8a7\">\n",
              "    <div class=\"colab-df-container\">\n",
              "      <div>\n",
              "<style scoped>\n",
              "    .dataframe tbody tr th:only-of-type {\n",
              "        vertical-align: middle;\n",
              "    }\n",
              "\n",
              "    .dataframe tbody tr th {\n",
              "        vertical-align: top;\n",
              "    }\n",
              "\n",
              "    .dataframe thead th {\n",
              "        text-align: right;\n",
              "    }\n",
              "</style>\n",
              "<table border=\"1\" class=\"dataframe\">\n",
              "  <thead>\n",
              "    <tr style=\"text-align: right;\">\n",
              "      <th></th>\n",
              "      <th>Text</th>\n",
              "      <th>Sentiment</th>\n",
              "    </tr>\n",
              "  </thead>\n",
              "  <tbody>\n",
              "    <tr>\n",
              "      <th>0</th>\n",
              "      <td>Daha öncede almıştım bu cihazdan ense ve sakal...</td>\n",
              "      <td>1</td>\n",
              "    </tr>\n",
              "    <tr>\n",
              "      <th>1</th>\n",
              "      <td>Ürün gayet başarılı sakal kesmede başlık sayıs...</td>\n",
              "      <td>1</td>\n",
              "    </tr>\n",
              "    <tr>\n",
              "      <th>2</th>\n",
              "      <td>Daha öncede aynısını almıştım çok güzel ve kal...</td>\n",
              "      <td>1</td>\n",
              "    </tr>\n",
              "    <tr>\n",
              "      <th>3</th>\n",
              "      <td>Erkek kuaförüyüm ense ve sıfır sakal traşı içi...</td>\n",
              "      <td>1</td>\n",
              "    </tr>\n",
              "    <tr>\n",
              "      <th>4</th>\n",
              "      <td>ürün gerçekten çok güzel</td>\n",
              "      <td>1</td>\n",
              "    </tr>\n",
              "    <tr>\n",
              "      <th>...</th>\n",
              "      <td>...</td>\n",
              "      <td>...</td>\n",
              "    </tr>\n",
              "    <tr>\n",
              "      <th>34187</th>\n",
              "      <td>J7 Pro Cihazı Geldi Fakat Faturası Gelmedi!</td>\n",
              "      <td>0</td>\n",
              "    </tr>\n",
              "    <tr>\n",
              "      <th>34188</th>\n",
              "      <td>Müşteri Hizmetlerine Ulaşamama Sorunu!</td>\n",
              "      <td>0</td>\n",
              "    </tr>\n",
              "    <tr>\n",
              "      <th>34189</th>\n",
              "      <td>Para İadesi Sorunu!</td>\n",
              "      <td>0</td>\n",
              "    </tr>\n",
              "    <tr>\n",
              "      <th>34190</th>\n",
              "      <td>Mağdur Ediyor!</td>\n",
              "      <td>0</td>\n",
              "    </tr>\n",
              "    <tr>\n",
              "      <th>34191</th>\n",
              "      <td>Ürünü Aldığı Halde Parayı İade Etmedi!</td>\n",
              "      <td>0</td>\n",
              "    </tr>\n",
              "  </tbody>\n",
              "</table>\n",
              "<p>34192 rows × 2 columns</p>\n",
              "</div>\n",
              "      <button class=\"colab-df-convert\" onclick=\"convertToInteractive('df-211f8b13-6323-4b31-ba16-a3c94c44e8a7')\"\n",
              "              title=\"Convert this dataframe to an interactive table.\"\n",
              "              style=\"display:none;\">\n",
              "        \n",
              "  <svg xmlns=\"http://www.w3.org/2000/svg\" height=\"24px\"viewBox=\"0 0 24 24\"\n",
              "       width=\"24px\">\n",
              "    <path d=\"M0 0h24v24H0V0z\" fill=\"none\"/>\n",
              "    <path d=\"M18.56 5.44l.94 2.06.94-2.06 2.06-.94-2.06-.94-.94-2.06-.94 2.06-2.06.94zm-11 1L8.5 8.5l.94-2.06 2.06-.94-2.06-.94L8.5 2.5l-.94 2.06-2.06.94zm10 10l.94 2.06.94-2.06 2.06-.94-2.06-.94-.94-2.06-.94 2.06-2.06.94z\"/><path d=\"M17.41 7.96l-1.37-1.37c-.4-.4-.92-.59-1.43-.59-.52 0-1.04.2-1.43.59L10.3 9.45l-7.72 7.72c-.78.78-.78 2.05 0 2.83L4 21.41c.39.39.9.59 1.41.59.51 0 1.02-.2 1.41-.59l7.78-7.78 2.81-2.81c.8-.78.8-2.07 0-2.86zM5.41 20L4 18.59l7.72-7.72 1.47 1.35L5.41 20z\"/>\n",
              "  </svg>\n",
              "      </button>\n",
              "      \n",
              "  <style>\n",
              "    .colab-df-container {\n",
              "      display:flex;\n",
              "      flex-wrap:wrap;\n",
              "      gap: 12px;\n",
              "    }\n",
              "\n",
              "    .colab-df-convert {\n",
              "      background-color: #E8F0FE;\n",
              "      border: none;\n",
              "      border-radius: 50%;\n",
              "      cursor: pointer;\n",
              "      display: none;\n",
              "      fill: #1967D2;\n",
              "      height: 32px;\n",
              "      padding: 0 0 0 0;\n",
              "      width: 32px;\n",
              "    }\n",
              "\n",
              "    .colab-df-convert:hover {\n",
              "      background-color: #E2EBFA;\n",
              "      box-shadow: 0px 1px 2px rgba(60, 64, 67, 0.3), 0px 1px 3px 1px rgba(60, 64, 67, 0.15);\n",
              "      fill: #174EA6;\n",
              "    }\n",
              "\n",
              "    [theme=dark] .colab-df-convert {\n",
              "      background-color: #3B4455;\n",
              "      fill: #D2E3FC;\n",
              "    }\n",
              "\n",
              "    [theme=dark] .colab-df-convert:hover {\n",
              "      background-color: #434B5C;\n",
              "      box-shadow: 0px 1px 3px 1px rgba(0, 0, 0, 0.15);\n",
              "      filter: drop-shadow(0px 1px 2px rgba(0, 0, 0, 0.3));\n",
              "      fill: #FFFFFF;\n",
              "    }\n",
              "  </style>\n",
              "\n",
              "      <script>\n",
              "        const buttonEl =\n",
              "          document.querySelector('#df-211f8b13-6323-4b31-ba16-a3c94c44e8a7 button.colab-df-convert');\n",
              "        buttonEl.style.display =\n",
              "          google.colab.kernel.accessAllowed ? 'block' : 'none';\n",
              "\n",
              "        async function convertToInteractive(key) {\n",
              "          const element = document.querySelector('#df-211f8b13-6323-4b31-ba16-a3c94c44e8a7');\n",
              "          const dataTable =\n",
              "            await google.colab.kernel.invokeFunction('convertToInteractive',\n",
              "                                                     [key], {});\n",
              "          if (!dataTable) return;\n",
              "\n",
              "          const docLinkHtml = 'Like what you see? Visit the ' +\n",
              "            '<a target=\"_blank\" href=https://colab.research.google.com/notebooks/data_table.ipynb>data table notebook</a>'\n",
              "            + ' to learn more about interactive tables.';\n",
              "          element.innerHTML = '';\n",
              "          dataTable['output_type'] = 'display_data';\n",
              "          await google.colab.output.renderOutput(dataTable, element);\n",
              "          const docLink = document.createElement('div');\n",
              "          docLink.innerHTML = docLinkHtml;\n",
              "          element.appendChild(docLink);\n",
              "        }\n",
              "      </script>\n",
              "    </div>\n",
              "  </div>\n",
              "  "
            ]
          },
          "metadata": {},
          "execution_count": 3
        }
      ],
      "source": [
        "dataset = pd.read_excel('sentimentAnalysis.xlsx', sheet_name = 'Sheet1')\n",
        "dataset"
      ]
    },
    {
      "cell_type": "code",
      "execution_count": 4,
      "metadata": {
        "id": "zpT6Vk7gFM6B"
      },
      "outputs": [],
      "source": [
        "dataset['Text'] = dataset['Text'].apply(lambda x: re.sub('[,\\.!?:()\"]', '', x))\n",
        "dataset['Text'] = dataset['Text'].apply(lambda x: x.lower())\n",
        "dataset['Text'] = dataset['Text'].apply(lambda x: x.strip())\n",
        "\n",
        "def token(values):\n",
        "    words = nltk.tokenize.word_tokenize(values)\n",
        "    filtered_words = [word for word in words if word not in stop_word_list]\n",
        "    not_stopword_doc = \" \".join(filtered_words)\n",
        "    return not_stopword_doc\n",
        "\n",
        "dataset['Text'] = dataset['Text'].apply(lambda x: token(x))"
      ]
    },
    {
      "cell_type": "code",
      "execution_count": 5,
      "metadata": {
        "colab": {
          "base_uri": "https://localhost:8080/"
        },
        "id": "GqsmkpfoFW48",
        "outputId": "3662a48c-ef33-4484-a375-cc3d46a7724a"
      },
      "outputs": [
        {
          "output_type": "execute_result",
          "data": {
            "text/plain": [
              "0        öncede almıştım cihazdan ense sakal tüketmek o...\n",
              "1        ürün gayet başarılı sakal kesmede başlık sayıs...\n",
              "2         öncede aynısını almıştım güzel kaliteli bir ürün\n",
              "3        erkek kuaförüyüm ense sıfır sakal traşı uygun ...\n",
              "4                                     ürün gerçekten güzel\n",
              "                               ...                        \n",
              "34187           j7 pro cihazı geldi fakat faturası gelmedi\n",
              "34188                müşteri hizmetlerine ulaşamama sorunu\n",
              "34189                                  para i̇adesi sorunu\n",
              "34190                                        mağdur ediyor\n",
              "34191               ürünü aldığı halde parayı i̇ade etmedi\n",
              "Name: Text, Length: 34192, dtype: object"
            ]
          },
          "metadata": {},
          "execution_count": 5
        }
      ],
      "source": [
        "dataset['Text']"
      ]
    },
    {
      "cell_type": "code",
      "execution_count": 6,
      "metadata": {
        "id": "jlxdrklXFlhd"
      },
      "outputs": [],
      "source": [
        "data = dataset['Text'].values.tolist()\n",
        "sentiment = dataset['Sentiment'].values.tolist()"
      ]
    },
    {
      "cell_type": "code",
      "execution_count": 7,
      "metadata": {
        "id": "whRHJXv7Freu"
      },
      "outputs": [],
      "source": [
        "from sklearn.model_selection import train_test_split\n",
        "x_train, x_test, y_train, y_test = train_test_split(data,sentiment,test_size = 0.2, random_state = 42)"
      ]
    },
    {
      "cell_type": "code",
      "execution_count": 8,
      "metadata": {
        "colab": {
          "base_uri": "https://localhost:8080/",
          "height": 36
        },
        "id": "_uXs-wbnFvfq",
        "outputId": "c1a5fefd-6559-4baa-c164-da8b2d843383"
      },
      "outputs": [
        {
          "output_type": "execute_result",
          "data": {
            "text/plain": [
              "'ürün güzel tabanı ince bir saat bir yürüme mesafesinde ayaklarınızı ağrıtıyor'"
            ],
            "application/vnd.google.colaboratory.intrinsic+json": {
              "type": "string"
            }
          },
          "metadata": {},
          "execution_count": 8
        }
      ],
      "source": [
        "x_train[290]"
      ]
    },
    {
      "cell_type": "code",
      "execution_count": 9,
      "metadata": {
        "colab": {
          "base_uri": "https://localhost:8080/"
        },
        "id": "vWXY0QuaFxV5",
        "outputId": "6566436c-050e-4835-d876-9d7af0d8a970"
      },
      "outputs": [
        {
          "output_type": "execute_result",
          "data": {
            "text/plain": [
              "0"
            ]
          },
          "metadata": {},
          "execution_count": 9
        }
      ],
      "source": [
        "y_train[290]"
      ]
    },
    {
      "cell_type": "code",
      "execution_count": 10,
      "metadata": {
        "id": "ZQpZUesfF0ME",
        "colab": {
          "base_uri": "https://localhost:8080/"
        },
        "outputId": "49ccf88a-1224-471a-8a86-c00ab25f8d80"
      },
      "outputs": [
        {
          "output_type": "execute_result",
          "data": {
            "text/plain": [
              "{'bir': 1,\n",
              " 'ürün': 2,\n",
              " 'güzel': 3,\n",
              " 'iyi': 4,\n",
              " 'tavsiye': 5,\n",
              " 'gayet': 6,\n",
              " 'ederim': 7,\n",
              " 'aldım': 8,\n",
              " 'yok': 9,\n",
              " 'geldi': 10,\n",
              " 'hızlı': 11,\n",
              " 'değil': 12,\n",
              " 'göre': 13,\n",
              " 'ürünü': 14,\n",
              " 'olarak': 15,\n",
              " 'var': 16,\n",
              " 'kaliteli': 17,\n",
              " 'kadar': 18,\n",
              " '0': 19,\n",
              " 'telefon': 20,\n",
              " 'uygun': 21,\n",
              " 'teşekkürler': 22,\n",
              " 'cok': 23,\n",
              " 'biraz': 24,\n",
              " 'ben': 25,\n",
              " 'kargo': 26,\n",
              " 'kullanışlı': 27,\n",
              " 'fiyat': 28,\n",
              " 'elime': 29,\n",
              " '1': 30,\n",
              " 'küçük': 31,\n",
              " 'fiyata': 32,\n",
              " 'bi': 33,\n",
              " 'gün': 34,\n",
              " 'kalitesi': 35,\n",
              " 'kesinlikle': 36,\n",
              " 'fiyatına': 37,\n",
              " 'şarj': 38,\n",
              " 'sonra': 39,\n",
              " 'gerçekten': 40,\n",
              " '3': 41,\n",
              " 'bile': 42,\n",
              " 'fakat': 43,\n",
              " 'tam': 44,\n",
              " 'memnun': 45,\n",
              " 'tek': 46,\n",
              " 'kötü': 47,\n",
              " 'kullanıyorum': 48,\n",
              " 'oldu': 49,\n",
              " 'bence': 50,\n",
              " 'iade': 51,\n",
              " 'performans': 52,\n",
              " 'fazla': 53,\n",
              " 'ses': 54,\n",
              " 'olması': 55,\n",
              " 'ulaştı': 56,\n",
              " 'ancak': 57,\n",
              " 'uzun': 58,\n",
              " 'harika': 59,\n",
              " 'önce': 60,\n",
              " 'sorun': 61,\n",
              " 'sipariş': 62,\n",
              " 'mükemmel': 63,\n",
              " 'büyük': 64,\n",
              " 'fiyatı': 65,\n",
              " 'ürünün': 66,\n",
              " 'başarılı': 67,\n",
              " 'oldukça': 68,\n",
              " 'aynı': 69,\n",
              " 'urun': 70,\n",
              " 'ayrıca': 71,\n",
              " 'kolay': 72,\n",
              " 'rahat': 73,\n",
              " 'süper': 74,\n",
              " 'sadece': 75,\n",
              " 'kalitesiz': 76,\n",
              " 'şekilde': 77,\n",
              " 'hemen': 78,\n",
              " 'ekran': 79,\n",
              " '5': 80,\n",
              " 'şık': 81,\n",
              " 'zaten': 82,\n",
              " 'ettim': 83,\n",
              " 'içinde': 84,\n",
              " 'memnunum': 85,\n",
              " '10': 86,\n",
              " 'ilk': 87,\n",
              " 'alın': 88,\n",
              " 'teşekkür': 89,\n",
              " 'hepsiburada': 90,\n",
              " 'sorunsuz': 91,\n",
              " 'saat': 92,\n",
              " 'kısa': 93,\n",
              " '4': 94,\n",
              " 'telefonu': 95,\n",
              " 'ediyorum': 96,\n",
              " 'benim': 97,\n",
              " 'hızı': 98,\n",
              " 'iki': 99,\n",
              " 'cihaz': 100,\n",
              " 'oyun': 101,\n",
              " 'bana': 102,\n",
              " 'sağlam': 103,\n",
              " 'olduğu': 104,\n",
              " 'guzel': 105,\n",
              " 'olan': 106,\n",
              " 'diğer': 107,\n",
              " 'almayın': 108,\n",
              " 'ideal': 109,\n",
              " 'para': 110,\n",
              " 'gerek': 111,\n",
              " 'almıştım': 112,\n",
              " 'beğendim': 113,\n",
              " 'şarjı': 114,\n",
              " 'numara': 115,\n",
              " 'günde': 116,\n",
              " 'kalite': 117,\n",
              " 'herkese': 118,\n",
              " 'rağmen': 119,\n",
              " 'başka': 120,\n",
              " 'olsun': 121,\n",
              " 'sıkıntı': 122,\n",
              " 'usb': 123,\n",
              " 'zaman': 124,\n",
              " 'arkadaşlar': 125,\n",
              " 'çıktı': 126,\n",
              " 'çalışıyor': 127,\n",
              " 'verdim': 128,\n",
              " 'mouse': 129,\n",
              " 'tane': 130,\n",
              " 'kaldım': 131,\n",
              " 'samsung': 132,\n",
              " 'hediye': 133,\n",
              " 'yeni': 134,\n",
              " 'yeterli': 135,\n",
              " 'aldığım': 136,\n",
              " 'kurulumu': 137,\n",
              " 'teslim': 138,\n",
              " 'normal': 139,\n",
              " 'gb': 140,\n",
              " 'son': 141,\n",
              " 'geri': 142,\n",
              " 'oluyor': 143,\n",
              " 'ay': 144,\n",
              " 'dışında': 145,\n",
              " 'geliyor': 146,\n",
              " 'pil': 147,\n",
              " 'etmiyorum': 148,\n",
              " 'icin': 149,\n",
              " 'basit': 150,\n",
              " 'marka': 151,\n",
              " 'eski': 152,\n",
              " 'olduğunu': 153,\n",
              " 'bunu': 154,\n",
              " 'böyle': 155,\n",
              " 'sakal': 156,\n",
              " 'ucuz': 157,\n",
              " 'yaklaşık': 158,\n",
              " 'özelliği': 159,\n",
              " 'hafif': 160,\n",
              " 'almak': 161,\n",
              " 'duruyor': 162,\n",
              " 'derim': 163,\n",
              " 'yine': 164,\n",
              " 'kullanımı': 165,\n",
              " 'gidiyor': 166,\n",
              " 'onun': 167,\n",
              " 'süre': 168,\n",
              " 'iş': 169,\n",
              " 'siyah': 170,\n",
              " 'zor': 171,\n",
              " 'teslimat': 172,\n",
              " 'gelen': 173,\n",
              " 'hafta': 174,\n",
              " 'farklı': 175,\n",
              " 'beğenmedim': 176,\n",
              " 'degil': 177,\n",
              " 'tercih': 178,\n",
              " 'çabuk': 179,\n",
              " 'olsa': 180,\n",
              " 'pişman': 181,\n",
              " 'yüksek': 182,\n",
              " 'ediyor': 183,\n",
              " 'eder': 184,\n",
              " 'pek': 185,\n",
              " 'sesi': 186,\n",
              " 'özellikle': 187,\n",
              " 'aldim': 188,\n",
              " 'fena': 189,\n",
              " 'paketleme': 190,\n",
              " 'mi': 191,\n",
              " 'kullanım': 192,\n",
              " 'berbat': 193,\n",
              " 'olur': 194,\n",
              " 'ufak': 195,\n",
              " 'göründüğü': 196,\n",
              " 'performansı': 197,\n",
              " 'kendi': 198,\n",
              " 'sürede': 199,\n",
              " '6': 200,\n",
              " '30': 201,\n",
              " 'kullandım': 202,\n",
              " 'plastik': 203,\n",
              " 'sürekli': 204,\n",
              " 'sorunu': 205,\n",
              " 'veriyor': 206,\n",
              " 'geçti': 207,\n",
              " 'idare': 208,\n",
              " 'çanta': 209,\n",
              " 'kulaklık': 210,\n",
              " 'oyunlar': 211,\n",
              " 'kablosu': 212,\n",
              " 'açısından': 213,\n",
              " 'düşük': 214,\n",
              " 'beni': 215,\n",
              " 'etmem': 216,\n",
              " 'ince': 217,\n",
              " 'ekranı': 218,\n",
              " 'gelmedi': 219,\n",
              " 'yapıyor': 220,\n",
              " 'sert': 221,\n",
              " 'yüzden': 222,\n",
              " 'ssd': 223,\n",
              " 'aşırı': 224,\n",
              " 'internet': 225,\n",
              " 'telefonun': 226,\n",
              " 'hiçbir': 227,\n",
              " 'tekrar': 228,\n",
              " 'aldık': 229,\n",
              " 'vardı': 230,\n",
              " '15': 231,\n",
              " 'burada': 232,\n",
              " 'malzeme': 233,\n",
              " 'kurulum': 234,\n",
              " 'alabilirsiniz': 235,\n",
              " 'hemde': 236,\n",
              " 'oldum': 237,\n",
              " 'falan': 238,\n",
              " 'adet': 239,\n",
              " 'bende': 240,\n",
              " 'baya': 241,\n",
              " 'geç': 242,\n",
              " 'saç': 243,\n",
              " 'yakın': 244,\n",
              " 'kablosuz': 245,\n",
              " 'ayakkabı': 246,\n",
              " 'özellikleri': 247,\n",
              " '8': 248,\n",
              " 'düşünmeden': 249,\n",
              " 'paraya': 250,\n",
              " 'orjinal': 251,\n",
              " 'konusunda': 252,\n",
              " 'yeri': 253,\n",
              " 'beyaz': 254,\n",
              " 'kısmı': 255,\n",
              " 'oğlum': 256,\n",
              " 'dokunmatik': 257,\n",
              " '00': 258,\n",
              " 'asla': 259,\n",
              " 'i̇ade': 260,\n",
              " 'bunun': 261,\n",
              " 'aydır': 262,\n",
              " 'resmen': 263,\n",
              " 'görüntü': 264,\n",
              " 'makine': 265,\n",
              " 'üründen': 266,\n",
              " 'artık': 267,\n",
              " 'dandik': 268,\n",
              " 'günü': 269,\n",
              " 'hizli': 270,\n",
              " 'sahip': 271,\n",
              " 'beklediğimden': 272,\n",
              " 'düşünüyorum': 273,\n",
              " 'vs': 274,\n",
              " 'hala': 275,\n",
              " 'dolayı': 276,\n",
              " 'alınabilecek': 277,\n",
              " 'kere': 278,\n",
              " 'eğlenceli': 279,\n",
              " 'öyle': 280,\n",
              " 'problem': 281,\n",
              " 'yanında': 282,\n",
              " 'yorumlara': 283,\n",
              " 'süresi': 284,\n",
              " 'çıkıyor': 285,\n",
              " 'alalı': 286,\n",
              " 'iphone': 287,\n",
              " 'hepsiburadacom': 288,\n",
              " 'olmasına': 289,\n",
              " 'kamera': 290,\n",
              " 'bozuk': 291,\n",
              " 'olmadı': 292,\n",
              " 'çekim': 293,\n",
              " 'ağır': 294,\n",
              " 'müzik': 295,\n",
              " 'yer': 296,\n",
              " 'diyebilirim': 297,\n",
              " 'bi̇r': 298,\n",
              " 'görür': 299,\n",
              " 'renk': 300,\n",
              " 'ev': 301,\n",
              " 'beklemeyin': 302,\n",
              " '7': 303,\n",
              " 'yerine': 304,\n",
              " 'ele': 305,\n",
              " 'ye': 306,\n",
              " 'orta': 307,\n",
              " 'hoş': 308,\n",
              " 'kullanmak': 309,\n",
              " 'şimdi': 310,\n",
              " 'evde': 311,\n",
              " 'kargoya': 312,\n",
              " 'bozuldu': 313,\n",
              " 'doğru': 314,\n",
              " 'hafıza': 315,\n",
              " 'sanırım': 316,\n",
              " 'varsa': 317,\n",
              " 'yazıcı': 318,\n",
              " 'wifi': 319,\n",
              " 'herhangi': 320,\n",
              " 'sıfır': 321,\n",
              " 'hız': 322,\n",
              " 'telefona': 323,\n",
              " 'etmek': 324,\n",
              " 'yaşamadım': 325,\n",
              " 'alışveriş': 326,\n",
              " 'kullanmaya': 327,\n",
              " 'gitti': 328,\n",
              " 'bütün': 329,\n",
              " 'yazma': 330,\n",
              " 'batarya': 331,\n",
              " 'ayrı': 332,\n",
              " 'arada': 333,\n",
              " 'dan': 334,\n",
              " 'taktım': 335,\n",
              " 'deri': 336,\n",
              " 'bugün': 337,\n",
              " 'öncelikle': 338,\n",
              " 'kablo': 339,\n",
              " 'gerekiyor': 340,\n",
              " 'sarj': 341,\n",
              " 'tl': 342,\n",
              " 'üzerinde': 343,\n",
              " 'lazım': 344,\n",
              " 'severek': 345,\n",
              " 'çocuklar': 346,\n",
              " 'beklediğim': 347,\n",
              " 'boyutu': 348,\n",
              " 'kullandığım': 349,\n",
              " 'bağlantı': 350,\n",
              " 'sessiz': 351,\n",
              " 'cihazı': 352,\n",
              " 'kamerası': 353,\n",
              " 'pahalı': 354,\n",
              " 'eksik': 355,\n",
              " 'istediğim': 356,\n",
              " 'yorum': 357,\n",
              " 'hic': 358,\n",
              " 'metal': 359,\n",
              " 'satın': 360,\n",
              " 'sakın': 361,\n",
              " 'net': 362,\n",
              " 'i̇lk': 363,\n",
              " 'edici': 364,\n",
              " 'derece': 365,\n",
              " 'dikkat': 366,\n",
              " 'alacak': 367,\n",
              " 'belli': 368,\n",
              " 'yıldız': 369,\n",
              " 'ertesi': 370,\n",
              " 'yavaş': 371,\n",
              " 'evet': 372,\n",
              " 'kutu': 373,\n",
              " 'rahatsız': 374,\n",
              " 'birde': 375,\n",
              " 'bitiyor': 376,\n",
              " 'tabi': 377,\n",
              " 'hatta': 378,\n",
              " 'almanızı': 379,\n",
              " 'olmuş': 380,\n",
              " 'olabilir': 381,\n",
              " 'an': 382,\n",
              " 'makina': 383,\n",
              " 'gore': 384,\n",
              " 'birlikte': 385,\n",
              " 'hb': 386,\n",
              " 'genel': 387,\n",
              " 'tasarımı': 388,\n",
              " 'almayı': 389,\n",
              " 'gücü': 390,\n",
              " 'bundan': 391,\n",
              " 'rengi': 392,\n",
              " 'günlük': 393,\n",
              " 'gönderi': 394,\n",
              " 'alırken': 395,\n",
              " '16': 396,\n",
              " 'sizin': 397,\n",
              " 'yerde': 398,\n",
              " 'ön': 399,\n",
              " 'okuma': 400,\n",
              " 'haftadır': 401,\n",
              " 'kartuş': 402,\n",
              " 'yada': 403,\n",
              " 'on': 404,\n",
              " 'denedim': 405,\n",
              " 'yanlış': 406,\n",
              " 'keşke': 407,\n",
              " 'fotoğraf': 408,\n",
              " 'kullanımda': 409,\n",
              " 'olurdu': 410,\n",
              " 'a': 411,\n",
              " 'satıcı': 412,\n",
              " 'yere': 413,\n",
              " 'fazlasıyla': 414,\n",
              " 'yıl': 415,\n",
              " 'su': 416,\n",
              " 'çocukluğuma': 417,\n",
              " 'bellek': 418,\n",
              " 'pratik': 419,\n",
              " 'olmuyor': 420,\n",
              " 'içerisinde': 421,\n",
              " 'alınabilir': 422,\n",
              " 'pc': 423,\n",
              " 'telefondan': 424,\n",
              " 'gönül': 425,\n",
              " 'size': 426,\n",
              " 'yaptım': 427,\n",
              " 'kaç': 428,\n",
              " 'tatmin': 429,\n",
              " 'kesiyor': 430,\n",
              " 'firma': 431,\n",
              " 'çalışmıyor': 432,\n",
              " 'beğendi': 433,\n",
              " 'den': 434,\n",
              " 'bişey': 435,\n",
              " 'anda': 436,\n",
              " 'zorunda': 437,\n",
              " 'tv': 438,\n",
              " 'kaldı': 439,\n",
              " 'kibar': 440,\n",
              " 'üründe': 441,\n",
              " 'üst': 442,\n",
              " 'içine': 443,\n",
              " 'fark': 444,\n",
              " 'kokusu': 445,\n",
              " 'nokia': 446,\n",
              " 'çekiyor': 447,\n",
              " 'ömrü': 448,\n",
              " 'bilgisayar': 449,\n",
              " 'yoksa': 450,\n",
              " 'zamanında': 451,\n",
              " 'döndüm': 452,\n",
              " 'istedim': 453,\n",
              " 'gündür': 454,\n",
              " 'alt': 455,\n",
              " 'işe': 456,\n",
              " 'pili': 457,\n",
              " 'rahatlıkla': 458,\n",
              " 'görüyor': 459,\n",
              " 'şimdilik': 460,\n",
              " 'şuan': 461,\n",
              " 'alıyor': 462,\n",
              " 'müşteri': 463,\n",
              " 'özellik': 464,\n",
              " 'veri': 465,\n",
              " 'önemli': 466,\n",
              " 'baskı': 467,\n",
              " 'altında': 468,\n",
              " 'laptop': 469,\n",
              " 'sıkıntısı': 470,\n",
              " 'iyisi': 471,\n",
              " 'zamanda': 472,\n",
              " 'hizmet': 473,\n",
              " 'arasında': 474,\n",
              " 'alıp': 475,\n",
              " 'maalesef': 476,\n",
              " 'nostalji': 477,\n",
              " 'telefonda': 478,\n",
              " 'onu': 479,\n",
              " 'ürüne': 480,\n",
              " 'hoşuma': 481,\n",
              " 'hayal': 482,\n",
              " 'edilir': 483,\n",
              " 'almaya': 484,\n",
              " 'yazık': 485,\n",
              " 'arka': 486,\n",
              " 'yoktu': 487,\n",
              " 'çocuk': 488,\n",
              " 'kızım': 489,\n",
              " 'mario': 490,\n",
              " 'kartı': 491,\n",
              " 'başladı': 492,\n",
              " 'i̇yi': 493,\n",
              " 'karar': 494,\n",
              " 'çıkmadı': 495,\n",
              " 'mevcut': 496,\n",
              " 'kırık': 497,\n",
              " 'hp': 498,\n",
              " 'henüz': 499,\n",
              " 'eşime': 500,\n",
              " '100': 501,\n",
              " 'inanılmaz': 502,\n",
              " 'öneririm': 503,\n",
              " 'etti': 504,\n",
              " 'tereddüt': 505,\n",
              " 'tasarım': 506,\n",
              " 'halde': 507,\n",
              " 'bataryası': 508,\n",
              " 'tamamen': 509,\n",
              " 'ona': 510,\n",
              " 'bakarak': 511,\n",
              " 'olabilirdi': 512,\n",
              " 'buna': 513,\n",
              " 'model': 514,\n",
              " 'üzerine': 515,\n",
              " 'üzerinden': 516,\n",
              " '40': 517,\n",
              " 'bilmiyorum': 518,\n",
              " 'bazen': 519,\n",
              " 'logitech': 520,\n",
              " 'umarım': 521,\n",
              " 'adım': 522,\n",
              " 'devam': 523,\n",
              " 'almadan': 524,\n",
              " 'ürünler': 525,\n",
              " 'ilgili': 526,\n",
              " 'tesekkurler': 527,\n",
              " 'hak': 528,\n",
              " 'olanlar': 529,\n",
              " 'arkadaşlara': 530,\n",
              " 'kalmadım': 531,\n",
              " 'kalitesini': 532,\n",
              " 'yanı': 533,\n",
              " '400': 534,\n",
              " 'parmak': 535,\n",
              " 'gece': 536,\n",
              " 'sn': 537,\n",
              " 'görünüyor': 538,\n",
              " 'ışık': 539,\n",
              " 'şiddetle': 540,\n",
              " 'olmadan': 541,\n",
              " 'olmaması': 542,\n",
              " 'kaçırmayın': 543,\n",
              " 'türlü': 544,\n",
              " 'video': 545,\n",
              " 'gördüm': 546,\n",
              " 'oturuyor': 547,\n",
              " 'etmiyor': 548,\n",
              " 'kat': 549,\n",
              " 'kırmızı': 550,\n",
              " 'malesef': 551,\n",
              " 'çıkan': 552,\n",
              " 'alakası': 553,\n",
              " 'arama': 554,\n",
              " 'neredeyse': 555,\n",
              " 'içinden': 556,\n",
              " 'ergonomik': 557,\n",
              " 'koku': 558,\n",
              " 'orijinal': 559,\n",
              " 'gereken': 560,\n",
              " 'görüntüsü': 561,\n",
              " 'mause': 562,\n",
              " 'üstelik': 563,\n",
              " 'note': 564,\n",
              " 'üstünde': 565,\n",
              " 'etmez': 566,\n",
              " 'eşim': 567,\n",
              " 'güçlü': 568,\n",
              " 'değilim': 569,\n",
              " 'olmayan': 570,\n",
              " 'gelince': 571,\n",
              " 'edildi': 572,\n",
              " 'bluetooth': 573,\n",
              " 'farkı': 574,\n",
              " 'oyunları': 575,\n",
              " 'p': 576,\n",
              " 'alan': 577,\n",
              " 'kılıf': 578,\n",
              " 'dk': 579,\n",
              " 'dün': 580,\n",
              " 'sizi': 581,\n",
              " 'sayesinde': 582,\n",
              " 'olsaydı': 583,\n",
              " 'modem': 584,\n",
              " 'olumsuz': 585,\n",
              " 'mb': 586,\n",
              " 'yalnız': 587,\n",
              " 'gercekten': 588,\n",
              " 'anca': 589,\n",
              " 'değer': 590,\n",
              " 'tavsi̇ye': 591,\n",
              " 'aktarım': 592,\n",
              " 'hdd': 593,\n",
              " 'iyiydi': 594,\n",
              " 'sıfıra': 595,\n",
              " 'sonuç': 596,\n",
              " 'verdiğim': 597,\n",
              " 'açık': 598,\n",
              " 'uyku': 599,\n",
              " 'traş': 600,\n",
              " 'görmedim': 601,\n",
              " 'dayanıklı': 602,\n",
              " 'beş': 603,\n",
              " 'saatte': 604,\n",
              " 'direk': 605,\n",
              " 'göz': 606,\n",
              " 'beğendik': 607,\n",
              " 'zayıf': 608,\n",
              " 'almışım': 609,\n",
              " 'sandisk': 610,\n",
              " 'avantaj': 611,\n",
              " 'kullanıyor': 612,\n",
              " 'yırtıldı': 613,\n",
              " 'mah': 614,\n",
              " 'f': 615,\n",
              " 'fiyatina': 616,\n",
              " 'kalıyor': 617,\n",
              " 'kalitede': 618,\n",
              " 'yinede': 619,\n",
              " 'yapmıyor': 620,\n",
              " 'yapılmış': 621,\n",
              " 'full': 622,\n",
              " 'renkli': 623,\n",
              " 'sinyal': 624,\n",
              " 'ikinci': 625,\n",
              " 'e': 626,\n",
              " 'değildi': 627,\n",
              " 'izi': 628,\n",
              " 'kullanan': 629,\n",
              " 'güvenilir': 630,\n",
              " 'rahatlığıyla': 631,\n",
              " 'muhteşem': 632,\n",
              " 'olmaz': 633,\n",
              " 'yi': 634,\n",
              " '04': 635,\n",
              " 'başladım': 636,\n",
              " 'ense': 637,\n",
              " 'resimdeki': 638,\n",
              " 'haricinde': 639,\n",
              " 'eksiği': 640,\n",
              " 'kendini': 641,\n",
              " 'elimde': 642,\n",
              " 'geniş': 643,\n",
              " 'oturma': 644,\n",
              " 'tuşu': 645,\n",
              " 'uygulama': 646,\n",
              " 'parasını': 647,\n",
              " 'yıldır': 648,\n",
              " 'içi': 649,\n",
              " 'urunu': 650,\n",
              " 'fatura': 651,\n",
              " 'isteyenler': 652,\n",
              " 'kargoda': 653,\n",
              " 'windows': 654,\n",
              " 'piyasada': 655,\n",
              " 'çöpe': 656,\n",
              " 'sık': 657,\n",
              " 'kokuyor': 658,\n",
              " 'kart': 659,\n",
              " 'oda': 660,\n",
              " 'i̇yi̇': 661,\n",
              " 'edin': 662,\n",
              " 'mutlaka': 663,\n",
              " 'flash': 664,\n",
              " 'anlatıldığı': 665,\n",
              " 'dahi': 666,\n",
              " 'yetersiz': 667,\n",
              " 'mesaj': 668,\n",
              " 'yan': 669,\n",
              " 'birçok': 670,\n",
              " 'uyumlu': 671,\n",
              " 'isteyenlere': 672,\n",
              " 'kendine': 673,\n",
              " 'android': 674,\n",
              " 'olacak': 675,\n",
              " 'yazıyor': 676,\n",
              " 'telefonla': 677,\n",
              " 'kendim': 678,\n",
              " 'parasına': 679,\n",
              " 'istiyorum': 680,\n",
              " 'düzgün': 681,\n",
              " 'karşılıyor': 682,\n",
              " 'gun': 683,\n",
              " 'olduğundan': 684,\n",
              " 'koptu': 685,\n",
              " 'kutusu': 686,\n",
              " 'hassas': 687,\n",
              " 'durum': 688,\n",
              " 'ederi̇m': 689,\n",
              " 'beri': 690,\n",
              " 'bilgisayarım': 691,\n",
              " 'fi': 692,\n",
              " 'yapmak': 693,\n",
              " 'kotu': 694,\n",
              " 'dar': 695,\n",
              " 'aldıktan': 696,\n",
              " 'oynuyorum': 697,\n",
              " 'sabah': 698,\n",
              " 'almayin': 699,\n",
              " 'yorumlarda': 700,\n",
              " 'disk': 701,\n",
              " 'garanti': 702,\n",
              " 'hakkını': 703,\n",
              " 'herkes': 704,\n",
              " 'edeceğim': 705,\n",
              " 'gözlük': 706,\n",
              " 'ram': 707,\n",
              " 'kullanıyordum': 708,\n",
              " 'sağlıyor': 709,\n",
              " 'i̇çi̇n': 710,\n",
              " 'göndermişler': 711,\n",
              " 'problemi': 712,\n",
              " 'cep': 713,\n",
              " 'akıllı': 714,\n",
              " 'kabul': 715,\n",
              " 'makul': 716,\n",
              " '05': 717,\n",
              " 'etmeden': 718,\n",
              " 'içindeki': 719,\n",
              " 'i': 720,\n",
              " 'el': 721,\n",
              " 'olduğum': 722,\n",
              " 'ortalama': 723,\n",
              " 'ihtiyacı': 724,\n",
              " 'trendyol': 725,\n",
              " '500': 726,\n",
              " 'oranı': 727,\n",
              " 'tarafı': 728,\n",
              " 'saniyede': 729,\n",
              " 'geldiğinde': 730,\n",
              " 'yorumları': 731,\n",
              " 'eden': 732,\n",
              " 'resimde': 733,\n",
              " 'yerden': 734,\n",
              " 'uzak': 735,\n",
              " 'gelmesi': 736,\n",
              " 'kucuk': 737,\n",
              " 'kasa': 738,\n",
              " 'sandalye': 739,\n",
              " 'açıkçası': 740,\n",
              " 'eksi': 741,\n",
              " 'aynısı': 742,\n",
              " 'dış': 743,\n",
              " 'mutlu': 744,\n",
              " 'telefonum': 745,\n",
              " 'hepsiburadaya': 746,\n",
              " 'wi': 747,\n",
              " 'çift': 748,\n",
              " 'müthiş': 749,\n",
              " 'boyut': 750,\n",
              " 'evin': 751,\n",
              " 'buldum': 752,\n",
              " 'fiyatlı': 753,\n",
              " 'cihazın': 754,\n",
              " 'durmuyor': 755,\n",
              " 'sene': 756,\n",
              " 'oynuyor': 757,\n",
              " 'yapısı': 758,\n",
              " 'işte': 759,\n",
              " 'insan': 760,\n",
              " 'buradan': 761,\n",
              " 'aldığıma': 762,\n",
              " 'açılıyor': 763,\n",
              " 'ışığı': 764,\n",
              " 'birisi': 765,\n",
              " 'olmadığı': 766,\n",
              " 'fiyatıda': 767,\n",
              " 'bakımından': 768,\n",
              " 'gps': 769,\n",
              " 'paket': 770,\n",
              " 'önceki': 771,\n",
              " 'hale': 772,\n",
              " 'herşey': 773,\n",
              " 'işinizi': 774,\n",
              " 'güzeldi': 775,\n",
              " 'tak': 776,\n",
              " 'hızlıydı': 777,\n",
              " 'araç': 778,\n",
              " 'asus': 779,\n",
              " 'üç': 780,\n",
              " 'alet': 781,\n",
              " 'beraber': 782,\n",
              " 'boşuna': 783,\n",
              " 'alıyorum': 784,\n",
              " 'saati': 785,\n",
              " 'prima': 786,\n",
              " 'super': 787,\n",
              " 'bır': 788,\n",
              " 'nostaljik': 789,\n",
              " 'kendime': 790,\n",
              " 'aldı': 791,\n",
              " 'ucuza': 792,\n",
              " 'ara': 793,\n",
              " 'çoğu': 794,\n",
              " 'gelmiyor': 795,\n",
              " 'almış': 796,\n",
              " 'geldiği': 797,\n",
              " 'mümkün': 798,\n",
              " 'gönderim': 799,\n",
              " 'ettiğim': 800,\n",
              " 'elimize': 801,\n",
              " 'test': 802,\n",
              " 'kelime': 803,\n",
              " 'tuşları': 804,\n",
              " 'verilen': 805,\n",
              " 'zarif': 806,\n",
              " 'karşıladı': 807,\n",
              " 'kırıklığı': 808,\n",
              " '50': 809,\n",
              " 'i̇adesi': 810,\n",
              " 'arkadaşıma': 811,\n",
              " 'kullaniyorum': 812,\n",
              " 'siparişi': 813,\n",
              " 'indirim': 814,\n",
              " 'sistemi': 815,\n",
              " 'üzerindeki': 816,\n",
              " 'bağlantısı': 817,\n",
              " 'keyifli': 818,\n",
              " 'atari': 819,\n",
              " 'donma': 820,\n",
              " 'işimi': 821,\n",
              " 'kullanılabilir': 822,\n",
              " 'olanlara': 823,\n",
              " 'dedim': 824,\n",
              " 'başta': 825,\n",
              " 'gereksiz': 826,\n",
              " 'fiyatının': 827,\n",
              " 'kaldık': 828,\n",
              " 'vakit': 829,\n",
              " 'kurdum': 830,\n",
              " 'değmez': 831,\n",
              " 'kesimi': 832,\n",
              " 'üstü': 833,\n",
              " 'çıkarıyor': 834,\n",
              " 'elinize': 835,\n",
              " '9': 836,\n",
              " 'merhaba': 837,\n",
              " 'görünce': 838,\n",
              " 'sevdi': 839,\n",
              " 'ana': 840,\n",
              " 'internete': 841,\n",
              " 'akşam': 842,\n",
              " 'boş': 843,\n",
              " 'kaba': 844,\n",
              " 'saniye': 845,\n",
              " 'kalın': 846,\n",
              " 'tuş': 847,\n",
              " 'cam': 848,\n",
              " 'yaptı': 849,\n",
              " 'begendim': 850,\n",
              " 'alınır': 851,\n",
              " 'dikkatli': 852,\n",
              " 'oyuncak': 853,\n",
              " 'oynuyoruz': 854,\n",
              " 'türkçe': 855,\n",
              " 'tabanı': 856,\n",
              " 'gönderdiler': 857,\n",
              " 'ürünleri': 858,\n",
              " 'i̇ki': 859,\n",
              " 'ürünle': 860,\n",
              " 'günden': 861,\n",
              " 'kargom': 862,\n",
              " 'piyasadaki': 863,\n",
              " 'toner': 864,\n",
              " 'konuda': 865,\n",
              " 'idi': 866,\n",
              " 'modeli': 867,\n",
              " 'arkadaşım': 868,\n",
              " 'yardımcı': 869,\n",
              " 'önceden': 870,\n",
              " 'elimden': 871,\n",
              " 'hediyesi': 872,\n",
              " 'olmasa': 873,\n",
              " 'bez': 874,\n",
              " 'ip': 875,\n",
              " 'kırıldı': 876,\n",
              " 'kablolu': 877,\n",
              " 'gönderildi': 878,\n",
              " 'kapalı': 879,\n",
              " 'fayda': 880,\n",
              " 'dakika': 881,\n",
              " 'kelimeyle': 882,\n",
              " 'karşı': 883,\n",
              " 's': 884,\n",
              " 'xiaomi': 885,\n",
              " 'verildi': 886,\n",
              " 'olunca': 887,\n",
              " 'azından': 888,\n",
              " 'seviyede': 889,\n",
              " 'verip': 890,\n",
              " 'ısınma': 891,\n",
              " 'oğluma': 892,\n",
              " 'gerekli': 893,\n",
              " 'oynamak': 894,\n",
              " 'ekranda': 895,\n",
              " 'bilgisayara': 896,\n",
              " 'fare': 897,\n",
              " 'tık': 898,\n",
              " 'yerinde': 899,\n",
              " 'hayırlı': 900,\n",
              " 'kontrol': 901,\n",
              " 'takip': 902,\n",
              " 'hissi': 903,\n",
              " 'derecede': 904,\n",
              " 'yönü': 905,\n",
              " 'cevap': 906,\n",
              " 'vb': 907,\n",
              " 'koltuk': 908,\n",
              " 'ekonomik': 909,\n",
              " 'kardeşime': 910,\n",
              " 'kullanıyoruz': 911,\n",
              " 'sonuçta': 912,\n",
              " 'bı': 913,\n",
              " 'yaparken': 914,\n",
              " 'efsane': 915,\n",
              " 'kullanın': 916,\n",
              " 'gelir': 917,\n",
              " 'kullanırken': 918,\n",
              " 'çin': 919,\n",
              " 'tşk': 920,\n",
              " 'koruyucu': 921,\n",
              " 'mavi': 922,\n",
              " 'takılma': 923,\n",
              " 'beklemiyordum': 924,\n",
              " 'gözüküyor': 925,\n",
              " 'sırt': 926,\n",
              " 'tabiki': 927,\n",
              " 'kullanisli': 928,\n",
              " 'standart': 929,\n",
              " 'ayrica': 930,\n",
              " 'kargolama': 931,\n",
              " 'garantili': 932,\n",
              " 'kağıt': 933,\n",
              " 'gösteriyor': 934,\n",
              " 'malzemesi': 935,\n",
              " 'kumaş': 936,\n",
              " 'saçma': 937,\n",
              " 'telefonumu': 938,\n",
              " 'şarja': 939,\n",
              " 'siparis': 940,\n",
              " 'diş': 941,\n",
              " 'alin': 942,\n",
              " 'olanı': 943,\n",
              " 'işi': 944,\n",
              " 'yumuşak': 945,\n",
              " 'haftada': 946,\n",
              " 'ekstra': 947,\n",
              " 'arası': 948,\n",
              " 'bekliyorum': 949,\n",
              " 'çantası': 950,\n",
              " 'artı': 951,\n",
              " 'site': 952,\n",
              " 'film': 953,\n",
              " 'nin': 954,\n",
              " 'kulaklığı': 955,\n",
              " 'diyor': 956,\n",
              " 'düştü': 957,\n",
              " 'malı': 958,\n",
              " 'kullanabilirsiniz': 959,\n",
              " 'geçen': 960,\n",
              " 'ayni': 961,\n",
              " 'ürünüm': 962,\n",
              " 'olmasi': 963,\n",
              " '90': 964,\n",
              " 'nabız': 965,\n",
              " 'tıklama': 966,\n",
              " 'sata': 967,\n",
              " 'kingston': 968,\n",
              " 'tarak': 969,\n",
              " 'boşa': 970,\n",
              " 'kısacası': 971,\n",
              " 'bedava': 972,\n",
              " 'dolu': 973,\n",
              " 'oldukca': 974,\n",
              " 'gelmiş': 975,\n",
              " 'bayıldım': 976,\n",
              " 'güvenli': 977,\n",
              " 'aldığımda': 978,\n",
              " 'iken': 979,\n",
              " 'uygulaması': 980,\n",
              " 'ayakkabının': 981,\n",
              " 'ücretsiz': 982,\n",
              " 'olumlu': 983,\n",
              " 'olmak': 984,\n",
              " 'olmazsınız': 985,\n",
              " 'ötesi': 986,\n",
              " 'fiyatını': 987,\n",
              " 'kisa': 988,\n",
              " 'yoğun': 989,\n",
              " 'dakikada': 990,\n",
              " 'estetik': 991,\n",
              " 'icinde': 992,\n",
              " 'desteği': 993,\n",
              " 'götürdü': 994,\n",
              " 'çekimi': 995,\n",
              " 'kullanmadım': 996,\n",
              " 'bide': 997,\n",
              " 'düşünenlere': 998,\n",
              " 'durumda': 999,\n",
              " 'bilgi': 1000,\n",
              " ...}"
            ]
          },
          "metadata": {},
          "execution_count": 10
        }
      ],
      "source": [
        "tokenizer = Tokenizer(num_words = 10000)\n",
        "tokenizer.fit_on_texts(data)\n",
        "tokenizer.word_index"
      ]
    },
    {
      "cell_type": "code",
      "execution_count": 11,
      "metadata": {
        "id": "0yB9bEHsF6sd"
      },
      "outputs": [],
      "source": [
        "\n",
        "x_train_tokens = tokenizer.texts_to_sequences(x_train)\n",
        "x_test_tokens = tokenizer.texts_to_sequences(x_test)"
      ]
    },
    {
      "cell_type": "code",
      "execution_count": 12,
      "metadata": {
        "colab": {
          "base_uri": "https://localhost:8080/"
        },
        "id": "4SpQELybF-ui",
        "outputId": "cc2f4ef7-5ac0-4db7-f739-a82613bbfd67"
      },
      "outputs": [
        {
          "output_type": "execute_result",
          "data": {
            "text/plain": [
              "[2, 3, 856, 217, 1, 92, 1, 4088]"
            ]
          },
          "metadata": {},
          "execution_count": 12
        }
      ],
      "source": [
        "x_train_tokens[290]"
      ]
    },
    {
      "cell_type": "code",
      "execution_count": 13,
      "metadata": {
        "colab": {
          "base_uri": "https://localhost:8080/",
          "height": 36
        },
        "id": "5UJTOgKkGAsQ",
        "outputId": "b28d997d-b668-4f37-ce44-d2835cddd5ee"
      },
      "outputs": [
        {
          "output_type": "execute_result",
          "data": {
            "text/plain": [
              "'ürün güzel tabanı ince bir saat bir yürüme mesafesinde ayaklarınızı ağrıtıyor'"
            ],
            "application/vnd.google.colaboratory.intrinsic+json": {
              "type": "string"
            }
          },
          "metadata": {},
          "execution_count": 13
        }
      ],
      "source": [
        "x_train[290]"
      ]
    },
    {
      "cell_type": "code",
      "execution_count": 14,
      "metadata": {
        "id": "MtGNg3BVGAvg"
      },
      "outputs": [],
      "source": [
        "\n",
        "num_tokens = [len(tokens) for tokens in x_train_tokens + x_test_tokens]\n",
        "num_tokens = np.array(num_tokens)"
      ]
    },
    {
      "cell_type": "code",
      "execution_count": 15,
      "metadata": {
        "colab": {
          "base_uri": "https://localhost:8080/"
        },
        "id": "d2gFjuUrGGLG",
        "outputId": "3853f3d0-32cf-4ef0-9bf2-9773b2544a75"
      },
      "outputs": [
        {
          "output_type": "execute_result",
          "data": {
            "text/plain": [
              "13.149303930744034"
            ]
          },
          "metadata": {},
          "execution_count": 15
        }
      ],
      "source": [
        "np.mean(num_tokens)"
      ]
    },
    {
      "cell_type": "code",
      "execution_count": 16,
      "metadata": {
        "colab": {
          "base_uri": "https://localhost:8080/"
        },
        "id": "vpldhigLGGRM",
        "outputId": "15af6366-47f8-481e-e897-d7d1eb4dfa32"
      },
      "outputs": [
        {
          "output_type": "execute_result",
          "data": {
            "text/plain": [
              "229"
            ]
          },
          "metadata": {},
          "execution_count": 16
        }
      ],
      "source": [
        "np.max(num_tokens)"
      ]
    },
    {
      "cell_type": "code",
      "execution_count": 17,
      "metadata": {
        "colab": {
          "base_uri": "https://localhost:8080/"
        },
        "id": "vDPp41o7GGUN",
        "outputId": "20f4f2eb-2a79-4fc1-bab5-77892bb0c24f"
      },
      "outputs": [
        {
          "output_type": "execute_result",
          "data": {
            "text/plain": [
              "42"
            ]
          },
          "metadata": {},
          "execution_count": 17
        }
      ],
      "source": [
        "\n",
        "max_tokens = np.mean(num_tokens) + 2 * np.std(num_tokens)\n",
        "max_tokens = int(max_tokens)\n",
        "max_tokens"
      ]
    },
    {
      "cell_type": "code",
      "execution_count": 18,
      "metadata": {
        "colab": {
          "base_uri": "https://localhost:8080/"
        },
        "id": "pRU3toUGGGYZ",
        "outputId": "216f9086-af7e-4eed-ef94-05bdcd4e3337"
      },
      "outputs": [
        {
          "output_type": "execute_result",
          "data": {
            "text/plain": [
              "0.9608095460926532"
            ]
          },
          "metadata": {},
          "execution_count": 18
        }
      ],
      "source": [
        "\n",
        "np.sum(num_tokens < max_tokens) / len(num_tokens)"
      ]
    },
    {
      "cell_type": "code",
      "execution_count": 19,
      "metadata": {
        "id": "qkdJn3YqGGbQ"
      },
      "outputs": [],
      "source": [
        "\n",
        "x_train_pad = np.array(pad_sequences(x_train_tokens, maxlen=max_tokens))\n",
        "x_test_pad = np.array(pad_sequences(x_test_tokens, maxlen=max_tokens))\n"
      ]
    },
    {
      "cell_type": "code",
      "execution_count": 20,
      "metadata": {
        "colab": {
          "base_uri": "https://localhost:8080/"
        },
        "id": "vnzmrjlkGTFg",
        "outputId": "feeb0b3e-b7bc-4b59-f19e-16b0ddf0de88"
      },
      "outputs": [
        {
          "output_type": "execute_result",
          "data": {
            "text/plain": [
              "array([0, 0, 0, 0, 0, 0, 0, 0, 0, 0, 0, 0, 0, 0, 0, 0, 0, 0, 0, 0, 0, 0,\n",
              "       0, 0, 0, 0, 0, 0, 0, 0, 0, 0, 0, 0, 0, 0, 0, 0, 0, 0, 0, 0],\n",
              "      dtype=int32)"
            ]
          },
          "metadata": {},
          "execution_count": 20
        }
      ],
      "source": [
        "np.array(x_train_pad[3027])"
      ]
    },
    {
      "cell_type": "code",
      "execution_count": 21,
      "metadata": {
        "colab": {
          "base_uri": "https://localhost:8080/"
        },
        "id": "PHOAafVTGTIL",
        "outputId": "e5bdbc07-c66b-4e50-a798-37a1575fcc56"
      },
      "outputs": [
        {
          "output_type": "execute_result",
          "data": {
            "text/plain": [
              "array([ 0,  0,  0,  0,  0,  0,  0,  0,  0,  0,  0,  0,  0,  0,  0,  0,  0,\n",
              "        0,  0,  0,  0,  0,  0,  0,  0,  0,  0,  0,  0,  0,  0,  0,  0,  0,\n",
              "        0,  0,  0,  0,  0,  0, 36,  4], dtype=int32)"
            ]
          },
          "metadata": {},
          "execution_count": 21
        }
      ],
      "source": [
        "x_test_pad[2000]"
      ]
    },
    {
      "cell_type": "code",
      "execution_count": 22,
      "metadata": {
        "id": "VJ5J9tlbGTKu"
      },
      "outputs": [],
      "source": [
        "\n",
        "idx = tokenizer.word_index\n",
        "inverse_map = dict(zip(idx.values(), idx.keys()))\n",
        "\n",
        "\n",
        "def tokens_to_string(tokens):\n",
        "    words = [inverse_map[token] for token in tokens if token!=0]\n",
        "    text = ' '.join(words)\n",
        "    return text"
      ]
    },
    {
      "cell_type": "code",
      "execution_count": 25,
      "metadata": {
        "id": "ENghZnzzGTM7"
      },
      "outputs": [],
      "source": [
        "import tensorflow as tf\n",
        "from tensorflow import keras\n",
        "from keras import Sequential\n",
        "from tensorflow.keras import layers\n",
        "model =Sequential()\n",
        "\n",
        "embedding_size = 50\n"
      ]
    },
    {
      "cell_type": "code",
      "execution_count": 26,
      "metadata": {
        "id": "5hiYjACWGTPw"
      },
      "outputs": [],
      "source": [
        "\n",
        "vocab =300 \n",
        "max_kata = 100\n",
        "\n",
        "model.add(Embedding(input_dim=10000,\n",
        "                    output_dim=embedding_size,\n",
        "                    input_length=max_tokens,\n",
        "                    name='embedding_layer'))\n",
        "model.add(Conv1D(64,8,activation='relu'))\n",
        "model.add(MaxPooling1D(2))\n",
        "model.add(Dropout(0.5))\n",
        "\n",
        "model.add(Dense(32,activation='relu'))\n",
        "model.add(Dropout(0.5))\n",
        "model.add(Dense(16, activation='relu'))\n",
        "model.add(GlobalMaxPool1D())\n",
        "model.add(Dense(3,activation='softmax'))\n",
        "\n"
      ]
    },
    {
      "cell_type": "code",
      "execution_count": 30,
      "metadata": {
        "id": "rE5xURG1MV99"
      },
      "outputs": [],
      "source": [
        "import math\n",
        "adam = keras.optimizers.Adam(learning_rate=math.exp(-3))\n",
        "model.compile(optimizer='adam',loss = tf.keras.losses.SparseCategoricalCrossentropy(from_logits=True), metrics=['accuracy'])"
      ]
    },
    {
      "cell_type": "code",
      "execution_count": 31,
      "metadata": {
        "id": "kt7BQK66MPAq",
        "colab": {
          "base_uri": "https://localhost:8080/"
        },
        "outputId": "c2342816-5eda-4d5b-8cba-5f4ad17268b7"
      },
      "outputs": [
        {
          "output_type": "stream",
          "name": "stdout",
          "text": [
            "Model: \"sequential\"\n",
            "_________________________________________________________________\n",
            " Layer (type)                Output Shape              Param #   \n",
            "=================================================================\n",
            " embedding_layer (Embedding)  (None, 42, 50)           500000    \n",
            "                                                                 \n",
            " conv1d (Conv1D)             (None, 35, 64)            25664     \n",
            "                                                                 \n",
            " max_pooling1d (MaxPooling1D  (None, 17, 64)           0         \n",
            " )                                                               \n",
            "                                                                 \n",
            " dropout (Dropout)           (None, 17, 64)            0         \n",
            "                                                                 \n",
            " dense (Dense)               (None, 17, 32)            2080      \n",
            "                                                                 \n",
            " dropout_1 (Dropout)         (None, 17, 32)            0         \n",
            "                                                                 \n",
            " dense_1 (Dense)             (None, 17, 16)            528       \n",
            "                                                                 \n",
            " global_max_pooling1d (Globa  (None, 16)               0         \n",
            " lMaxPooling1D)                                                  \n",
            "                                                                 \n",
            " dense_2 (Dense)             (None, 3)                 51        \n",
            "                                                                 \n",
            "=================================================================\n",
            "Total params: 528,323\n",
            "Trainable params: 528,323\n",
            "Non-trainable params: 0\n",
            "_________________________________________________________________\n"
          ]
        }
      ],
      "source": [
        "model.summary()"
      ]
    },
    {
      "cell_type": "code",
      "execution_count": null,
      "metadata": {
        "id": "Wzh5gGypGTSn",
        "colab": {
          "base_uri": "https://localhost:8080/"
        },
        "outputId": "7b8844e4-f216-4ec9-d1fa-a68d0472822c"
      },
      "outputs": [
        {
          "output_type": "stream",
          "name": "stdout",
          "text": [
            "Epoch 1/200\n",
            "321/321 [==============================] - 12s 38ms/step - loss: 0.1296 - accuracy: 0.9449 - val_loss: 0.3448 - val_accuracy: 0.8781\n",
            "Epoch 2/200\n",
            "321/321 [==============================] - 12s 36ms/step - loss: 0.1108 - accuracy: 0.9510 - val_loss: 0.3642 - val_accuracy: 0.8794\n",
            "Epoch 3/200\n",
            "321/321 [==============================] - 11s 35ms/step - loss: 0.0991 - accuracy: 0.9554 - val_loss: 0.4253 - val_accuracy: 0.8775\n",
            "Epoch 4/200\n",
            "243/321 [=====================>........] - ETA: 2s - loss: 0.0907 - accuracy: 0.9570"
          ]
        }
      ],
      "source": [
        "\n",
        "x_train_pad=np.array(x_train_pad)\n",
        "y_train =np.array(y_train)\n",
        "\n",
        "history = model.fit(x_train_pad, y_train, epochs=200, batch_size=64,validation_split=0.25,validation_data=(x_test,y_test))"
      ]
    },
    {
      "cell_type": "code",
      "execution_count": 33,
      "metadata": {
        "id": "eDIEy0mVjC2i"
      },
      "outputs": [],
      "source": [
        "model.save(\"sentiment_model.h5\")"
      ]
    },
    {
      "cell_type": "code",
      "execution_count": 34,
      "metadata": {
        "id": "Yrz_e-JljEq8",
        "colab": {
          "base_uri": "https://localhost:8080/"
        },
        "outputId": "7658cbc2-7733-4bab-b1ed-8c2577841c0e"
      },
      "outputs": [
        {
          "output_type": "stream",
          "name": "stdout",
          "text": [
            "214/214 [==============================] - 1s 5ms/step - loss: 0.3224 - accuracy: 0.8760\n"
          ]
        }
      ],
      "source": [
        "\n",
        "x_test_pad=np.array(x_test_pad)\n",
        "y_test =np.array(y_test)\n",
        "result = model.evaluate(x_test_pad, y_test)"
      ]
    },
    {
      "cell_type": "code",
      "execution_count": 35,
      "metadata": {
        "id": "J0YEVVgvjWaZ",
        "colab": {
          "base_uri": "https://localhost:8080/"
        },
        "outputId": "567ab34a-810b-497c-9e00-4a7bae2d5698"
      },
      "outputs": [
        {
          "output_type": "execute_result",
          "data": {
            "text/plain": [
              "0.8760052919387817"
            ]
          },
          "metadata": {},
          "execution_count": 35
        }
      ],
      "source": [
        "result[1]"
      ]
    },
    {
      "cell_type": "code",
      "execution_count": 43,
      "metadata": {
        "id": "6_WIJgqxjWdT"
      },
      "outputs": [],
      "source": [
        "y_pred = model.predict(x=x_test_pad[:700])\n"
      ]
    },
    {
      "cell_type": "code",
      "execution_count": 44,
      "metadata": {
        "id": "wAY6P8objWf1"
      },
      "outputs": [],
      "source": [
        "y_pred = y_pred.T[0]"
      ]
    },
    {
      "cell_type": "code",
      "execution_count": 45,
      "metadata": {
        "id": "AC7sko4FjEth",
        "colab": {
          "base_uri": "https://localhost:8080/"
        },
        "outputId": "4d48416c-fd06-401a-835b-857b5c6ca32c"
      },
      "outputs": [
        {
          "output_type": "execute_result",
          "data": {
            "text/plain": [
              "array([7.23514167e-05, 9.59230304e-01, 9.80820537e-01, 4.72929895e-01,\n",
              "       2.66554728e-02, 3.15988320e-04, 9.81888592e-01, 9.91694272e-01,\n",
              "       2.21794820e-04, 1.59771547e-01, 2.00855762e-01, 4.63937491e-01,\n",
              "       9.98046279e-01, 5.85655510e-01, 9.91405845e-01, 4.72929895e-01,\n",
              "       9.87033725e-01, 4.30215716e-01, 1.09052816e-02, 1.19993925e-01,\n",
              "       2.10847487e-04, 3.24961394e-01, 1.05068670e-03, 8.64431083e-01,\n",
              "       5.37285255e-03, 9.53030169e-01, 2.66750612e-06, 2.73883506e-03,\n",
              "       4.72929895e-01, 4.22536582e-02, 7.48595953e-01, 8.41578841e-02,\n",
              "       1.32084801e-03, 1.85142935e-03, 9.99645948e-01, 1.28018176e-02,\n",
              "       3.01133059e-02, 9.51733947e-01, 1.59886840e-05, 8.47931623e-01,\n",
              "       9.92397964e-01, 4.72929895e-01, 9.93310690e-01, 9.86130297e-01,\n",
              "       6.15909277e-03, 5.99596202e-02, 9.98656750e-01, 9.83456314e-01,\n",
              "       4.67360735e-01, 9.95242476e-01, 9.55552578e-01, 9.33755815e-01,\n",
              "       3.62439118e-02, 9.99473393e-01, 3.60721052e-02, 8.47767587e-05,\n",
              "       8.52263570e-01, 9.99337852e-01, 2.55645346e-03, 2.00336352e-01,\n",
              "       8.61124396e-01, 1.52411347e-03, 6.22879751e-02, 2.24123061e-01,\n",
              "       8.92941933e-03, 9.71178770e-01, 9.93450105e-01, 1.76641390e-01,\n",
              "       9.89987791e-01, 5.91530756e-04, 3.82789905e-04, 2.20601067e-01,\n",
              "       8.88444543e-01, 9.97041523e-01, 1.53856899e-03, 5.78893125e-01,\n",
              "       2.49666598e-04, 9.80377257e-01, 6.43690750e-02, 2.04668031e-03,\n",
              "       3.06227710e-02, 1.17511510e-04, 3.90576934e-05, 8.80880907e-06,\n",
              "       2.48569235e-01, 9.99077559e-01, 2.99078915e-02, 2.97837745e-04,\n",
              "       6.77430212e-01, 4.64160694e-03, 8.79404902e-01, 9.90112245e-01,\n",
              "       2.50907522e-02, 9.90480602e-01, 7.04847395e-01, 9.24043544e-03,\n",
              "       9.96934175e-01, 2.62121767e-01, 3.13844930e-06, 7.67885285e-05,\n",
              "       9.98911381e-01, 5.98820187e-02, 9.95592773e-01, 9.65112805e-01,\n",
              "       1.15111331e-02, 5.28733828e-04, 2.01658253e-02, 9.92260158e-01,\n",
              "       1.14906965e-04, 4.33871755e-03, 3.04230023e-02, 1.47722356e-04,\n",
              "       9.99713957e-01, 9.55763459e-01, 1.33665480e-05, 2.80655338e-04,\n",
              "       5.26180993e-05, 1.09822609e-01, 3.72267477e-02, 9.16627049e-01,\n",
              "       4.24674246e-04, 4.35567833e-03, 2.42086221e-02, 1.91621424e-04,\n",
              "       6.28485501e-01, 4.72929895e-01, 7.37858772e-01, 6.67085230e-01,\n",
              "       4.14692840e-05, 8.84213194e-04, 7.29403272e-02, 1.13676777e-02,\n",
              "       5.52062338e-05, 2.07542660e-04, 1.15996838e-01, 4.28412389e-03,\n",
              "       1.65973768e-01, 9.90721107e-01, 3.24614123e-02, 9.50289488e-01,\n",
              "       2.40478292e-01, 8.44014958e-02, 1.87693315e-03, 5.67497194e-01,\n",
              "       1.37459720e-04, 7.84946431e-04, 2.42922157e-01, 8.01686849e-03,\n",
              "       6.82974339e-01, 9.58031297e-01, 8.62599537e-03, 4.22489405e-01,\n",
              "       4.05413145e-03, 9.99134600e-01, 6.79923654e-01, 3.80904526e-02,\n",
              "       6.92338288e-01, 4.90970560e-04, 7.01642502e-03, 3.50836053e-04,\n",
              "       9.83335257e-01, 3.68050262e-02, 1.01273641e-01, 2.81504559e-04,\n",
              "       1.77445158e-01, 1.39341392e-02, 3.09154601e-03, 9.99574125e-01,\n",
              "       9.97131824e-01, 4.72929895e-01, 9.99764740e-01, 7.90529191e-01,\n",
              "       3.35980982e-01, 6.92140986e-07, 1.04121887e-03, 7.44787883e-03,\n",
              "       9.99322772e-01, 4.37794067e-03, 3.45825143e-02, 4.72929895e-01,\n",
              "       5.30007243e-01, 1.18232219e-05, 9.96974468e-01, 4.22027428e-04,\n",
              "       7.92002380e-01, 9.99942660e-01, 9.10717189e-01, 4.31599823e-04,\n",
              "       9.27645564e-02, 7.36665130e-01, 4.69873380e-03, 9.32585120e-01,\n",
              "       9.54403996e-01, 9.99922633e-01, 1.13300093e-05, 2.17808977e-01,\n",
              "       6.02816181e-05, 2.42210943e-02, 9.93480563e-01, 5.23593426e-02,\n",
              "       1.35374707e-04, 3.84205487e-03, 6.23656332e-01, 3.13452387e-04,\n",
              "       9.19911921e-01, 7.65773237e-01, 1.23254530e-01, 2.42649854e-04,\n",
              "       4.46695631e-04, 8.51177901e-05, 6.54649615e-01, 4.04697396e-02,\n",
              "       9.03716683e-01, 8.09069932e-01, 9.96925175e-01, 1.58715751e-02,\n",
              "       9.99564469e-01, 6.52131857e-04, 3.24790220e-04, 2.20928967e-01,\n",
              "       2.86110793e-03, 4.95885266e-03, 1.64617013e-04, 9.96469736e-01,\n",
              "       1.38579542e-02, 1.61822769e-03, 9.80407298e-01, 4.66441751e-01,\n",
              "       9.99914646e-01, 2.23655114e-03, 6.59079378e-05, 2.19692229e-04,\n",
              "       3.32779367e-04, 9.98968840e-01, 9.54361677e-01, 4.51077431e-01,\n",
              "       9.99700785e-01, 6.81885183e-02, 5.37351549e-01, 1.52239704e-03,\n",
              "       1.60172023e-02, 2.25651279e-01, 5.05029142e-01, 8.15298200e-01,\n",
              "       7.43558351e-03, 3.94438475e-01, 1.40025774e-02, 7.07069561e-02,\n",
              "       2.32506092e-04, 8.58395576e-01, 9.63261351e-03, 1.72774904e-04,\n",
              "       9.28151071e-01, 8.02037175e-05, 8.76436591e-01, 8.87694776e-01,\n",
              "       1.41893572e-04, 1.47986770e-01, 3.30928825e-02, 7.22724497e-01,\n",
              "       4.16592702e-05, 2.63513662e-02, 3.23188514e-01, 7.42869815e-05,\n",
              "       7.53220683e-03, 2.84844893e-03, 4.72929895e-01, 4.18596789e-02,\n",
              "       9.85004187e-01, 9.78942454e-01, 2.82250345e-02, 3.16612542e-01,\n",
              "       7.81468928e-01, 1.19854612e-02, 9.89760339e-01, 1.15530338e-06,\n",
              "       3.53932828e-02, 9.93392885e-01, 7.66585799e-05, 1.91340421e-03,\n",
              "       4.62021772e-03, 2.31702114e-04, 2.46182177e-03, 8.17333400e-01,\n",
              "       9.69520092e-01, 8.62401366e-01, 9.83259082e-01, 6.95048133e-03,\n",
              "       2.12800726e-01, 1.01255556e-03, 4.72929895e-01, 9.96156871e-01,\n",
              "       9.90847707e-01, 9.99305606e-01, 4.72929895e-01, 6.26439927e-04,\n",
              "       1.21532386e-04, 6.78917170e-02, 6.16362095e-02, 2.47470627e-04,\n",
              "       9.75732923e-01, 6.01231586e-04, 1.16273791e-01, 1.73467401e-04,\n",
              "       9.58428800e-01, 9.92863834e-01, 7.89222831e-05, 5.13772946e-03,\n",
              "       4.95290570e-03, 5.93126751e-04, 9.56557035e-01, 7.63674438e-01,\n",
              "       1.96277201e-01, 7.33449531e-04, 9.68701363e-01, 3.89344171e-02,\n",
              "       7.72968292e-01, 9.67746437e-01, 6.42799661e-02, 8.21077265e-05,\n",
              "       4.72929895e-01, 2.09693084e-04, 5.17034391e-03, 1.39395555e-03,\n",
              "       9.95473206e-01, 1.64023172e-02, 4.89960700e-01, 7.51866579e-01,\n",
              "       9.74799037e-01, 1.38266776e-02, 9.99580801e-01, 4.33225418e-03,\n",
              "       6.86959247e-04, 4.58822921e-02, 5.95060131e-03, 9.06176388e-01,\n",
              "       9.95672464e-01, 9.94137883e-01, 9.73373771e-01, 1.39242440e-01,\n",
              "       2.74002319e-03, 9.91388500e-01, 2.73957789e-01, 9.92546380e-01,\n",
              "       9.99505997e-01, 9.91488457e-01, 9.25651252e-01, 6.50007367e-01,\n",
              "       1.38204485e-01, 4.72929895e-01, 8.32665525e-03, 5.15753357e-03,\n",
              "       7.89240189e-03, 2.47572352e-05, 1.50373131e-01, 9.95412052e-01,\n",
              "       9.50805187e-01, 9.97654378e-01, 4.33052583e-06, 6.71739737e-03,\n",
              "       9.98102605e-01, 2.86728851e-02, 8.19657147e-01, 5.46925701e-04,\n",
              "       9.41785111e-04, 9.99908328e-01, 3.17579024e-02, 1.42070785e-04,\n",
              "       4.72929895e-01, 9.92173195e-01, 7.88116129e-04, 3.06572882e-04,\n",
              "       9.94700789e-01, 9.98487711e-01, 2.42210943e-02, 1.44071989e-02,\n",
              "       9.92169917e-01, 8.75978451e-03, 8.20271671e-03, 5.92497885e-01,\n",
              "       1.64155234e-02, 3.08893592e-04, 6.04527704e-02, 1.40905650e-02,\n",
              "       9.96353626e-01, 3.64505067e-05, 4.72989589e-01, 9.93685305e-01,\n",
              "       9.98226464e-01, 7.59903491e-01, 9.99681830e-01, 9.99470174e-01,\n",
              "       8.85314405e-01, 2.86728851e-02, 4.72929895e-01, 1.80113874e-03,\n",
              "       9.95651901e-01, 7.83165216e-01, 2.50517251e-03, 9.97244000e-01,\n",
              "       3.76508608e-02, 1.69659227e-01, 5.22850733e-03, 7.45401382e-01,\n",
              "       6.56709746e-02, 3.62289848e-06, 9.99450147e-01, 2.30755704e-05,\n",
              "       1.83398891e-02, 3.72823008e-04, 2.59652152e-03, 4.04841063e-04,\n",
              "       8.55945572e-02, 5.46888914e-04, 1.13958135e-01, 2.59515047e-01,\n",
              "       8.64446044e-01, 5.41028939e-03, 9.18791831e-01, 1.21871568e-01,\n",
              "       9.73164141e-01, 6.15602672e-01, 9.62554574e-01, 9.92627814e-04,\n",
              "       9.19887841e-01, 1.59557653e-03, 7.63036124e-03, 9.92577970e-01,\n",
              "       3.31492499e-02, 7.97966063e-01, 9.94105458e-01, 2.34278734e-04,\n",
              "       1.15250453e-01, 9.99951124e-01, 9.83268976e-01, 5.38821518e-01,\n",
              "       5.14325738e-01, 4.72929895e-01, 9.63404775e-01, 9.89986956e-01,\n",
              "       1.31574855e-03, 1.07651763e-02, 3.77868116e-02, 1.68762095e-02,\n",
              "       2.36626178e-01, 1.88847240e-02, 1.31577114e-02, 4.72929895e-01,\n",
              "       1.55881874e-03, 9.85298514e-01, 9.91963506e-01, 4.24837026e-06,\n",
              "       1.56795643e-02, 5.14351086e-05, 7.35130580e-03, 2.91497854e-04,\n",
              "       9.38311696e-01, 4.72929895e-01, 4.42025065e-02, 8.69316638e-01,\n",
              "       4.24638594e-04, 3.41193900e-02, 7.53679872e-01, 2.16032076e-03,\n",
              "       9.96121705e-01, 4.72929895e-01, 1.07014738e-03, 4.72929895e-01,\n",
              "       1.02502899e-02, 9.91539776e-01, 8.76017846e-03, 1.87245503e-01,\n",
              "       4.83487770e-02, 9.99763310e-01, 1.08334593e-01, 1.44809082e-01,\n",
              "       9.85719979e-01, 9.64322746e-01, 4.83724594e-01, 5.61285205e-02,\n",
              "       3.71993380e-03, 9.94925261e-01, 1.97284237e-01, 2.26026600e-06,\n",
              "       9.64859068e-01, 9.09194583e-04, 7.08333135e-01, 4.72929895e-01,\n",
              "       4.72929895e-01, 1.38141081e-01, 6.98328193e-04, 9.93332565e-01,\n",
              "       9.45838630e-01, 4.57748864e-03, 8.61148596e-01, 4.82475007e-04,\n",
              "       4.75024313e-01, 2.13597738e-03, 4.72929895e-01, 3.35666351e-02,\n",
              "       2.00203523e-01, 4.81595248e-01, 1.31557450e-01, 1.11177715e-03,\n",
              "       6.84393704e-01, 2.98035964e-02, 3.96762379e-02, 8.62930939e-02,\n",
              "       5.89112818e-01, 1.28910020e-02, 2.81676892e-02, 9.99702275e-01,\n",
              "       8.41578841e-02, 1.28673928e-05, 1.31303510e-02, 1.63626894e-02,\n",
              "       1.26454920e-01, 6.20062388e-02, 6.57535493e-02, 2.46746677e-05,\n",
              "       9.94177699e-01, 4.72929895e-01, 2.82100937e-03, 2.95158513e-02,\n",
              "       1.32248104e-01, 9.92753923e-01, 1.37632320e-04, 6.44178167e-02,\n",
              "       9.46273446e-01, 6.15454292e-06, 3.22044652e-05, 6.35765791e-01,\n",
              "       9.90897119e-01, 1.50007596e-02, 9.99390244e-01, 2.87379691e-04,\n",
              "       7.75308728e-01, 9.97400880e-01, 7.43248165e-01, 5.71204960e-01,\n",
              "       9.58498240e-01, 2.86728851e-02, 3.13755940e-03, 9.13623333e-01,\n",
              "       8.14239247e-05, 1.78751294e-02, 4.65253443e-01, 2.74650892e-03,\n",
              "       4.79019403e-01, 3.95482080e-03, 9.99925017e-01, 4.72929895e-01,\n",
              "       1.08757308e-02, 1.31089168e-04, 9.43133116e-01, 9.08778787e-01,\n",
              "       9.98682201e-01, 1.14847608e-02, 8.87334764e-01, 3.40578525e-04,\n",
              "       1.19452125e-04, 1.83137164e-01, 1.17961477e-04, 9.97430861e-01,\n",
              "       6.20524287e-01, 9.99638796e-01, 1.41830518e-04, 4.72929895e-01,\n",
              "       4.72929895e-01, 5.16472152e-03, 8.08351874e-01, 4.56182868e-04,\n",
              "       1.89152416e-02, 1.18631922e-01, 1.15783691e-01, 7.94532225e-02,\n",
              "       2.56179813e-02, 6.21029511e-02, 9.99719441e-01, 7.64598045e-03,\n",
              "       2.70228204e-03, 4.23444748e-01, 9.22015131e-01, 9.98914242e-01,\n",
              "       5.11061013e-01, 9.77652133e-01, 9.93582129e-01, 3.82660818e-03,\n",
              "       1.32043124e-05, 8.99850607e-01, 1.91113904e-01, 9.55881298e-01,\n",
              "       3.62439118e-02, 8.77496600e-01, 9.99244809e-01, 9.63236630e-01,\n",
              "       9.99599516e-01, 4.72929895e-01, 2.94498354e-01, 1.87647313e-01,\n",
              "       7.88807094e-01, 7.19272823e-04, 9.95155931e-01, 8.61899753e-05,\n",
              "       2.48315439e-01, 7.73361266e-01, 9.43133116e-01, 3.10629904e-02,\n",
              "       7.34816372e-01, 5.99357486e-01, 4.72929895e-01, 8.77367519e-03,\n",
              "       9.55979705e-01, 9.22260369e-05, 6.67206049e-01, 9.28340705e-06,\n",
              "       9.82277989e-01, 9.92428005e-01, 1.18274230e-03, 2.16426342e-05,\n",
              "       2.32437797e-05, 8.85468304e-01, 4.21115011e-02, 9.86019850e-01,\n",
              "       2.86728851e-02, 9.95859921e-01, 3.56421224e-03, 2.49572232e-01,\n",
              "       7.73826288e-03, 6.20712817e-01, 1.06846949e-03, 5.17323673e-01,\n",
              "       5.75670935e-02, 7.34023973e-02, 9.67178702e-01, 4.20788676e-01,\n",
              "       7.70950258e-01, 1.64899126e-01, 1.08726017e-04, 5.88296819e-03,\n",
              "       7.62749551e-05, 9.82481420e-01, 9.99843955e-01, 8.41578841e-02,\n",
              "       6.40832037e-02, 9.97509480e-01, 3.95887299e-03, 9.45882678e-01,\n",
              "       7.11049326e-03, 1.12064436e-01, 7.86041915e-02, 4.02140839e-04,\n",
              "       1.85486123e-01, 7.38019586e-01, 8.21231365e-01, 9.09330368e-01,\n",
              "       7.23130777e-02, 6.80616081e-01, 9.77948308e-01, 3.41825522e-02,\n",
              "       6.70387782e-03, 2.81740129e-01, 1.93152173e-05, 1.17609808e-02,\n",
              "       9.83625472e-01, 6.46693185e-02, 9.74442244e-01, 2.81385990e-04,\n",
              "       4.58412841e-02, 1.00789021e-03, 9.99686718e-01, 3.42286885e-01,\n",
              "       7.19198883e-02, 9.79915082e-01, 9.97702301e-01, 8.15211897e-05,\n",
              "       3.77374440e-02, 3.78758460e-02, 6.74965209e-04, 9.99583542e-01,\n",
              "       2.15421125e-04, 9.13623333e-01, 9.98104095e-01, 1.44494712e-01,\n",
              "       8.88403296e-01, 1.08247343e-03, 4.37443137e-01, 4.72492576e-01,\n",
              "       1.17966952e-03, 6.37895940e-03, 1.16355643e-01, 4.72929895e-01,\n",
              "       9.98082042e-01, 4.15809117e-02, 9.76940513e-01, 4.72929895e-01,\n",
              "       1.64187595e-03, 7.62437761e-01, 6.38693979e-04, 8.20448250e-03],\n",
              "      dtype=float32)"
            ]
          },
          "metadata": {},
          "execution_count": 45
        }
      ],
      "source": [
        "y_pred"
      ]
    },
    {
      "cell_type": "code",
      "execution_count": 46,
      "metadata": {
        "id": "XgeMDFjsjcqw"
      },
      "outputs": [],
      "source": [
        "text = \"ayakkabı güzel\"\n",
        "texts = [text]\n",
        "tokens = tokenizer.texts_to_sequences(texts)"
      ]
    },
    {
      "cell_type": "code",
      "execution_count": 47,
      "metadata": {
        "id": "LO_Lfv7mjctg",
        "colab": {
          "base_uri": "https://localhost:8080/"
        },
        "outputId": "aa884e60-746d-4e1a-c8a3-d6f217284f83"
      },
      "outputs": [
        {
          "output_type": "execute_result",
          "data": {
            "text/plain": [
              "(1, 42)"
            ]
          },
          "metadata": {},
          "execution_count": 47
        }
      ],
      "source": [
        "tokens_pad = pad_sequences(tokens,maxlen = max_tokens)\n",
        "tokens_pad.shape"
      ]
    },
    {
      "cell_type": "code",
      "execution_count": 54,
      "metadata": {
        "id": "GOUDY-kAVHMz",
        "colab": {
          "base_uri": "https://localhost:8080/"
        },
        "outputId": "b5f95b6d-4b5d-4ef7-b148-8ec269cf3e2e"
      },
      "outputs": [
        {
          "output_type": "execute_result",
          "data": {
            "text/plain": [
              "0"
            ]
          },
          "metadata": {},
          "execution_count": 54
        }
      ],
      "source": [
        "int(model.predict(tokens_pad).tolist()[0][0])"
      ]
    },
    {
      "cell_type": "code",
      "execution_count": 57,
      "metadata": {
        "id": "1n8n_icUjcv4",
        "colab": {
          "base_uri": "https://localhost:8080/"
        },
        "outputId": "c97425df-519e-4366-b084-30a37b284687"
      },
      "outputs": [
        {
          "output_type": "stream",
          "name": "stdout",
          "text": [
            "moralinizin 0 olduğunu görüyorum. \n"
          ]
        }
      ],
      "source": [
        "\n",
        "print(\"moralinizin {} olduğunu görüyorum. \".format(int(model.predict(tokens_pad).tolist()[0][0])))\n"
      ]
    },
    {
      "cell_type": "code",
      "execution_count": 58,
      "metadata": {
        "id": "tvKq_1gXjcyn",
        "colab": {
          "base_uri": "https://localhost:8080/",
          "height": 350
        },
        "outputId": "a33bf1e6-37a3-476f-d5c4-f6b569c4ab29"
      },
      "outputs": [
        {
          "output_type": "display_data",
          "data": {
            "text/plain": [
              "<Figure size 720x360 with 1 Axes>"
            ],
            "image/png": "[encoded data removed]"
          },
          "metadata": {
            "needs_background": "light"
          }
        }
      ],
      "source": [
        "import matplotlib.pyplot as plt\n",
        "\n",
        "plt.figure(figsize = (10,5))\n",
        "plt.plot(history.history['loss'])\n",
        "plt.plot(history.history['val_loss'])\n",
        "plt.title('Model loss')\n",
        "plt.ylabel('Loss')\n",
        "plt.xlabel('Epoch')\n",
        "plt.legend(['Train', 'Test'], loc='upper left')\n",
        "plt.show()"
      ]
    },
    {
      "cell_type": "code",
      "execution_count": 59,
      "metadata": {
        "id": "g-coQKrEkz5D",
        "colab": {
          "base_uri": "https://localhost:8080/",
          "height": 350
        },
        "outputId": "6a0bb541-23b6-4d41-991a-5dfbd0aeea8e"
      },
      "outputs": [
        {
          "output_type": "display_data",
          "data": {
            "text/plain": [
              "<Figure size 720x360 with 1 Axes>"
            ],
            "image/png": "[encoded data removed]"
          },
          "metadata": {
            "needs_background": "light"
          }
        }
      ],
      "source": [
        "plt.figure(figsize = (10,5))\n",
        "plt.plot(history.history['accuracy'])\n",
        "plt.plot(history.history['val_accuracy'])\n",
        "plt.title('Model accuracy')\n",
        "plt.ylabel('Accuracy')\n",
        "plt.xlabel('Epoch')\n",
        "plt.legend(['Train', 'Test'], loc='upper left')\n",
        "plt.show()"
      ]
    },
    {
      "cell_type": "markdown",
      "metadata": {
        "id": "-Flm0vp169Qh"
      },
      "source": [
        ""
      ]
    },
    {
      "cell_type": "code",
      "execution_count": null,
      "metadata": {
        "id": "sGYCO0zcFamQ"
      },
      "outputs": [],
      "source": [
        "model.save(\"sentiment_model.h5\")"
      ]
    },
    {
      "cell_type": "code",
      "execution_count": null,
      "metadata": {
        "id": "J_PNW-MujlKc"
      },
      "outputs": [],
      "source": [
        "import pickle\n",
        "\n",
        "# saving\n",
        "with open('tokenizer.pickle', 'wb') as handle:\n",
        "    pickle.dump(tokenizer, handle, protocol=pickle.HIGHEST_PROTOCOL)"
      ]
    }
  ],
  "metadata": {
    "colab": {
      "collapsed_sections": [],
      "name": "deepLearning.ipynb",
      "provenance": [],
      "include_colab_link": true
    },
    "kernelspec": {
      "display_name": "Python 3",
      "name": "python3"
    },
    "language_info": {
      "name": "python"
    }
  },
  "nbformat": 4,
  "nbformat_minor": 0
}