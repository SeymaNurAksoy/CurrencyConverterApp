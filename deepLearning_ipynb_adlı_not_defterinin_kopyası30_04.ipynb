{
  "cells": [
    {
      "cell_type": "markdown",
      "metadata": {
        "id": "view-in-github",
        "colab_type": "text"
      },
      "source": [
        "<a href=\"https://colab.research.google.com/github/SeymaNurAksoy/CurrencyConverterApp/blob/main/deepLearning_ipynb_adl%C4%B1_not_defterinin_kopyas%C4%B130_04.ipynb\" target=\"_parent\"><img src=\"https://colab.research.google.com/assets/colab-badge.svg\" alt=\"Open In Colab\"/></a>"
      ]
    },
    {
      "cell_type": "code",
      "execution_count": 212,
      "metadata": {
        "id": "G8Lw0D3SAwG_",
        "colab": {
          "base_uri": "https://localhost:8080/"
        },
        "outputId": "3d309930-ede3-47b2-eba1-07b22321dea2"
      },
      "outputs": [
        {
          "output_type": "stream",
          "name": "stdout",
          "text": [
            "[nltk_data] Downloading package punkt to /root/nltk_data...\n",
            "[nltk_data]   Package punkt is already up-to-date!\n",
            "[nltk_data] Downloading package stopwords to /root/nltk_data...\n",
            "[nltk_data]   Package stopwords is already up-to-date!\n"
          ]
        },
        {
          "output_type": "execute_result",
          "data": {
            "text/plain": [
              "['acaba',\n",
              " 'ama',\n",
              " 'aslında',\n",
              " 'az',\n",
              " 'bazı',\n",
              " 'belki',\n",
              " 'biri',\n",
              " 'birkaç',\n",
              " 'birşey',\n",
              " 'biz',\n",
              " 'bu',\n",
              " 'çok',\n",
              " 'çünkü',\n",
              " 'da',\n",
              " 'daha',\n",
              " 'de',\n",
              " 'defa',\n",
              " 'diye',\n",
              " 'eğer',\n",
              " 'en',\n",
              " 'gibi',\n",
              " 'hem',\n",
              " 'hep',\n",
              " 'hepsi',\n",
              " 'her',\n",
              " 'hiç',\n",
              " 'için',\n",
              " 'ile',\n",
              " 'ise',\n",
              " 'kez',\n",
              " 'ki',\n",
              " 'kim',\n",
              " 'mı',\n",
              " 'mu',\n",
              " 'mü',\n",
              " 'nasıl',\n",
              " 'ne',\n",
              " 'neden',\n",
              " 'nerde',\n",
              " 'nerede',\n",
              " 'nereye',\n",
              " 'niçin',\n",
              " 'niye',\n",
              " 'o',\n",
              " 'sanki',\n",
              " 'şey',\n",
              " 'siz',\n",
              " 'şu',\n",
              " 'tüm',\n",
              " 've',\n",
              " 'veya',\n",
              " 'ya',\n",
              " 'yani']"
            ]
          },
          "metadata": {},
          "execution_count": 212
        }
      ],
      "source": [
        "import numpy as np\n",
        "import pandas as pd\n",
        "from tensorflow.python.keras.models import Sequential\n",
        "from tensorflow.python.keras.layers import Dense, GRU, Embedding, LSTM\n",
        "from tensorflow.keras.layers import Dense,Embedding,Activation,Dropout\n",
        "from tensorflow.python.keras.layers.core import Activation\n",
        "from keras.layers import Conv1D,MaxPooling1D,GlobalMaxPool1D\n",
        "from tensorflow.keras.optimizers import Adam \n",
        "from keras.preprocessing.text import Tokenizer\n",
        "from keras.preprocessing.sequence import pad_sequences\n",
        "from tensorflow.python.keras.models import load_model\n",
        "import re\n",
        "import nltk\n",
        "\n",
        "nltk.download('punkt')\n",
        "nltk.download('stopwords')\n",
        "from nltk.corpus import stopwords\n",
        "WPT = nltk.WordPunctTokenizer()\n",
        "stop_word_list = nltk.corpus.stopwords.words('turkish')\n",
        "stop_word_list\n"
      ]
    },
    {
      "cell_type": "code",
      "execution_count": 213,
      "metadata": {
        "colab": {
          "base_uri": "https://localhost:8080/"
        },
        "id": "B8IFooI_ECyX",
        "outputId": "e0295148-a2cf-4268-f30f-c71ea3e77d7f"
      },
      "outputs": [
        {
          "output_type": "stream",
          "name": "stdout",
          "text": [
            "Requirement already satisfied: tensorflow in /usr/local/lib/python3.7/dist-packages (2.8.0)\n",
            "Requirement already satisfied: google-pasta>=0.1.1 in /usr/local/lib/python3.7/dist-packages (from tensorflow) (0.2.0)\n",
            "Requirement already satisfied: opt-einsum>=2.3.2 in /usr/local/lib/python3.7/dist-packages (from tensorflow) (3.3.0)\n",
            "Requirement already satisfied: h5py>=2.9.0 in /usr/local/lib/python3.7/dist-packages (from tensorflow) (3.1.0)\n",
            "Requirement already satisfied: protobuf>=3.9.2 in /usr/local/lib/python3.7/dist-packages (from tensorflow) (3.17.3)\n",
            "Requirement already satisfied: keras-preprocessing>=1.1.1 in /usr/local/lib/python3.7/dist-packages (from tensorflow) (1.1.2)\n",
            "Requirement already satisfied: tensorflow-io-gcs-filesystem>=0.23.1 in /usr/local/lib/python3.7/dist-packages (from tensorflow) (0.25.0)\n",
            "Requirement already satisfied: libclang>=9.0.1 in /usr/local/lib/python3.7/dist-packages (from tensorflow) (14.0.1)\n",
            "Requirement already satisfied: tf-estimator-nightly==2.8.0.dev2021122109 in /usr/local/lib/python3.7/dist-packages (from tensorflow) (2.8.0.dev2021122109)\n",
            "Requirement already satisfied: wrapt>=1.11.0 in /usr/local/lib/python3.7/dist-packages (from tensorflow) (1.14.0)\n",
            "Requirement already satisfied: termcolor>=1.1.0 in /usr/local/lib/python3.7/dist-packages (from tensorflow) (1.1.0)\n",
            "Requirement already satisfied: setuptools in /usr/local/lib/python3.7/dist-packages (from tensorflow) (57.4.0)\n",
            "Requirement already satisfied: keras<2.9,>=2.8.0rc0 in /usr/local/lib/python3.7/dist-packages (from tensorflow) (2.8.0)\n",
            "Requirement already satisfied: absl-py>=0.4.0 in /usr/local/lib/python3.7/dist-packages (from tensorflow) (1.0.0)\n",
            "Requirement already satisfied: numpy>=1.20 in /usr/local/lib/python3.7/dist-packages (from tensorflow) (1.21.6)\n",
            "Requirement already satisfied: tensorboard<2.9,>=2.8 in /usr/local/lib/python3.7/dist-packages (from tensorflow) (2.8.0)\n",
            "Requirement already satisfied: grpcio<2.0,>=1.24.3 in /usr/local/lib/python3.7/dist-packages (from tensorflow) (1.44.0)\n",
            "Requirement already satisfied: astunparse>=1.6.0 in /usr/local/lib/python3.7/dist-packages (from tensorflow) (1.6.3)\n",
            "Requirement already satisfied: typing-extensions>=3.6.6 in /usr/local/lib/python3.7/dist-packages (from tensorflow) (4.2.0)\n",
            "Requirement already satisfied: gast>=0.2.1 in /usr/local/lib/python3.7/dist-packages (from tensorflow) (0.5.3)\n",
            "Requirement already satisfied: six>=1.12.0 in /usr/local/lib/python3.7/dist-packages (from tensorflow) (1.15.0)\n",
            "Requirement already satisfied: flatbuffers>=1.12 in /usr/local/lib/python3.7/dist-packages (from tensorflow) (2.0)\n",
            "Requirement already satisfied: wheel<1.0,>=0.23.0 in /usr/local/lib/python3.7/dist-packages (from astunparse>=1.6.0->tensorflow) (0.37.1)\n",
            "Requirement already satisfied: cached-property in /usr/local/lib/python3.7/dist-packages (from h5py>=2.9.0->tensorflow) (1.5.2)\n",
            "Requirement already satisfied: tensorboard-data-server<0.7.0,>=0.6.0 in /usr/local/lib/python3.7/dist-packages (from tensorboard<2.9,>=2.8->tensorflow) (0.6.1)\n",
            "Requirement already satisfied: tensorboard-plugin-wit>=1.6.0 in /usr/local/lib/python3.7/dist-packages (from tensorboard<2.9,>=2.8->tensorflow) (1.8.1)\n",
            "Requirement already satisfied: markdown>=2.6.8 in /usr/local/lib/python3.7/dist-packages (from tensorboard<2.9,>=2.8->tensorflow) (3.3.6)\n",
            "Requirement already satisfied: werkzeug>=0.11.15 in /usr/local/lib/python3.7/dist-packages (from tensorboard<2.9,>=2.8->tensorflow) (1.0.1)\n",
            "Requirement already satisfied: google-auth<3,>=1.6.3 in /usr/local/lib/python3.7/dist-packages (from tensorboard<2.9,>=2.8->tensorflow) (1.35.0)\n",
            "Requirement already satisfied: requests<3,>=2.21.0 in /usr/local/lib/python3.7/dist-packages (from tensorboard<2.9,>=2.8->tensorflow) (2.23.0)\n",
            "Requirement already satisfied: google-auth-oauthlib<0.5,>=0.4.1 in /usr/local/lib/python3.7/dist-packages (from tensorboard<2.9,>=2.8->tensorflow) (0.4.6)\n",
            "Requirement already satisfied: pyasn1-modules>=0.2.1 in /usr/local/lib/python3.7/dist-packages (from google-auth<3,>=1.6.3->tensorboard<2.9,>=2.8->tensorflow) (0.2.8)\n",
            "Requirement already satisfied: cachetools<5.0,>=2.0.0 in /usr/local/lib/python3.7/dist-packages (from google-auth<3,>=1.6.3->tensorboard<2.9,>=2.8->tensorflow) (4.2.4)\n",
            "Requirement already satisfied: rsa<5,>=3.1.4 in /usr/local/lib/python3.7/dist-packages (from google-auth<3,>=1.6.3->tensorboard<2.9,>=2.8->tensorflow) (4.8)\n",
            "Requirement already satisfied: requests-oauthlib>=0.7.0 in /usr/local/lib/python3.7/dist-packages (from google-auth-oauthlib<0.5,>=0.4.1->tensorboard<2.9,>=2.8->tensorflow) (1.3.1)\n",
            "Requirement already satisfied: importlib-metadata>=4.4 in /usr/local/lib/python3.7/dist-packages (from markdown>=2.6.8->tensorboard<2.9,>=2.8->tensorflow) (4.11.3)\n",
            "Requirement already satisfied: zipp>=0.5 in /usr/local/lib/python3.7/dist-packages (from importlib-metadata>=4.4->markdown>=2.6.8->tensorboard<2.9,>=2.8->tensorflow) (3.8.0)\n",
            "Requirement already satisfied: pyasn1<0.5.0,>=0.4.6 in /usr/local/lib/python3.7/dist-packages (from pyasn1-modules>=0.2.1->google-auth<3,>=1.6.3->tensorboard<2.9,>=2.8->tensorflow) (0.4.8)\n",
            "Requirement already satisfied: urllib3!=1.25.0,!=1.25.1,<1.26,>=1.21.1 in /usr/local/lib/python3.7/dist-packages (from requests<3,>=2.21.0->tensorboard<2.9,>=2.8->tensorflow) (1.24.3)\n",
            "Requirement already satisfied: certifi>=2017.4.17 in /usr/local/lib/python3.7/dist-packages (from requests<3,>=2.21.0->tensorboard<2.9,>=2.8->tensorflow) (2021.10.8)\n",
            "Requirement already satisfied: chardet<4,>=3.0.2 in /usr/local/lib/python3.7/dist-packages (from requests<3,>=2.21.0->tensorboard<2.9,>=2.8->tensorflow) (3.0.4)\n",
            "Requirement already satisfied: idna<3,>=2.5 in /usr/local/lib/python3.7/dist-packages (from requests<3,>=2.21.0->tensorboard<2.9,>=2.8->tensorflow) (2.10)\n",
            "Requirement already satisfied: oauthlib>=3.0.0 in /usr/local/lib/python3.7/dist-packages (from requests-oauthlib>=0.7.0->google-auth-oauthlib<0.5,>=0.4.1->tensorboard<2.9,>=2.8->tensorflow) (3.2.0)\n",
            "Requirement already satisfied: keras in /usr/local/lib/python3.7/dist-packages (2.8.0)\n"
          ]
        }
      ],
      "source": [
        "!pip install --upgrade tensorflow\n",
        "!pip install --upgrade keras\n"
      ]
    },
    {
      "cell_type": "code",
      "execution_count": 214,
      "metadata": {
        "colab": {
          "base_uri": "https://localhost:8080/",
          "height": 424
        },
        "id": "UkRlIUPX-gxG",
        "outputId": "e12eee7b-576a-4cd8-811e-8385c8b51da5"
      },
      "outputs": [
        {
          "output_type": "execute_result",
          "data": {
            "text/plain": [
              "                                                    Text  Sentiment\n",
              "0      Daha öncede almıştım bu cihazdan ense ve sakal...          1\n",
              "1      Ürün gayet başarılı sakal kesmede başlık sayıs...          1\n",
              "2      Daha öncede aynısını almıştım çok güzel ve kal...          1\n",
              "3      Erkek kuaförüyüm ense ve sıfır sakal traşı içi...          1\n",
              "4                               ürün gerçekten çok güzel          1\n",
              "...                                                  ...        ...\n",
              "34187        J7 Pro Cihazı Geldi Fakat Faturası Gelmedi!          0\n",
              "34188             Müşteri Hizmetlerine Ulaşamama Sorunu!          0\n",
              "34189                                Para İadesi Sorunu!          0\n",
              "34190                                     Mağdur Ediyor!          0\n",
              "34191             Ürünü Aldığı Halde Parayı İade Etmedi!          0\n",
              "\n",
              "[34192 rows x 2 columns]"
            ],
            "text/html": [
              "\n",
              "  <div id=\"df-f2a8c180-63db-49f9-bad4-c0ba5ad15742\">\n",
              "    <div class=\"colab-df-container\">\n",
              "      <div>\n",
              "<style scoped>\n",
              "    .dataframe tbody tr th:only-of-type {\n",
              "        vertical-align: middle;\n",
              "    }\n",
              "\n",
              "    .dataframe tbody tr th {\n",
              "        vertical-align: top;\n",
              "    }\n",
              "\n",
              "    .dataframe thead th {\n",
              "        text-align: right;\n",
              "    }\n",
              "</style>\n",
              "<table border=\"1\" class=\"dataframe\">\n",
              "  <thead>\n",
              "    <tr style=\"text-align: right;\">\n",
              "      <th></th>\n",
              "      <th>Text</th>\n",
              "      <th>Sentiment</th>\n",
              "    </tr>\n",
              "  </thead>\n",
              "  <tbody>\n",
              "    <tr>\n",
              "      <th>0</th>\n",
              "      <td>Daha öncede almıştım bu cihazdan ense ve sakal...</td>\n",
              "      <td>1</td>\n",
              "    </tr>\n",
              "    <tr>\n",
              "      <th>1</th>\n",
              "      <td>Ürün gayet başarılı sakal kesmede başlık sayıs...</td>\n",
              "      <td>1</td>\n",
              "    </tr>\n",
              "    <tr>\n",
              "      <th>2</th>\n",
              "      <td>Daha öncede aynısını almıştım çok güzel ve kal...</td>\n",
              "      <td>1</td>\n",
              "    </tr>\n",
              "    <tr>\n",
              "      <th>3</th>\n",
              "      <td>Erkek kuaförüyüm ense ve sıfır sakal traşı içi...</td>\n",
              "      <td>1</td>\n",
              "    </tr>\n",
              "    <tr>\n",
              "      <th>4</th>\n",
              "      <td>ürün gerçekten çok güzel</td>\n",
              "      <td>1</td>\n",
              "    </tr>\n",
              "    <tr>\n",
              "      <th>...</th>\n",
              "      <td>...</td>\n",
              "      <td>...</td>\n",
              "    </tr>\n",
              "    <tr>\n",
              "      <th>34187</th>\n",
              "      <td>J7 Pro Cihazı Geldi Fakat Faturası Gelmedi!</td>\n",
              "      <td>0</td>\n",
              "    </tr>\n",
              "    <tr>\n",
              "      <th>34188</th>\n",
              "      <td>Müşteri Hizmetlerine Ulaşamama Sorunu!</td>\n",
              "      <td>0</td>\n",
              "    </tr>\n",
              "    <tr>\n",
              "      <th>34189</th>\n",
              "      <td>Para İadesi Sorunu!</td>\n",
              "      <td>0</td>\n",
              "    </tr>\n",
              "    <tr>\n",
              "      <th>34190</th>\n",
              "      <td>Mağdur Ediyor!</td>\n",
              "      <td>0</td>\n",
              "    </tr>\n",
              "    <tr>\n",
              "      <th>34191</th>\n",
              "      <td>Ürünü Aldığı Halde Parayı İade Etmedi!</td>\n",
              "      <td>0</td>\n",
              "    </tr>\n",
              "  </tbody>\n",
              "</table>\n",
              "<p>34192 rows × 2 columns</p>\n",
              "</div>\n",
              "      <button class=\"colab-df-convert\" onclick=\"convertToInteractive('df-f2a8c180-63db-49f9-bad4-c0ba5ad15742')\"\n",
              "              title=\"Convert this dataframe to an interactive table.\"\n",
              "              style=\"display:none;\">\n",
              "        \n",
              "  <svg xmlns=\"http://www.w3.org/2000/svg\" height=\"24px\"viewBox=\"0 0 24 24\"\n",
              "       width=\"24px\">\n",
              "    <path d=\"M0 0h24v24H0V0z\" fill=\"none\"/>\n",
              "    <path d=\"M18.56 5.44l.94 2.06.94-2.06 2.06-.94-2.06-.94-.94-2.06-.94 2.06-2.06.94zm-11 1L8.5 8.5l.94-2.06 2.06-.94-2.06-.94L8.5 2.5l-.94 2.06-2.06.94zm10 10l.94 2.06.94-2.06 2.06-.94-2.06-.94-.94-2.06-.94 2.06-2.06.94z\"/><path d=\"M17.41 7.96l-1.37-1.37c-.4-.4-.92-.59-1.43-.59-.52 0-1.04.2-1.43.59L10.3 9.45l-7.72 7.72c-.78.78-.78 2.05 0 2.83L4 21.41c.39.39.9.59 1.41.59.51 0 1.02-.2 1.41-.59l7.78-7.78 2.81-2.81c.8-.78.8-2.07 0-2.86zM5.41 20L4 18.59l7.72-7.72 1.47 1.35L5.41 20z\"/>\n",
              "  </svg>\n",
              "      </button>\n",
              "      \n",
              "  <style>\n",
              "    .colab-df-container {\n",
              "      display:flex;\n",
              "      flex-wrap:wrap;\n",
              "      gap: 12px;\n",
              "    }\n",
              "\n",
              "    .colab-df-convert {\n",
              "      background-color: #E8F0FE;\n",
              "      border: none;\n",
              "      border-radius: 50%;\n",
              "      cursor: pointer;\n",
              "      display: none;\n",
              "      fill: #1967D2;\n",
              "      height: 32px;\n",
              "      padding: 0 0 0 0;\n",
              "      width: 32px;\n",
              "    }\n",
              "\n",
              "    .colab-df-convert:hover {\n",
              "      background-color: #E2EBFA;\n",
              "      box-shadow: 0px 1px 2px rgba(60, 64, 67, 0.3), 0px 1px 3px 1px rgba(60, 64, 67, 0.15);\n",
              "      fill: #174EA6;\n",
              "    }\n",
              "\n",
              "    [theme=dark] .colab-df-convert {\n",
              "      background-color: #3B4455;\n",
              "      fill: #D2E3FC;\n",
              "    }\n",
              "\n",
              "    [theme=dark] .colab-df-convert:hover {\n",
              "      background-color: #434B5C;\n",
              "      box-shadow: 0px 1px 3px 1px rgba(0, 0, 0, 0.15);\n",
              "      filter: drop-shadow(0px 1px 2px rgba(0, 0, 0, 0.3));\n",
              "      fill: #FFFFFF;\n",
              "    }\n",
              "  </style>\n",
              "\n",
              "      <script>\n",
              "        const buttonEl =\n",
              "          document.querySelector('#df-f2a8c180-63db-49f9-bad4-c0ba5ad15742 button.colab-df-convert');\n",
              "        buttonEl.style.display =\n",
              "          google.colab.kernel.accessAllowed ? 'block' : 'none';\n",
              "\n",
              "        async function convertToInteractive(key) {\n",
              "          const element = document.querySelector('#df-f2a8c180-63db-49f9-bad4-c0ba5ad15742');\n",
              "          const dataTable =\n",
              "            await google.colab.kernel.invokeFunction('convertToInteractive',\n",
              "                                                     [key], {});\n",
              "          if (!dataTable) return;\n",
              "\n",
              "          const docLinkHtml = 'Like what you see? Visit the ' +\n",
              "            '<a target=\"_blank\" href=https://colab.research.google.com/notebooks/data_table.ipynb>data table notebook</a>'\n",
              "            + ' to learn more about interactive tables.';\n",
              "          element.innerHTML = '';\n",
              "          dataTable['output_type'] = 'display_data';\n",
              "          await google.colab.output.renderOutput(dataTable, element);\n",
              "          const docLink = document.createElement('div');\n",
              "          docLink.innerHTML = docLinkHtml;\n",
              "          element.appendChild(docLink);\n",
              "        }\n",
              "      </script>\n",
              "    </div>\n",
              "  </div>\n",
              "  "
            ]
          },
          "metadata": {},
          "execution_count": 214
        }
      ],
      "source": [
        "dataset = pd.read_excel('sentimentAnalysis.xlsx', sheet_name = 'Sheet1')\n",
        "dataset"
      ]
    },
    {
      "cell_type": "code",
      "execution_count": 215,
      "metadata": {
        "id": "zpT6Vk7gFM6B"
      },
      "outputs": [],
      "source": [
        "dataset['Text'] = dataset['Text'].apply(lambda x: re.sub('[,\\.!?:()\"]', '', x))\n",
        "dataset['Text'] = dataset['Text'].apply(lambda x: x.lower())\n",
        "dataset['Text'] = dataset['Text'].apply(lambda x: x.strip())\n",
        "\n",
        "def token(values):\n",
        "    words = nltk.tokenize.word_tokenize(values)\n",
        "    filtered_words = [word for word in words if word not in stop_word_list]\n",
        "    not_stopword_doc = \" \".join(filtered_words)\n",
        "    return not_stopword_doc\n",
        "\n",
        "dataset['Text'] = dataset['Text'].apply(lambda x: token(x))"
      ]
    },
    {
      "cell_type": "code",
      "execution_count": 216,
      "metadata": {
        "colab": {
          "base_uri": "https://localhost:8080/"
        },
        "id": "GqsmkpfoFW48",
        "outputId": "9c69d426-7323-4eb0-90ee-ad32d9c50a72"
      },
      "outputs": [
        {
          "output_type": "execute_result",
          "data": {
            "text/plain": [
              "0        öncede almıştım cihazdan ense sakal tüketmek o...\n",
              "1        ürün gayet başarılı sakal kesmede başlık sayıs...\n",
              "2         öncede aynısını almıştım güzel kaliteli bir ürün\n",
              "3        erkek kuaförüyüm ense sıfır sakal traşı uygun ...\n",
              "4                                     ürün gerçekten güzel\n",
              "                               ...                        \n",
              "34187           j7 pro cihazı geldi fakat faturası gelmedi\n",
              "34188                müşteri hizmetlerine ulaşamama sorunu\n",
              "34189                                  para i̇adesi sorunu\n",
              "34190                                        mağdur ediyor\n",
              "34191               ürünü aldığı halde parayı i̇ade etmedi\n",
              "Name: Text, Length: 34192, dtype: object"
            ]
          },
          "metadata": {},
          "execution_count": 216
        }
      ],
      "source": [
        "dataset['Text']"
      ]
    },
    {
      "cell_type": "code",
      "execution_count": 217,
      "metadata": {
        "id": "jlxdrklXFlhd"
      },
      "outputs": [],
      "source": [
        "data = dataset['Text'].values.tolist()\n",
        "sentiment = dataset['Sentiment'].values.tolist()"
      ]
    },
    {
      "cell_type": "code",
      "execution_count": 218,
      "metadata": {
        "id": "whRHJXv7Freu"
      },
      "outputs": [],
      "source": [
        "from sklearn.model_selection import train_test_split\n",
        "x_train, x_test, y_train, y_test = train_test_split(data,sentiment,test_size = 0.2, random_state = 42)"
      ]
    },
    {
      "cell_type": "code",
      "execution_count": 219,
      "metadata": {
        "colab": {
          "base_uri": "https://localhost:8080/",
          "height": 36
        },
        "id": "_uXs-wbnFvfq",
        "outputId": "df17cf9f-09ac-43e0-a0b5-339833a0497b"
      },
      "outputs": [
        {
          "output_type": "execute_result",
          "data": {
            "text/plain": [
              "'ürün güzel tabanı ince bir saat bir yürüme mesafesinde ayaklarınızı ağrıtıyor'"
            ],
            "application/vnd.google.colaboratory.intrinsic+json": {
              "type": "string"
            }
          },
          "metadata": {},
          "execution_count": 219
        }
      ],
      "source": [
        "x_train[290]"
      ]
    },
    {
      "cell_type": "code",
      "execution_count": 220,
      "metadata": {
        "colab": {
          "base_uri": "https://localhost:8080/"
        },
        "id": "vWXY0QuaFxV5",
        "outputId": "1f080a8e-2cf7-4930-f1a6-73a7110637c5"
      },
      "outputs": [
        {
          "output_type": "execute_result",
          "data": {
            "text/plain": [
              "0"
            ]
          },
          "metadata": {},
          "execution_count": 220
        }
      ],
      "source": [
        "y_train[290]"
      ]
    },
    {
      "cell_type": "code",
      "execution_count": 221,
      "metadata": {
        "id": "ZQpZUesfF0ME",
        "colab": {
          "base_uri": "https://localhost:8080/"
        },
        "outputId": "7558a1b5-c371-4901-8d82-2e32e8c908c2"
      },
      "outputs": [
        {
          "output_type": "execute_result",
          "data": {
            "text/plain": [
              "{'bir': 1,\n",
              " 'ürün': 2,\n",
              " 'güzel': 3,\n",
              " 'iyi': 4,\n",
              " 'tavsiye': 5,\n",
              " 'gayet': 6,\n",
              " 'ederim': 7,\n",
              " 'aldım': 8,\n",
              " 'yok': 9,\n",
              " 'geldi': 10,\n",
              " 'hızlı': 11,\n",
              " 'değil': 12,\n",
              " 'göre': 13,\n",
              " 'ürünü': 14,\n",
              " 'olarak': 15,\n",
              " 'var': 16,\n",
              " 'kaliteli': 17,\n",
              " 'kadar': 18,\n",
              " '0': 19,\n",
              " 'telefon': 20,\n",
              " 'uygun': 21,\n",
              " 'teşekkürler': 22,\n",
              " 'cok': 23,\n",
              " 'biraz': 24,\n",
              " 'ben': 25,\n",
              " 'kargo': 26,\n",
              " 'kullanışlı': 27,\n",
              " 'fiyat': 28,\n",
              " 'elime': 29,\n",
              " '1': 30,\n",
              " 'küçük': 31,\n",
              " 'fiyata': 32,\n",
              " 'bi': 33,\n",
              " 'gün': 34,\n",
              " 'kalitesi': 35,\n",
              " 'kesinlikle': 36,\n",
              " 'fiyatına': 37,\n",
              " 'şarj': 38,\n",
              " 'sonra': 39,\n",
              " 'gerçekten': 40,\n",
              " '3': 41,\n",
              " 'bile': 42,\n",
              " 'fakat': 43,\n",
              " 'tam': 44,\n",
              " 'memnun': 45,\n",
              " 'tek': 46,\n",
              " 'kötü': 47,\n",
              " 'kullanıyorum': 48,\n",
              " 'oldu': 49,\n",
              " 'bence': 50,\n",
              " 'iade': 51,\n",
              " 'performans': 52,\n",
              " 'fazla': 53,\n",
              " 'ses': 54,\n",
              " 'olması': 55,\n",
              " 'ulaştı': 56,\n",
              " 'ancak': 57,\n",
              " 'uzun': 58,\n",
              " 'harika': 59,\n",
              " 'önce': 60,\n",
              " 'sorun': 61,\n",
              " 'sipariş': 62,\n",
              " 'mükemmel': 63,\n",
              " 'büyük': 64,\n",
              " 'fiyatı': 65,\n",
              " 'ürünün': 66,\n",
              " 'başarılı': 67,\n",
              " 'oldukça': 68,\n",
              " 'aynı': 69,\n",
              " 'urun': 70,\n",
              " 'ayrıca': 71,\n",
              " 'kolay': 72,\n",
              " 'rahat': 73,\n",
              " 'süper': 74,\n",
              " 'sadece': 75,\n",
              " 'kalitesiz': 76,\n",
              " 'şekilde': 77,\n",
              " 'hemen': 78,\n",
              " 'ekran': 79,\n",
              " '5': 80,\n",
              " 'şık': 81,\n",
              " 'zaten': 82,\n",
              " 'ettim': 83,\n",
              " 'içinde': 84,\n",
              " 'memnunum': 85,\n",
              " '10': 86,\n",
              " 'ilk': 87,\n",
              " 'alın': 88,\n",
              " 'teşekkür': 89,\n",
              " 'hepsiburada': 90,\n",
              " 'sorunsuz': 91,\n",
              " 'saat': 92,\n",
              " 'kısa': 93,\n",
              " '4': 94,\n",
              " 'telefonu': 95,\n",
              " 'ediyorum': 96,\n",
              " 'benim': 97,\n",
              " 'hızı': 98,\n",
              " 'iki': 99,\n",
              " 'cihaz': 100,\n",
              " 'oyun': 101,\n",
              " 'bana': 102,\n",
              " 'sağlam': 103,\n",
              " 'olduğu': 104,\n",
              " 'guzel': 105,\n",
              " 'olan': 106,\n",
              " 'diğer': 107,\n",
              " 'almayın': 108,\n",
              " 'ideal': 109,\n",
              " 'para': 110,\n",
              " 'gerek': 111,\n",
              " 'almıştım': 112,\n",
              " 'beğendim': 113,\n",
              " 'şarjı': 114,\n",
              " 'numara': 115,\n",
              " 'günde': 116,\n",
              " 'kalite': 117,\n",
              " 'herkese': 118,\n",
              " 'rağmen': 119,\n",
              " 'başka': 120,\n",
              " 'olsun': 121,\n",
              " 'sıkıntı': 122,\n",
              " 'usb': 123,\n",
              " 'zaman': 124,\n",
              " 'arkadaşlar': 125,\n",
              " 'çıktı': 126,\n",
              " 'çalışıyor': 127,\n",
              " 'verdim': 128,\n",
              " 'mouse': 129,\n",
              " 'tane': 130,\n",
              " 'kaldım': 131,\n",
              " 'samsung': 132,\n",
              " 'hediye': 133,\n",
              " 'yeni': 134,\n",
              " 'yeterli': 135,\n",
              " 'aldığım': 136,\n",
              " 'kurulumu': 137,\n",
              " 'teslim': 138,\n",
              " 'normal': 139,\n",
              " 'gb': 140,\n",
              " 'son': 141,\n",
              " 'geri': 142,\n",
              " 'oluyor': 143,\n",
              " 'ay': 144,\n",
              " 'dışında': 145,\n",
              " 'geliyor': 146,\n",
              " 'pil': 147,\n",
              " 'etmiyorum': 148,\n",
              " 'icin': 149,\n",
              " 'basit': 150,\n",
              " 'marka': 151,\n",
              " 'eski': 152,\n",
              " 'olduğunu': 153,\n",
              " 'bunu': 154,\n",
              " 'böyle': 155,\n",
              " 'sakal': 156,\n",
              " 'ucuz': 157,\n",
              " 'yaklaşık': 158,\n",
              " 'özelliği': 159,\n",
              " 'hafif': 160,\n",
              " 'almak': 161,\n",
              " 'duruyor': 162,\n",
              " 'derim': 163,\n",
              " 'yine': 164,\n",
              " 'kullanımı': 165,\n",
              " 'gidiyor': 166,\n",
              " 'onun': 167,\n",
              " 'süre': 168,\n",
              " 'iş': 169,\n",
              " 'siyah': 170,\n",
              " 'zor': 171,\n",
              " 'teslimat': 172,\n",
              " 'gelen': 173,\n",
              " 'hafta': 174,\n",
              " 'farklı': 175,\n",
              " 'beğenmedim': 176,\n",
              " 'degil': 177,\n",
              " 'tercih': 178,\n",
              " 'çabuk': 179,\n",
              " 'olsa': 180,\n",
              " 'pişman': 181,\n",
              " 'yüksek': 182,\n",
              " 'ediyor': 183,\n",
              " 'eder': 184,\n",
              " 'pek': 185,\n",
              " 'sesi': 186,\n",
              " 'özellikle': 187,\n",
              " 'aldim': 188,\n",
              " 'fena': 189,\n",
              " 'paketleme': 190,\n",
              " 'mi': 191,\n",
              " 'kullanım': 192,\n",
              " 'berbat': 193,\n",
              " 'olur': 194,\n",
              " 'ufak': 195,\n",
              " 'göründüğü': 196,\n",
              " 'performansı': 197,\n",
              " 'kendi': 198,\n",
              " 'sürede': 199,\n",
              " '6': 200,\n",
              " '30': 201,\n",
              " 'kullandım': 202,\n",
              " 'plastik': 203,\n",
              " 'sürekli': 204,\n",
              " 'sorunu': 205,\n",
              " 'veriyor': 206,\n",
              " 'geçti': 207,\n",
              " 'idare': 208,\n",
              " 'çanta': 209,\n",
              " 'kulaklık': 210,\n",
              " 'oyunlar': 211,\n",
              " 'kablosu': 212,\n",
              " 'açısından': 213,\n",
              " 'düşük': 214,\n",
              " 'beni': 215,\n",
              " 'etmem': 216,\n",
              " 'ince': 217,\n",
              " 'ekranı': 218,\n",
              " 'gelmedi': 219,\n",
              " 'yapıyor': 220,\n",
              " 'sert': 221,\n",
              " 'yüzden': 222,\n",
              " 'ssd': 223,\n",
              " 'aşırı': 224,\n",
              " 'internet': 225,\n",
              " 'telefonun': 226,\n",
              " 'hiçbir': 227,\n",
              " 'tekrar': 228,\n",
              " 'aldık': 229,\n",
              " 'vardı': 230,\n",
              " '15': 231,\n",
              " 'burada': 232,\n",
              " 'malzeme': 233,\n",
              " 'kurulum': 234,\n",
              " 'alabilirsiniz': 235,\n",
              " 'hemde': 236,\n",
              " 'oldum': 237,\n",
              " 'falan': 238,\n",
              " 'adet': 239,\n",
              " 'bende': 240,\n",
              " 'baya': 241,\n",
              " 'geç': 242,\n",
              " 'saç': 243,\n",
              " 'yakın': 244,\n",
              " 'kablosuz': 245,\n",
              " 'ayakkabı': 246,\n",
              " 'özellikleri': 247,\n",
              " '8': 248,\n",
              " 'düşünmeden': 249,\n",
              " 'paraya': 250,\n",
              " 'orjinal': 251,\n",
              " 'konusunda': 252,\n",
              " 'yeri': 253,\n",
              " 'beyaz': 254,\n",
              " 'kısmı': 255,\n",
              " 'oğlum': 256,\n",
              " 'dokunmatik': 257,\n",
              " '00': 258,\n",
              " 'asla': 259,\n",
              " 'i̇ade': 260,\n",
              " 'bunun': 261,\n",
              " 'aydır': 262,\n",
              " 'resmen': 263,\n",
              " 'görüntü': 264,\n",
              " 'makine': 265,\n",
              " 'üründen': 266,\n",
              " 'artık': 267,\n",
              " 'dandik': 268,\n",
              " 'günü': 269,\n",
              " 'hizli': 270,\n",
              " 'sahip': 271,\n",
              " 'beklediğimden': 272,\n",
              " 'düşünüyorum': 273,\n",
              " 'vs': 274,\n",
              " 'hala': 275,\n",
              " 'dolayı': 276,\n",
              " 'alınabilecek': 277,\n",
              " 'kere': 278,\n",
              " 'eğlenceli': 279,\n",
              " 'öyle': 280,\n",
              " 'problem': 281,\n",
              " 'yanında': 282,\n",
              " 'yorumlara': 283,\n",
              " 'süresi': 284,\n",
              " 'çıkıyor': 285,\n",
              " 'alalı': 286,\n",
              " 'iphone': 287,\n",
              " 'hepsiburadacom': 288,\n",
              " 'olmasına': 289,\n",
              " 'kamera': 290,\n",
              " 'bozuk': 291,\n",
              " 'olmadı': 292,\n",
              " 'çekim': 293,\n",
              " 'ağır': 294,\n",
              " 'müzik': 295,\n",
              " 'yer': 296,\n",
              " 'diyebilirim': 297,\n",
              " 'bi̇r': 298,\n",
              " 'görür': 299,\n",
              " 'renk': 300,\n",
              " 'ev': 301,\n",
              " 'beklemeyin': 302,\n",
              " '7': 303,\n",
              " 'yerine': 304,\n",
              " 'ele': 305,\n",
              " 'ye': 306,\n",
              " 'orta': 307,\n",
              " 'hoş': 308,\n",
              " 'kullanmak': 309,\n",
              " 'şimdi': 310,\n",
              " 'evde': 311,\n",
              " 'kargoya': 312,\n",
              " 'bozuldu': 313,\n",
              " 'doğru': 314,\n",
              " 'hafıza': 315,\n",
              " 'sanırım': 316,\n",
              " 'varsa': 317,\n",
              " 'yazıcı': 318,\n",
              " 'wifi': 319,\n",
              " 'herhangi': 320,\n",
              " 'sıfır': 321,\n",
              " 'hız': 322,\n",
              " 'telefona': 323,\n",
              " 'etmek': 324,\n",
              " 'yaşamadım': 325,\n",
              " 'alışveriş': 326,\n",
              " 'kullanmaya': 327,\n",
              " 'gitti': 328,\n",
              " 'bütün': 329,\n",
              " 'yazma': 330,\n",
              " 'batarya': 331,\n",
              " 'ayrı': 332,\n",
              " 'arada': 333,\n",
              " 'dan': 334,\n",
              " 'taktım': 335,\n",
              " 'deri': 336,\n",
              " 'bugün': 337,\n",
              " 'öncelikle': 338,\n",
              " 'kablo': 339,\n",
              " 'gerekiyor': 340,\n",
              " 'sarj': 341,\n",
              " 'tl': 342,\n",
              " 'üzerinde': 343,\n",
              " 'lazım': 344,\n",
              " 'severek': 345,\n",
              " 'çocuklar': 346,\n",
              " 'beklediğim': 347,\n",
              " 'boyutu': 348,\n",
              " 'kullandığım': 349,\n",
              " 'bağlantı': 350,\n",
              " 'sessiz': 351,\n",
              " 'cihazı': 352,\n",
              " 'kamerası': 353,\n",
              " 'pahalı': 354,\n",
              " 'eksik': 355,\n",
              " 'istediğim': 356,\n",
              " 'yorum': 357,\n",
              " 'hic': 358,\n",
              " 'metal': 359,\n",
              " 'satın': 360,\n",
              " 'sakın': 361,\n",
              " 'net': 362,\n",
              " 'i̇lk': 363,\n",
              " 'edici': 364,\n",
              " 'derece': 365,\n",
              " 'dikkat': 366,\n",
              " 'alacak': 367,\n",
              " 'belli': 368,\n",
              " 'yıldız': 369,\n",
              " 'ertesi': 370,\n",
              " 'yavaş': 371,\n",
              " 'evet': 372,\n",
              " 'kutu': 373,\n",
              " 'rahatsız': 374,\n",
              " 'birde': 375,\n",
              " 'bitiyor': 376,\n",
              " 'tabi': 377,\n",
              " 'hatta': 378,\n",
              " 'almanızı': 379,\n",
              " 'olmuş': 380,\n",
              " 'olabilir': 381,\n",
              " 'an': 382,\n",
              " 'makina': 383,\n",
              " 'gore': 384,\n",
              " 'birlikte': 385,\n",
              " 'hb': 386,\n",
              " 'genel': 387,\n",
              " 'tasarımı': 388,\n",
              " 'almayı': 389,\n",
              " 'gücü': 390,\n",
              " 'bundan': 391,\n",
              " 'rengi': 392,\n",
              " 'günlük': 393,\n",
              " 'gönderi': 394,\n",
              " 'alırken': 395,\n",
              " '16': 396,\n",
              " 'sizin': 397,\n",
              " 'yerde': 398,\n",
              " 'ön': 399,\n",
              " 'okuma': 400,\n",
              " 'haftadır': 401,\n",
              " 'kartuş': 402,\n",
              " 'yada': 403,\n",
              " 'on': 404,\n",
              " 'denedim': 405,\n",
              " 'yanlış': 406,\n",
              " 'keşke': 407,\n",
              " 'fotoğraf': 408,\n",
              " 'kullanımda': 409,\n",
              " 'olurdu': 410,\n",
              " 'a': 411,\n",
              " 'satıcı': 412,\n",
              " 'yere': 413,\n",
              " 'fazlasıyla': 414,\n",
              " 'yıl': 415,\n",
              " 'su': 416,\n",
              " 'çocukluğuma': 417,\n",
              " 'bellek': 418,\n",
              " 'pratik': 419,\n",
              " 'olmuyor': 420,\n",
              " 'içerisinde': 421,\n",
              " 'alınabilir': 422,\n",
              " 'pc': 423,\n",
              " 'telefondan': 424,\n",
              " 'gönül': 425,\n",
              " 'size': 426,\n",
              " 'yaptım': 427,\n",
              " 'kaç': 428,\n",
              " 'tatmin': 429,\n",
              " 'kesiyor': 430,\n",
              " 'firma': 431,\n",
              " 'çalışmıyor': 432,\n",
              " 'beğendi': 433,\n",
              " 'den': 434,\n",
              " 'bişey': 435,\n",
              " 'anda': 436,\n",
              " 'zorunda': 437,\n",
              " 'tv': 438,\n",
              " 'kaldı': 439,\n",
              " 'kibar': 440,\n",
              " 'üründe': 441,\n",
              " 'üst': 442,\n",
              " 'içine': 443,\n",
              " 'fark': 444,\n",
              " 'kokusu': 445,\n",
              " 'nokia': 446,\n",
              " 'çekiyor': 447,\n",
              " 'ömrü': 448,\n",
              " 'bilgisayar': 449,\n",
              " 'yoksa': 450,\n",
              " 'zamanında': 451,\n",
              " 'döndüm': 452,\n",
              " 'istedim': 453,\n",
              " 'gündür': 454,\n",
              " 'alt': 455,\n",
              " 'işe': 456,\n",
              " 'pili': 457,\n",
              " 'rahatlıkla': 458,\n",
              " 'görüyor': 459,\n",
              " 'şimdilik': 460,\n",
              " 'şuan': 461,\n",
              " 'alıyor': 462,\n",
              " 'müşteri': 463,\n",
              " 'özellik': 464,\n",
              " 'veri': 465,\n",
              " 'önemli': 466,\n",
              " 'baskı': 467,\n",
              " 'altında': 468,\n",
              " 'laptop': 469,\n",
              " 'sıkıntısı': 470,\n",
              " 'iyisi': 471,\n",
              " 'zamanda': 472,\n",
              " 'hizmet': 473,\n",
              " 'arasında': 474,\n",
              " 'alıp': 475,\n",
              " 'maalesef': 476,\n",
              " 'nostalji': 477,\n",
              " 'telefonda': 478,\n",
              " 'onu': 479,\n",
              " 'ürüne': 480,\n",
              " 'hoşuma': 481,\n",
              " 'hayal': 482,\n",
              " 'edilir': 483,\n",
              " 'almaya': 484,\n",
              " 'yazık': 485,\n",
              " 'arka': 486,\n",
              " 'yoktu': 487,\n",
              " 'çocuk': 488,\n",
              " 'kızım': 489,\n",
              " 'mario': 490,\n",
              " 'kartı': 491,\n",
              " 'başladı': 492,\n",
              " 'i̇yi': 493,\n",
              " 'karar': 494,\n",
              " 'çıkmadı': 495,\n",
              " 'mevcut': 496,\n",
              " 'kırık': 497,\n",
              " 'hp': 498,\n",
              " 'henüz': 499,\n",
              " 'eşime': 500,\n",
              " '100': 501,\n",
              " 'inanılmaz': 502,\n",
              " 'öneririm': 503,\n",
              " 'etti': 504,\n",
              " 'tereddüt': 505,\n",
              " 'tasarım': 506,\n",
              " 'halde': 507,\n",
              " 'bataryası': 508,\n",
              " 'tamamen': 509,\n",
              " 'ona': 510,\n",
              " 'bakarak': 511,\n",
              " 'olabilirdi': 512,\n",
              " 'buna': 513,\n",
              " 'model': 514,\n",
              " 'üzerine': 515,\n",
              " 'üzerinden': 516,\n",
              " '40': 517,\n",
              " 'bilmiyorum': 518,\n",
              " 'bazen': 519,\n",
              " 'logitech': 520,\n",
              " 'umarım': 521,\n",
              " 'adım': 522,\n",
              " 'devam': 523,\n",
              " 'almadan': 524,\n",
              " 'ürünler': 525,\n",
              " 'ilgili': 526,\n",
              " 'tesekkurler': 527,\n",
              " 'hak': 528,\n",
              " 'olanlar': 529,\n",
              " 'arkadaşlara': 530,\n",
              " 'kalmadım': 531,\n",
              " 'kalitesini': 532,\n",
              " 'yanı': 533,\n",
              " '400': 534,\n",
              " 'parmak': 535,\n",
              " 'gece': 536,\n",
              " 'sn': 537,\n",
              " 'görünüyor': 538,\n",
              " 'ışık': 539,\n",
              " 'şiddetle': 540,\n",
              " 'olmadan': 541,\n",
              " 'olmaması': 542,\n",
              " 'kaçırmayın': 543,\n",
              " 'türlü': 544,\n",
              " 'video': 545,\n",
              " 'gördüm': 546,\n",
              " 'oturuyor': 547,\n",
              " 'etmiyor': 548,\n",
              " 'kat': 549,\n",
              " 'kırmızı': 550,\n",
              " 'malesef': 551,\n",
              " 'çıkan': 552,\n",
              " 'alakası': 553,\n",
              " 'arama': 554,\n",
              " 'neredeyse': 555,\n",
              " 'içinden': 556,\n",
              " 'ergonomik': 557,\n",
              " 'koku': 558,\n",
              " 'orijinal': 559,\n",
              " 'gereken': 560,\n",
              " 'görüntüsü': 561,\n",
              " 'mause': 562,\n",
              " 'üstelik': 563,\n",
              " 'note': 564,\n",
              " 'üstünde': 565,\n",
              " 'etmez': 566,\n",
              " 'eşim': 567,\n",
              " 'güçlü': 568,\n",
              " 'değilim': 569,\n",
              " 'olmayan': 570,\n",
              " 'gelince': 571,\n",
              " 'edildi': 572,\n",
              " 'bluetooth': 573,\n",
              " 'farkı': 574,\n",
              " 'oyunları': 575,\n",
              " 'p': 576,\n",
              " 'alan': 577,\n",
              " 'kılıf': 578,\n",
              " 'dk': 579,\n",
              " 'dün': 580,\n",
              " 'sizi': 581,\n",
              " 'sayesinde': 582,\n",
              " 'olsaydı': 583,\n",
              " 'modem': 584,\n",
              " 'olumsuz': 585,\n",
              " 'mb': 586,\n",
              " 'yalnız': 587,\n",
              " 'gercekten': 588,\n",
              " 'anca': 589,\n",
              " 'değer': 590,\n",
              " 'tavsi̇ye': 591,\n",
              " 'aktarım': 592,\n",
              " 'hdd': 593,\n",
              " 'iyiydi': 594,\n",
              " 'sıfıra': 595,\n",
              " 'sonuç': 596,\n",
              " 'verdiğim': 597,\n",
              " 'açık': 598,\n",
              " 'uyku': 599,\n",
              " 'traş': 600,\n",
              " 'görmedim': 601,\n",
              " 'dayanıklı': 602,\n",
              " 'beş': 603,\n",
              " 'saatte': 604,\n",
              " 'direk': 605,\n",
              " 'göz': 606,\n",
              " 'beğendik': 607,\n",
              " 'zayıf': 608,\n",
              " 'almışım': 609,\n",
              " 'sandisk': 610,\n",
              " 'avantaj': 611,\n",
              " 'kullanıyor': 612,\n",
              " 'yırtıldı': 613,\n",
              " 'mah': 614,\n",
              " 'f': 615,\n",
              " 'fiyatina': 616,\n",
              " 'kalıyor': 617,\n",
              " 'kalitede': 618,\n",
              " 'yinede': 619,\n",
              " 'yapmıyor': 620,\n",
              " 'yapılmış': 621,\n",
              " 'full': 622,\n",
              " 'renkli': 623,\n",
              " 'sinyal': 624,\n",
              " 'ikinci': 625,\n",
              " 'e': 626,\n",
              " 'değildi': 627,\n",
              " 'izi': 628,\n",
              " 'kullanan': 629,\n",
              " 'güvenilir': 630,\n",
              " 'rahatlığıyla': 631,\n",
              " 'muhteşem': 632,\n",
              " 'olmaz': 633,\n",
              " 'yi': 634,\n",
              " '04': 635,\n",
              " 'başladım': 636,\n",
              " 'ense': 637,\n",
              " 'resimdeki': 638,\n",
              " 'haricinde': 639,\n",
              " 'eksiği': 640,\n",
              " 'kendini': 641,\n",
              " 'elimde': 642,\n",
              " 'geniş': 643,\n",
              " 'oturma': 644,\n",
              " 'tuşu': 645,\n",
              " 'uygulama': 646,\n",
              " 'parasını': 647,\n",
              " 'yıldır': 648,\n",
              " 'içi': 649,\n",
              " 'urunu': 650,\n",
              " 'fatura': 651,\n",
              " 'isteyenler': 652,\n",
              " 'kargoda': 653,\n",
              " 'windows': 654,\n",
              " 'piyasada': 655,\n",
              " 'çöpe': 656,\n",
              " 'sık': 657,\n",
              " 'kokuyor': 658,\n",
              " 'kart': 659,\n",
              " 'oda': 660,\n",
              " 'i̇yi̇': 661,\n",
              " 'edin': 662,\n",
              " 'mutlaka': 663,\n",
              " 'flash': 664,\n",
              " 'anlatıldığı': 665,\n",
              " 'dahi': 666,\n",
              " 'yetersiz': 667,\n",
              " 'mesaj': 668,\n",
              " 'yan': 669,\n",
              " 'birçok': 670,\n",
              " 'uyumlu': 671,\n",
              " 'isteyenlere': 672,\n",
              " 'kendine': 673,\n",
              " 'android': 674,\n",
              " 'olacak': 675,\n",
              " 'yazıyor': 676,\n",
              " 'telefonla': 677,\n",
              " 'kendim': 678,\n",
              " 'parasına': 679,\n",
              " 'istiyorum': 680,\n",
              " 'düzgün': 681,\n",
              " 'karşılıyor': 682,\n",
              " 'gun': 683,\n",
              " 'olduğundan': 684,\n",
              " 'koptu': 685,\n",
              " 'kutusu': 686,\n",
              " 'hassas': 687,\n",
              " 'durum': 688,\n",
              " 'ederi̇m': 689,\n",
              " 'beri': 690,\n",
              " 'bilgisayarım': 691,\n",
              " 'fi': 692,\n",
              " 'yapmak': 693,\n",
              " 'kotu': 694,\n",
              " 'dar': 695,\n",
              " 'aldıktan': 696,\n",
              " 'oynuyorum': 697,\n",
              " 'sabah': 698,\n",
              " 'almayin': 699,\n",
              " 'yorumlarda': 700,\n",
              " 'disk': 701,\n",
              " 'garanti': 702,\n",
              " 'hakkını': 703,\n",
              " 'herkes': 704,\n",
              " 'edeceğim': 705,\n",
              " 'gözlük': 706,\n",
              " 'ram': 707,\n",
              " 'kullanıyordum': 708,\n",
              " 'sağlıyor': 709,\n",
              " 'i̇çi̇n': 710,\n",
              " 'göndermişler': 711,\n",
              " 'problemi': 712,\n",
              " 'cep': 713,\n",
              " 'akıllı': 714,\n",
              " 'kabul': 715,\n",
              " 'makul': 716,\n",
              " '05': 717,\n",
              " 'etmeden': 718,\n",
              " 'içindeki': 719,\n",
              " 'i': 720,\n",
              " 'el': 721,\n",
              " 'olduğum': 722,\n",
              " 'ortalama': 723,\n",
              " 'ihtiyacı': 724,\n",
              " 'trendyol': 725,\n",
              " '500': 726,\n",
              " 'oranı': 727,\n",
              " 'tarafı': 728,\n",
              " 'saniyede': 729,\n",
              " 'geldiğinde': 730,\n",
              " 'yorumları': 731,\n",
              " 'eden': 732,\n",
              " 'resimde': 733,\n",
              " 'yerden': 734,\n",
              " 'uzak': 735,\n",
              " 'gelmesi': 736,\n",
              " 'kucuk': 737,\n",
              " 'kasa': 738,\n",
              " 'sandalye': 739,\n",
              " 'açıkçası': 740,\n",
              " 'eksi': 741,\n",
              " 'aynısı': 742,\n",
              " 'dış': 743,\n",
              " 'mutlu': 744,\n",
              " 'telefonum': 745,\n",
              " 'hepsiburadaya': 746,\n",
              " 'wi': 747,\n",
              " 'çift': 748,\n",
              " 'müthiş': 749,\n",
              " 'boyut': 750,\n",
              " 'evin': 751,\n",
              " 'buldum': 752,\n",
              " 'fiyatlı': 753,\n",
              " 'cihazın': 754,\n",
              " 'durmuyor': 755,\n",
              " 'sene': 756,\n",
              " 'oynuyor': 757,\n",
              " 'yapısı': 758,\n",
              " 'işte': 759,\n",
              " 'insan': 760,\n",
              " 'buradan': 761,\n",
              " 'aldığıma': 762,\n",
              " 'açılıyor': 763,\n",
              " 'ışığı': 764,\n",
              " 'birisi': 765,\n",
              " 'olmadığı': 766,\n",
              " 'fiyatıda': 767,\n",
              " 'bakımından': 768,\n",
              " 'gps': 769,\n",
              " 'paket': 770,\n",
              " 'önceki': 771,\n",
              " 'hale': 772,\n",
              " 'herşey': 773,\n",
              " 'işinizi': 774,\n",
              " 'güzeldi': 775,\n",
              " 'tak': 776,\n",
              " 'hızlıydı': 777,\n",
              " 'araç': 778,\n",
              " 'asus': 779,\n",
              " 'üç': 780,\n",
              " 'alet': 781,\n",
              " 'beraber': 782,\n",
              " 'boşuna': 783,\n",
              " 'alıyorum': 784,\n",
              " 'saati': 785,\n",
              " 'prima': 786,\n",
              " 'super': 787,\n",
              " 'bır': 788,\n",
              " 'nostaljik': 789,\n",
              " 'kendime': 790,\n",
              " 'aldı': 791,\n",
              " 'ucuza': 792,\n",
              " 'ara': 793,\n",
              " 'çoğu': 794,\n",
              " 'gelmiyor': 795,\n",
              " 'almış': 796,\n",
              " 'geldiği': 797,\n",
              " 'mümkün': 798,\n",
              " 'gönderim': 799,\n",
              " 'ettiğim': 800,\n",
              " 'elimize': 801,\n",
              " 'test': 802,\n",
              " 'kelime': 803,\n",
              " 'tuşları': 804,\n",
              " 'verilen': 805,\n",
              " 'zarif': 806,\n",
              " 'karşıladı': 807,\n",
              " 'kırıklığı': 808,\n",
              " '50': 809,\n",
              " 'i̇adesi': 810,\n",
              " 'arkadaşıma': 811,\n",
              " 'kullaniyorum': 812,\n",
              " 'siparişi': 813,\n",
              " 'indirim': 814,\n",
              " 'sistemi': 815,\n",
              " 'üzerindeki': 816,\n",
              " 'bağlantısı': 817,\n",
              " 'keyifli': 818,\n",
              " 'atari': 819,\n",
              " 'donma': 820,\n",
              " 'işimi': 821,\n",
              " 'kullanılabilir': 822,\n",
              " 'olanlara': 823,\n",
              " 'dedim': 824,\n",
              " 'başta': 825,\n",
              " 'gereksiz': 826,\n",
              " 'fiyatının': 827,\n",
              " 'kaldık': 828,\n",
              " 'vakit': 829,\n",
              " 'kurdum': 830,\n",
              " 'değmez': 831,\n",
              " 'kesimi': 832,\n",
              " 'üstü': 833,\n",
              " 'çıkarıyor': 834,\n",
              " 'elinize': 835,\n",
              " '9': 836,\n",
              " 'merhaba': 837,\n",
              " 'görünce': 838,\n",
              " 'sevdi': 839,\n",
              " 'ana': 840,\n",
              " 'internete': 841,\n",
              " 'akşam': 842,\n",
              " 'boş': 843,\n",
              " 'kaba': 844,\n",
              " 'saniye': 845,\n",
              " 'kalın': 846,\n",
              " 'tuş': 847,\n",
              " 'cam': 848,\n",
              " 'yaptı': 849,\n",
              " 'begendim': 850,\n",
              " 'alınır': 851,\n",
              " 'dikkatli': 852,\n",
              " 'oyuncak': 853,\n",
              " 'oynuyoruz': 854,\n",
              " 'türkçe': 855,\n",
              " 'tabanı': 856,\n",
              " 'gönderdiler': 857,\n",
              " 'ürünleri': 858,\n",
              " 'i̇ki': 859,\n",
              " 'ürünle': 860,\n",
              " 'günden': 861,\n",
              " 'kargom': 862,\n",
              " 'piyasadaki': 863,\n",
              " 'toner': 864,\n",
              " 'konuda': 865,\n",
              " 'idi': 866,\n",
              " 'modeli': 867,\n",
              " 'arkadaşım': 868,\n",
              " 'yardımcı': 869,\n",
              " 'önceden': 870,\n",
              " 'elimden': 871,\n",
              " 'hediyesi': 872,\n",
              " 'olmasa': 873,\n",
              " 'bez': 874,\n",
              " 'ip': 875,\n",
              " 'kırıldı': 876,\n",
              " 'kablolu': 877,\n",
              " 'gönderildi': 878,\n",
              " 'kapalı': 879,\n",
              " 'fayda': 880,\n",
              " 'dakika': 881,\n",
              " 'kelimeyle': 882,\n",
              " 'karşı': 883,\n",
              " 's': 884,\n",
              " 'xiaomi': 885,\n",
              " 'verildi': 886,\n",
              " 'olunca': 887,\n",
              " 'azından': 888,\n",
              " 'seviyede': 889,\n",
              " 'verip': 890,\n",
              " 'ısınma': 891,\n",
              " 'oğluma': 892,\n",
              " 'gerekli': 893,\n",
              " 'oynamak': 894,\n",
              " 'ekranda': 895,\n",
              " 'bilgisayara': 896,\n",
              " 'fare': 897,\n",
              " 'tık': 898,\n",
              " 'yerinde': 899,\n",
              " 'hayırlı': 900,\n",
              " 'kontrol': 901,\n",
              " 'takip': 902,\n",
              " 'hissi': 903,\n",
              " 'derecede': 904,\n",
              " 'yönü': 905,\n",
              " 'cevap': 906,\n",
              " 'vb': 907,\n",
              " 'koltuk': 908,\n",
              " 'ekonomik': 909,\n",
              " 'kardeşime': 910,\n",
              " 'kullanıyoruz': 911,\n",
              " 'sonuçta': 912,\n",
              " 'bı': 913,\n",
              " 'yaparken': 914,\n",
              " 'efsane': 915,\n",
              " 'kullanın': 916,\n",
              " 'gelir': 917,\n",
              " 'kullanırken': 918,\n",
              " 'çin': 919,\n",
              " 'tşk': 920,\n",
              " 'koruyucu': 921,\n",
              " 'mavi': 922,\n",
              " 'takılma': 923,\n",
              " 'beklemiyordum': 924,\n",
              " 'gözüküyor': 925,\n",
              " 'sırt': 926,\n",
              " 'tabiki': 927,\n",
              " 'kullanisli': 928,\n",
              " 'standart': 929,\n",
              " 'ayrica': 930,\n",
              " 'kargolama': 931,\n",
              " 'garantili': 932,\n",
              " 'kağıt': 933,\n",
              " 'gösteriyor': 934,\n",
              " 'malzemesi': 935,\n",
              " 'kumaş': 936,\n",
              " 'saçma': 937,\n",
              " 'telefonumu': 938,\n",
              " 'şarja': 939,\n",
              " 'siparis': 940,\n",
              " 'diş': 941,\n",
              " 'alin': 942,\n",
              " 'olanı': 943,\n",
              " 'işi': 944,\n",
              " 'yumuşak': 945,\n",
              " 'haftada': 946,\n",
              " 'ekstra': 947,\n",
              " 'arası': 948,\n",
              " 'bekliyorum': 949,\n",
              " 'çantası': 950,\n",
              " 'artı': 951,\n",
              " 'site': 952,\n",
              " 'film': 953,\n",
              " 'nin': 954,\n",
              " 'kulaklığı': 955,\n",
              " 'diyor': 956,\n",
              " 'düştü': 957,\n",
              " 'malı': 958,\n",
              " 'kullanabilirsiniz': 959,\n",
              " 'geçen': 960,\n",
              " 'ayni': 961,\n",
              " 'ürünüm': 962,\n",
              " 'olmasi': 963,\n",
              " '90': 964,\n",
              " 'nabız': 965,\n",
              " 'tıklama': 966,\n",
              " 'sata': 967,\n",
              " 'kingston': 968,\n",
              " 'tarak': 969,\n",
              " 'boşa': 970,\n",
              " 'kısacası': 971,\n",
              " 'bedava': 972,\n",
              " 'dolu': 973,\n",
              " 'oldukca': 974,\n",
              " 'gelmiş': 975,\n",
              " 'bayıldım': 976,\n",
              " 'güvenli': 977,\n",
              " 'aldığımda': 978,\n",
              " 'iken': 979,\n",
              " 'uygulaması': 980,\n",
              " 'ayakkabının': 981,\n",
              " 'ücretsiz': 982,\n",
              " 'olumlu': 983,\n",
              " 'olmak': 984,\n",
              " 'olmazsınız': 985,\n",
              " 'ötesi': 986,\n",
              " 'fiyatını': 987,\n",
              " 'kisa': 988,\n",
              " 'yoğun': 989,\n",
              " 'dakikada': 990,\n",
              " 'estetik': 991,\n",
              " 'icinde': 992,\n",
              " 'desteği': 993,\n",
              " 'götürdü': 994,\n",
              " 'çekimi': 995,\n",
              " 'kullanmadım': 996,\n",
              " 'bide': 997,\n",
              " 'düşünenlere': 998,\n",
              " 'durumda': 999,\n",
              " 'bilgi': 1000,\n",
              " ...}"
            ]
          },
          "metadata": {},
          "execution_count": 221
        }
      ],
      "source": [
        "tokenizer = Tokenizer(num_words = 10000)\n",
        "tokenizer.fit_on_texts(data)\n",
        "tokenizer.word_index"
      ]
    },
    {
      "cell_type": "code",
      "execution_count": 222,
      "metadata": {
        "id": "0yB9bEHsF6sd"
      },
      "outputs": [],
      "source": [
        "\n",
        "x_train_tokens = tokenizer.texts_to_sequences(x_train)\n",
        "x_test_tokens = tokenizer.texts_to_sequences(x_test)"
      ]
    },
    {
      "cell_type": "code",
      "execution_count": 223,
      "metadata": {
        "colab": {
          "base_uri": "https://localhost:8080/"
        },
        "id": "4SpQELybF-ui",
        "outputId": "231e0078-8e72-4e37-d684-2911d4246bed"
      },
      "outputs": [
        {
          "output_type": "execute_result",
          "data": {
            "text/plain": [
              "[2, 3, 856, 217, 1, 92, 1, 4088]"
            ]
          },
          "metadata": {},
          "execution_count": 223
        }
      ],
      "source": [
        "x_train_tokens[290]"
      ]
    },
    {
      "cell_type": "code",
      "execution_count": 224,
      "metadata": {
        "colab": {
          "base_uri": "https://localhost:8080/",
          "height": 36
        },
        "id": "5UJTOgKkGAsQ",
        "outputId": "f5c4897d-e9f4-4d92-fa84-6a626da4530f"
      },
      "outputs": [
        {
          "output_type": "execute_result",
          "data": {
            "text/plain": [
              "'ürün güzel tabanı ince bir saat bir yürüme mesafesinde ayaklarınızı ağrıtıyor'"
            ],
            "application/vnd.google.colaboratory.intrinsic+json": {
              "type": "string"
            }
          },
          "metadata": {},
          "execution_count": 224
        }
      ],
      "source": [
        "x_train[290]"
      ]
    },
    {
      "cell_type": "code",
      "execution_count": 225,
      "metadata": {
        "id": "MtGNg3BVGAvg"
      },
      "outputs": [],
      "source": [
        "\n",
        "num_tokens = [len(tokens) for tokens in x_train_tokens + x_test_tokens]\n",
        "num_tokens = np.array(num_tokens)"
      ]
    },
    {
      "cell_type": "code",
      "execution_count": 226,
      "metadata": {
        "colab": {
          "base_uri": "https://localhost:8080/"
        },
        "id": "d2gFjuUrGGLG",
        "outputId": "3db4ec8b-cfa9-4a67-9abd-37685893ee08"
      },
      "outputs": [
        {
          "output_type": "execute_result",
          "data": {
            "text/plain": [
              "13.149303930744034"
            ]
          },
          "metadata": {},
          "execution_count": 226
        }
      ],
      "source": [
        "np.mean(num_tokens)"
      ]
    },
    {
      "cell_type": "code",
      "execution_count": 227,
      "metadata": {
        "colab": {
          "base_uri": "https://localhost:8080/"
        },
        "id": "vpldhigLGGRM",
        "outputId": "a3e2bcf2-7a1c-463c-c99d-6e783be2cb99"
      },
      "outputs": [
        {
          "output_type": "execute_result",
          "data": {
            "text/plain": [
              "229"
            ]
          },
          "metadata": {},
          "execution_count": 227
        }
      ],
      "source": [
        "np.max(num_tokens)"
      ]
    },
    {
      "cell_type": "code",
      "execution_count": 228,
      "metadata": {
        "colab": {
          "base_uri": "https://localhost:8080/"
        },
        "id": "vDPp41o7GGUN",
        "outputId": "8e6b61ec-5c06-4cc9-bed2-171cf03f85f0"
      },
      "outputs": [
        {
          "output_type": "execute_result",
          "data": {
            "text/plain": [
              "42"
            ]
          },
          "metadata": {},
          "execution_count": 228
        }
      ],
      "source": [
        "\n",
        "max_tokens = np.mean(num_tokens) + 2 * np.std(num_tokens)\n",
        "max_tokens = int(max_tokens)\n",
        "max_tokens"
      ]
    },
    {
      "cell_type": "code",
      "execution_count": 229,
      "metadata": {
        "colab": {
          "base_uri": "https://localhost:8080/"
        },
        "id": "pRU3toUGGGYZ",
        "outputId": "0f1426f5-15e9-4f56-f340-f29b99775c46"
      },
      "outputs": [
        {
          "output_type": "execute_result",
          "data": {
            "text/plain": [
              "0.9608095460926532"
            ]
          },
          "metadata": {},
          "execution_count": 229
        }
      ],
      "source": [
        "\n",
        "np.sum(num_tokens < max_tokens) / len(num_tokens)"
      ]
    },
    {
      "cell_type": "code",
      "execution_count": 230,
      "metadata": {
        "id": "qkdJn3YqGGbQ"
      },
      "outputs": [],
      "source": [
        "\n",
        "x_train_pad = np.array(pad_sequences(x_train_tokens, maxlen=max_tokens))\n",
        "x_test_pad = np.array(pad_sequences(x_test_tokens, maxlen=max_tokens))\n"
      ]
    },
    {
      "cell_type": "code",
      "execution_count": 231,
      "metadata": {
        "colab": {
          "base_uri": "https://localhost:8080/"
        },
        "id": "vnzmrjlkGTFg",
        "outputId": "b0c59bdc-bdd4-4d8d-d8f7-874b48915411"
      },
      "outputs": [
        {
          "output_type": "execute_result",
          "data": {
            "text/plain": [
              "array([0, 0, 0, 0, 0, 0, 0, 0, 0, 0, 0, 0, 0, 0, 0, 0, 0, 0, 0, 0, 0, 0,\n",
              "       0, 0, 0, 0, 0, 0, 0, 0, 0, 0, 0, 0, 0, 0, 0, 0, 0, 0, 0, 0],\n",
              "      dtype=int32)"
            ]
          },
          "metadata": {},
          "execution_count": 231
        }
      ],
      "source": [
        "np.array(x_train_pad[3027])"
      ]
    },
    {
      "cell_type": "code",
      "execution_count": 232,
      "metadata": {
        "colab": {
          "base_uri": "https://localhost:8080/"
        },
        "id": "PHOAafVTGTIL",
        "outputId": "74e10150-3de2-4c02-d97b-be96016da6b0"
      },
      "outputs": [
        {
          "output_type": "execute_result",
          "data": {
            "text/plain": [
              "array([ 0,  0,  0,  0,  0,  0,  0,  0,  0,  0,  0,  0,  0,  0,  0,  0,  0,\n",
              "        0,  0,  0,  0,  0,  0,  0,  0,  0,  0,  0,  0,  0,  0,  0,  0,  0,\n",
              "        0,  0,  0,  0,  0,  0, 36,  4], dtype=int32)"
            ]
          },
          "metadata": {},
          "execution_count": 232
        }
      ],
      "source": [
        "x_test_pad[2000]"
      ]
    },
    {
      "cell_type": "code",
      "execution_count": 233,
      "metadata": {
        "id": "VJ5J9tlbGTKu"
      },
      "outputs": [],
      "source": [
        "\n",
        "idx = tokenizer.word_index\n",
        "inverse_map = dict(zip(idx.values(), idx.keys()))\n",
        "\n",
        "\n",
        "def tokens_to_string(tokens):\n",
        "    words = [inverse_map[token] for token in tokens if token!=0]\n",
        "    text = ' '.join(words)\n",
        "    return text"
      ]
    },
    {
      "cell_type": "code",
      "execution_count": 234,
      "metadata": {
        "id": "ENghZnzzGTM7"
      },
      "outputs": [],
      "source": [
        "import tensorflow as tf\n",
        "from tensorflow import keras\n",
        "from keras import Sequential\n",
        "from tensorflow.keras import layers\n",
        "model =Sequential()\n",
        "\n",
        "embedding_size = 50\n"
      ]
    },
    {
      "cell_type": "code",
      "execution_count": 235,
      "metadata": {
        "id": "5hiYjACWGTPw"
      },
      "outputs": [],
      "source": [
        "\n",
        "vocab =300 \n",
        "max_kata = 100\n",
        "\n",
        "model.add(Embedding(input_dim=10000,\n",
        "                    output_dim=embedding_size,\n",
        "                    input_length=max_tokens,\n",
        "                    name='embedding_layer'))\n",
        "model.add(Conv1D(64,8,activation='relu'))\n",
        "model.add(MaxPooling1D(2))\n",
        "model.add(Dropout(0.5))\n",
        "\n",
        "model.add(Dense(32,activation='relu'))\n",
        "model.add(Dropout(0.5))\n",
        "model.add(Dense(16, activation='relu'))\n",
        "model.add(GlobalMaxPool1D())\n",
        "model.add(Dense(3,activation='softmax'))\n",
        "\n"
      ]
    },
    {
      "cell_type": "code",
      "execution_count": 236,
      "metadata": {
        "id": "rE5xURG1MV99"
      },
      "outputs": [],
      "source": [
        "import math\n",
        "adam = keras.optimizers.Adam(learning_rate=math.exp(-5))\n",
        "model.compile(optimizer='adam',loss = tf.keras.losses.SparseCategoricalCrossentropy(from_logits=True), metrics=['accuracy'])"
      ]
    },
    {
      "cell_type": "code",
      "execution_count": 237,
      "metadata": {
        "id": "kt7BQK66MPAq",
        "colab": {
          "base_uri": "https://localhost:8080/"
        },
        "outputId": "4fd3e2e2-2947-4c1a-8c1d-8e424ffa1a46"
      },
      "outputs": [
        {
          "output_type": "stream",
          "name": "stdout",
          "text": [
            "Model: \"sequential_3\"\n",
            "_________________________________________________________________\n",
            " Layer (type)                Output Shape              Param #   \n",
            "=================================================================\n",
            " embedding_layer (Embedding)  (None, 42, 50)           500000    \n",
            "                                                                 \n",
            " conv1d_5 (Conv1D)           (None, 35, 64)            25664     \n",
            "                                                                 \n",
            " max_pooling1d_3 (MaxPooling  (None, 17, 64)           0         \n",
            " 1D)                                                             \n",
            "                                                                 \n",
            " dropout_6 (Dropout)         (None, 17, 64)            0         \n",
            "                                                                 \n",
            " dense_9 (Dense)             (None, 17, 32)            2080      \n",
            "                                                                 \n",
            " dropout_7 (Dropout)         (None, 17, 32)            0         \n",
            "                                                                 \n",
            " dense_10 (Dense)            (None, 17, 16)            528       \n",
            "                                                                 \n",
            " global_max_pooling1d_3 (Glo  (None, 16)               0         \n",
            " balMaxPooling1D)                                                \n",
            "                                                                 \n",
            " dense_11 (Dense)            (None, 3)                 51        \n",
            "                                                                 \n",
            "=================================================================\n",
            "Total params: 528,323\n",
            "Trainable params: 528,323\n",
            "Non-trainable params: 0\n",
            "_________________________________________________________________\n"
          ]
        }
      ],
      "source": [
        "model.summary()"
      ]
    },
    {
      "cell_type": "code",
      "execution_count": 238,
      "metadata": {
        "id": "Wzh5gGypGTSn",
        "colab": {
          "base_uri": "https://localhost:8080/"
        },
        "outputId": "f0741ee4-d69d-45ee-db03-0d390188308b"
      },
      "outputs": [
        {
          "output_type": "stream",
          "name": "stdout",
          "text": [
            "Epoch 1/50\n"
          ]
        },
        {
          "output_type": "stream",
          "name": "stderr",
          "text": [
            "/usr/local/lib/python3.7/dist-packages/tensorflow/python/util/dispatch.py:1082: UserWarning: \"`sparse_categorical_crossentropy` received `from_logits=True`, but the `output` argument was produced by a sigmoid or softmax activation and thus does not represent logits. Was this intended?\"\n",
            "  return dispatch_target(*args, **kwargs)\n"
          ]
        },
        {
          "output_type": "stream",
          "name": "stdout",
          "text": [
            "321/321 [==============================] - 15s 40ms/step - loss: 0.6277 - accuracy: 0.6556 - val_loss: 0.4678 - val_accuracy: 0.8117\n",
            "Epoch 2/50\n",
            "321/321 [==============================] - 9s 28ms/step - loss: 0.3227 - accuracy: 0.8703 - val_loss: 0.3043 - val_accuracy: 0.8721\n",
            "Epoch 3/50\n",
            "321/321 [==============================] - 7s 21ms/step - loss: 0.2271 - accuracy: 0.9087 - val_loss: 0.2851 - val_accuracy: 0.8773\n",
            "Epoch 4/50\n",
            "321/321 [==============================] - 7s 21ms/step - loss: 0.1816 - accuracy: 0.9274 - val_loss: 0.2919 - val_accuracy: 0.8756\n",
            "Epoch 5/50\n",
            "321/321 [==============================] - 7s 21ms/step - loss: 0.1501 - accuracy: 0.9382 - val_loss: 0.2985 - val_accuracy: 0.8734\n",
            "Epoch 6/50\n",
            "321/321 [==============================] - 7s 22ms/step - loss: 0.1219 - accuracy: 0.9487 - val_loss: 0.3335 - val_accuracy: 0.8703\n",
            "Epoch 7/50\n",
            "321/321 [==============================] - 7s 21ms/step - loss: 0.1093 - accuracy: 0.9515 - val_loss: 0.3671 - val_accuracy: 0.8734\n",
            "Epoch 8/50\n",
            "321/321 [==============================] - 7s 21ms/step - loss: 0.0965 - accuracy: 0.9574 - val_loss: 0.3950 - val_accuracy: 0.8696\n",
            "Epoch 9/50\n",
            "321/321 [==============================] - 7s 21ms/step - loss: 0.0885 - accuracy: 0.9577 - val_loss: 0.4312 - val_accuracy: 0.8745\n",
            "Epoch 10/50\n",
            "321/321 [==============================] - 7s 21ms/step - loss: 0.0835 - accuracy: 0.9611 - val_loss: 0.4484 - val_accuracy: 0.8693\n",
            "Epoch 11/50\n",
            "321/321 [==============================] - 7s 21ms/step - loss: 0.0791 - accuracy: 0.9617 - val_loss: 0.4894 - val_accuracy: 0.8694\n",
            "Epoch 12/50\n",
            "321/321 [==============================] - 7s 21ms/step - loss: 0.0769 - accuracy: 0.9624 - val_loss: 0.4951 - val_accuracy: 0.8697\n",
            "Epoch 13/50\n",
            "321/321 [==============================] - 7s 21ms/step - loss: 0.0773 - accuracy: 0.9617 - val_loss: 0.5050 - val_accuracy: 0.8662\n",
            "Epoch 14/50\n",
            "321/321 [==============================] - 9s 28ms/step - loss: 0.0728 - accuracy: 0.9640 - val_loss: 0.5197 - val_accuracy: 0.8661\n",
            "Epoch 15/50\n",
            "321/321 [==============================] - 7s 21ms/step - loss: 0.0707 - accuracy: 0.9629 - val_loss: 0.5389 - val_accuracy: 0.8718\n",
            "Epoch 16/50\n",
            "321/321 [==============================] - 7s 21ms/step - loss: 0.0701 - accuracy: 0.9645 - val_loss: 0.5249 - val_accuracy: 0.8696\n",
            "Epoch 17/50\n",
            "321/321 [==============================] - 7s 21ms/step - loss: 0.0708 - accuracy: 0.9654 - val_loss: 0.5412 - val_accuracy: 0.8688\n",
            "Epoch 18/50\n",
            "321/321 [==============================] - 7s 21ms/step - loss: 0.0660 - accuracy: 0.9655 - val_loss: 0.5860 - val_accuracy: 0.8710\n",
            "Epoch 19/50\n",
            "321/321 [==============================] - 7s 21ms/step - loss: 0.0663 - accuracy: 0.9658 - val_loss: 0.5868 - val_accuracy: 0.8652\n",
            "Epoch 20/50\n",
            "321/321 [==============================] - 7s 22ms/step - loss: 0.0688 - accuracy: 0.9653 - val_loss: 0.5346 - val_accuracy: 0.8675\n",
            "Epoch 21/50\n",
            "321/321 [==============================] - 7s 21ms/step - loss: 0.0651 - accuracy: 0.9657 - val_loss: 0.5639 - val_accuracy: 0.8652\n",
            "Epoch 22/50\n",
            "321/321 [==============================] - 7s 21ms/step - loss: 0.0638 - accuracy: 0.9680 - val_loss: 0.5925 - val_accuracy: 0.8704\n",
            "Epoch 23/50\n",
            "321/321 [==============================] - 7s 21ms/step - loss: 0.0628 - accuracy: 0.9670 - val_loss: 0.6189 - val_accuracy: 0.8643\n",
            "Epoch 24/50\n",
            "321/321 [==============================] - 7s 21ms/step - loss: 0.0626 - accuracy: 0.9680 - val_loss: 0.5973 - val_accuracy: 0.8707\n",
            "Epoch 25/50\n",
            "321/321 [==============================] - 7s 21ms/step - loss: 0.0611 - accuracy: 0.9680 - val_loss: 0.6314 - val_accuracy: 0.8642\n",
            "Epoch 26/50\n",
            "321/321 [==============================] - 7s 22ms/step - loss: 0.0617 - accuracy: 0.9674 - val_loss: 0.6258 - val_accuracy: 0.8636\n",
            "Epoch 27/50\n",
            "321/321 [==============================] - 7s 21ms/step - loss: 0.0599 - accuracy: 0.9675 - val_loss: 0.6430 - val_accuracy: 0.8589\n",
            "Epoch 28/50\n",
            "321/321 [==============================] - 7s 21ms/step - loss: 0.0603 - accuracy: 0.9678 - val_loss: 0.6255 - val_accuracy: 0.8678\n",
            "Epoch 29/50\n",
            "321/321 [==============================] - 7s 21ms/step - loss: 0.0580 - accuracy: 0.9690 - val_loss: 0.6584 - val_accuracy: 0.8659\n",
            "Epoch 30/50\n",
            "321/321 [==============================] - 7s 21ms/step - loss: 0.0582 - accuracy: 0.9687 - val_loss: 0.6741 - val_accuracy: 0.8566\n",
            "Epoch 31/50\n",
            "321/321 [==============================] - 7s 21ms/step - loss: 0.0590 - accuracy: 0.9685 - val_loss: 0.6659 - val_accuracy: 0.8634\n",
            "Epoch 32/50\n",
            "321/321 [==============================] - 7s 21ms/step - loss: 0.0579 - accuracy: 0.9678 - val_loss: 0.6818 - val_accuracy: 0.8666\n",
            "Epoch 33/50\n",
            "321/321 [==============================] - 7s 21ms/step - loss: 0.0615 - accuracy: 0.9665 - val_loss: 0.7002 - val_accuracy: 0.8609\n",
            "Epoch 34/50\n",
            "321/321 [==============================] - 7s 21ms/step - loss: 0.0594 - accuracy: 0.9691 - val_loss: 0.7182 - val_accuracy: 0.8541\n",
            "Epoch 35/50\n",
            "321/321 [==============================] - 7s 21ms/step - loss: 0.0595 - accuracy: 0.9668 - val_loss: 0.6492 - val_accuracy: 0.8633\n",
            "Epoch 36/50\n",
            "321/321 [==============================] - 7s 22ms/step - loss: 0.0577 - accuracy: 0.9684 - val_loss: 0.6921 - val_accuracy: 0.8653\n",
            "Epoch 37/50\n",
            "321/321 [==============================] - 7s 22ms/step - loss: 0.0590 - accuracy: 0.9689 - val_loss: 0.6774 - val_accuracy: 0.8541\n",
            "Epoch 38/50\n",
            "321/321 [==============================] - 7s 22ms/step - loss: 0.0574 - accuracy: 0.9688 - val_loss: 0.7033 - val_accuracy: 0.8566\n",
            "Epoch 39/50\n",
            "321/321 [==============================] - 7s 22ms/step - loss: 0.0563 - accuracy: 0.9688 - val_loss: 0.7271 - val_accuracy: 0.8536\n",
            "Epoch 40/50\n",
            "321/321 [==============================] - 7s 22ms/step - loss: 0.0543 - accuracy: 0.9696 - val_loss: 0.7064 - val_accuracy: 0.8611\n",
            "Epoch 41/50\n",
            "321/321 [==============================] - 7s 22ms/step - loss: 0.0551 - accuracy: 0.9692 - val_loss: 0.6899 - val_accuracy: 0.8634\n",
            "Epoch 42/50\n",
            "321/321 [==============================] - 7s 22ms/step - loss: 0.0547 - accuracy: 0.9704 - val_loss: 0.6682 - val_accuracy: 0.8655\n",
            "Epoch 43/50\n",
            "321/321 [==============================] - 7s 21ms/step - loss: 0.0552 - accuracy: 0.9697 - val_loss: 0.7132 - val_accuracy: 0.8530\n",
            "Epoch 44/50\n",
            "321/321 [==============================] - 7s 21ms/step - loss: 0.0553 - accuracy: 0.9689 - val_loss: 0.6737 - val_accuracy: 0.8662\n",
            "Epoch 45/50\n",
            "321/321 [==============================] - 7s 21ms/step - loss: 0.0557 - accuracy: 0.9692 - val_loss: 0.6662 - val_accuracy: 0.8637\n",
            "Epoch 46/50\n",
            "321/321 [==============================] - 7s 21ms/step - loss: 0.0555 - accuracy: 0.9694 - val_loss: 0.6911 - val_accuracy: 0.8643\n",
            "Epoch 47/50\n",
            "321/321 [==============================] - 7s 21ms/step - loss: 0.0545 - accuracy: 0.9690 - val_loss: 0.6635 - val_accuracy: 0.8666\n",
            "Epoch 48/50\n",
            "321/321 [==============================] - 7s 22ms/step - loss: 0.0544 - accuracy: 0.9704 - val_loss: 0.6775 - val_accuracy: 0.8487\n",
            "Epoch 49/50\n",
            "321/321 [==============================] - 7s 21ms/step - loss: 0.0541 - accuracy: 0.9698 - val_loss: 0.6748 - val_accuracy: 0.8661\n",
            "Epoch 50/50\n",
            "321/321 [==============================] - 8s 24ms/step - loss: 0.0532 - accuracy: 0.9700 - val_loss: 0.6609 - val_accuracy: 0.8650\n"
          ]
        }
      ],
      "source": [
        "\n",
        "x_train_pad=np.array(x_train_pad)\n",
        "y_train =np.array(y_train)\n",
        "\n",
        "history = model.fit(x_train_pad, y_train, epochs=50, batch_size=64,validation_split=0.25)"
      ]
    },
    {
      "cell_type": "code",
      "execution_count": 239,
      "metadata": {
        "id": "eDIEy0mVjC2i"
      },
      "outputs": [],
      "source": [
        "model.save(\"sentiment_model.h5\")"
      ]
    },
    {
      "cell_type": "code",
      "execution_count": 240,
      "metadata": {
        "id": "Yrz_e-JljEq8",
        "colab": {
          "base_uri": "https://localhost:8080/"
        },
        "outputId": "d11abdc9-5044-4a3d-b85f-171d455c2568"
      },
      "outputs": [
        {
          "output_type": "stream",
          "name": "stdout",
          "text": [
            "214/214 [==============================] - 1s 3ms/step - loss: 0.6435 - accuracy: 0.8668\n"
          ]
        }
      ],
      "source": [
        "\n",
        "x_test_pad=np.array(x_test_pad)\n",
        "y_test =np.array(y_test)\n",
        "result = model.evaluate(x_test_pad, y_test)"
      ]
    },
    {
      "cell_type": "code",
      "execution_count": 241,
      "metadata": {
        "id": "J0YEVVgvjWaZ",
        "colab": {
          "base_uri": "https://localhost:8080/"
        },
        "outputId": "3682564e-d0ca-46a9-b2e0-dd98e5887447"
      },
      "outputs": [
        {
          "output_type": "execute_result",
          "data": {
            "text/plain": [
              "0.8667933940887451"
            ]
          },
          "metadata": {},
          "execution_count": 241
        }
      ],
      "source": [
        "result[1]"
      ]
    },
    {
      "cell_type": "code",
      "execution_count": 242,
      "metadata": {
        "id": "6_WIJgqxjWdT"
      },
      "outputs": [],
      "source": [
        "y_pred = model.predict(x=x_test_pad[:700])\n"
      ]
    },
    {
      "cell_type": "code",
      "execution_count": 243,
      "metadata": {
        "id": "wAY6P8objWf1"
      },
      "outputs": [],
      "source": [
        "y_pred = y_pred.T[0]"
      ]
    },
    {
      "cell_type": "code",
      "execution_count": 244,
      "metadata": {
        "id": "AC7sko4FjEth",
        "colab": {
          "base_uri": "https://localhost:8080/"
        },
        "outputId": "0b3b6656-d8c7-4f1f-f3f2-113289321b39"
      },
      "outputs": [
        {
          "output_type": "execute_result",
          "data": {
            "text/plain": [
              "array([4.66253425e-07, 9.99914050e-01, 9.98024464e-01, 4.65750068e-01,\n",
              "       1.13108583e-01, 5.69559120e-08, 9.99969244e-01, 9.99997854e-01,\n",
              "       6.25590513e-09, 2.40354821e-01, 2.24998657e-05, 3.01858425e-01,\n",
              "       9.99999642e-01, 9.03382540e-01, 9.99938011e-01, 4.65750068e-01,\n",
              "       1.00000000e+00, 2.75468171e-01, 2.51907568e-05, 1.78871267e-06,\n",
              "       3.95394023e-10, 8.82118762e-01, 1.18755497e-06, 9.99714553e-01,\n",
              "       6.86454769e-07, 9.92386699e-01, 1.10514410e-11, 7.06622399e-11,\n",
              "       4.65750068e-01, 1.03932815e-02, 3.32817197e-01, 6.16449229e-02,\n",
              "       7.71781174e-07, 1.48512868e-06, 1.00000000e+00, 3.87597305e-04,\n",
              "       2.38835998e-03, 9.99907732e-01, 6.34695543e-14, 5.74424922e-01,\n",
              "       9.99992371e-01, 4.65750068e-01, 9.99999881e-01, 9.99998212e-01,\n",
              "       1.41796113e-08, 6.69121509e-04, 1.00000000e+00, 9.99102473e-01,\n",
              "       2.00177103e-01, 9.99999762e-01, 9.99997854e-01, 9.99995112e-01,\n",
              "       7.27757625e-03, 1.00000000e+00, 5.05673420e-03, 6.31374375e-09,\n",
              "       9.68891263e-01, 1.00000000e+00, 4.43474768e-09, 4.55835283e-01,\n",
              "       5.22771835e-01, 2.46379805e-09, 1.43321529e-02, 8.95885900e-02,\n",
              "       5.05568023e-05, 9.99801099e-01, 9.99998331e-01, 1.85333386e-01,\n",
              "       9.98782694e-01, 5.40401963e-08, 1.01973064e-05, 5.61880041e-03,\n",
              "       9.90606129e-01, 9.99994874e-01, 2.38428637e-02, 5.20565927e-01,\n",
              "       8.20144521e-07, 9.99999881e-01, 6.40944779e-01, 4.42960345e-06,\n",
              "       5.07945158e-02, 1.16098064e-08, 5.48689649e-10, 1.97170554e-13,\n",
              "       1.24579564e-01, 1.00000000e+00, 4.79097106e-02, 6.36911000e-06,\n",
              "       7.81813860e-01, 2.81040047e-06, 1.00000000e+00, 9.99998927e-01,\n",
              "       1.11035425e-02, 9.99977946e-01, 9.99945998e-01, 1.92431025e-02,\n",
              "       9.99998808e-01, 1.97432235e-01, 1.64760919e-14, 1.52727999e-08,\n",
              "       1.00000000e+00, 2.51740906e-02, 9.99999762e-01, 9.99998331e-01,\n",
              "       6.96461284e-05, 1.51973126e-07, 1.84694994e-02, 9.99874592e-01,\n",
              "       2.32840830e-10, 7.03119731e-05, 3.04155401e-04, 4.34121645e-08,\n",
              "       1.00000000e+00, 8.86944532e-01, 1.44848179e-11, 1.78327630e-09,\n",
              "       1.16769583e-09, 9.98522699e-01, 3.14488970e-02, 9.92894351e-01,\n",
              "       9.68285521e-12, 1.07945362e-03, 5.25114685e-03, 3.15180909e-10,\n",
              "       1.12165190e-01, 4.65750068e-01, 9.92540061e-01, 9.57163513e-01,\n",
              "       1.25960167e-02, 1.83450698e-04, 1.76664307e-05, 1.90774330e-09,\n",
              "       7.72989051e-09, 5.86717090e-12, 3.19371838e-03, 7.03335672e-07,\n",
              "       5.89922071e-02, 9.99970555e-01, 3.48055214e-02, 9.99999046e-01,\n",
              "       2.07066420e-03, 6.08520291e-04, 6.87320778e-07, 1.57903023e-02,\n",
              "       2.20691777e-06, 6.21223421e-07, 1.26939610e-01, 6.82630628e-08,\n",
              "       9.50081825e-01, 8.33564579e-01, 1.65574256e-05, 9.30299163e-02,\n",
              "       8.39613179e-08, 1.00000000e+00, 6.58659860e-02, 2.58761854e-03,\n",
              "       9.92654681e-01, 1.84933118e-08, 9.58176884e-07, 8.52131095e-08,\n",
              "       1.00000000e+00, 5.67897176e-03, 1.01064565e-03, 6.79840127e-07,\n",
              "       7.60872141e-02, 1.96908150e-06, 4.09867340e-08, 9.99999642e-01,\n",
              "       9.99999762e-01, 4.65750068e-01, 9.99999881e-01, 9.99993920e-01,\n",
              "       9.30394709e-01, 9.65981361e-16, 3.11216297e-09, 3.21686366e-06,\n",
              "       9.99999285e-01, 5.66345534e-07, 8.72720592e-03, 4.65750068e-01,\n",
              "       8.67098927e-01, 9.36814293e-10, 9.99999881e-01, 1.52417556e-07,\n",
              "       7.81226933e-01, 9.99999404e-01, 4.87600744e-04, 2.04065609e-09,\n",
              "       1.74301531e-04, 8.86185229e-01, 1.57203576e-05, 9.99211431e-01,\n",
              "       9.99992371e-01, 1.00000000e+00, 3.25908296e-08, 2.53686868e-03,\n",
              "       6.11137738e-11, 7.25160306e-03, 1.00000000e+00, 2.51013789e-05,\n",
              "       8.52778612e-11, 1.99288253e-09, 6.48240328e-01, 5.46279978e-07,\n",
              "       9.99999881e-01, 9.69830394e-01, 3.25425714e-01, 1.55616764e-08,\n",
              "       1.40245149e-09, 1.45852042e-07, 1.00000000e+00, 1.54922938e-03,\n",
              "       9.96935368e-01, 9.99991179e-01, 9.99998569e-01, 4.86567384e-03,\n",
              "       9.99999881e-01, 4.19556891e-04, 1.53177232e-03, 2.42999092e-01,\n",
              "       1.91421941e-06, 2.20794207e-03, 4.06553954e-06, 9.99998689e-01,\n",
              "       8.14444502e-06, 2.98090574e-09, 1.00000000e+00, 8.28650415e-01,\n",
              "       1.00000000e+00, 8.25502724e-08, 3.29697036e-06, 2.38587745e-07,\n",
              "       4.05189940e-06, 1.00000000e+00, 9.99267161e-01, 4.82436746e-01,\n",
              "       1.00000000e+00, 9.31658670e-02, 2.42439628e-01, 3.70070410e-07,\n",
              "       3.33333119e-05, 9.36286015e-05, 8.02750230e-01, 7.77562439e-01,\n",
              "       1.17766839e-02, 7.28075719e-03, 2.09206878e-03, 1.06998618e-06,\n",
              "       1.19013037e-11, 1.51828658e-02, 5.44193313e-07, 7.19723481e-09,\n",
              "       3.33771954e-04, 4.11591178e-10, 9.98897910e-01, 2.12793774e-03,\n",
              "       1.33286955e-08, 8.39430451e-01, 3.87844086e-01, 9.92569149e-01,\n",
              "       7.81242377e-08, 1.48831087e-03, 9.49876606e-01, 7.21655127e-08,\n",
              "       7.36948336e-03, 4.27337829e-04, 4.65750068e-01, 1.21817850e-02,\n",
              "       9.99992132e-01, 9.99992847e-01, 1.17712617e-02, 9.94494855e-01,\n",
              "       7.47810630e-03, 9.35290082e-05, 9.99889374e-01, 1.16689306e-11,\n",
              "       2.15499131e-05, 9.99992371e-01, 6.87249424e-10, 1.94224492e-01,\n",
              "       2.06287928e-06, 6.86325941e-10, 2.26754462e-10, 9.93354678e-01,\n",
              "       9.99938607e-01, 9.99984622e-01, 9.99868274e-01, 2.69691984e-04,\n",
              "       2.02732712e-01, 7.52215510e-06, 4.65750068e-01, 1.00000000e+00,\n",
              "       9.99999285e-01, 9.99991775e-01, 4.65750068e-01, 1.23682948e-11,\n",
              "       4.23632551e-09, 3.46814901e-01, 1.43137276e-02, 7.17649495e-09,\n",
              "       9.99999881e-01, 7.74454545e-09, 7.13039115e-02, 4.94846221e-12,\n",
              "       9.87005472e-01, 9.99999762e-01, 7.31975203e-10, 3.07507798e-05,\n",
              "       9.51643160e-05, 1.20511795e-10, 9.83263016e-01, 9.97915804e-01,\n",
              "       9.50103335e-04, 1.89493358e-06, 9.99999285e-01, 3.42175551e-02,\n",
              "       9.64904010e-01, 9.99997497e-01, 2.64498014e-02, 2.94294419e-15,\n",
              "       4.65750068e-01, 1.03745599e-08, 4.56472102e-04, 1.28700961e-07,\n",
              "       1.00000000e+00, 1.81954310e-05, 9.93241072e-01, 9.99828935e-01,\n",
              "       9.99595582e-01, 1.06594234e-05, 1.00000000e+00, 7.22310971e-04,\n",
              "       3.09928088e-04, 6.00198023e-02, 5.16732340e-04, 9.99559939e-01,\n",
              "       1.00000000e+00, 9.99999881e-01, 9.99998450e-01, 1.80841271e-05,\n",
              "       5.99875705e-07, 9.99960542e-01, 3.19621363e-03, 9.99999881e-01,\n",
              "       1.00000000e+00, 9.99998450e-01, 5.79065963e-05, 9.88616049e-01,\n",
              "       3.70588350e-05, 4.65750068e-01, 1.26023973e-08, 6.60446844e-08,\n",
              "       1.55186012e-06, 3.11570241e-13, 8.49628747e-02, 9.99999881e-01,\n",
              "       9.71959829e-01, 1.00000000e+00, 1.76555659e-08, 2.75929928e-01,\n",
              "       1.00000000e+00, 3.12236026e-02, 6.88220859e-01, 2.23824628e-07,\n",
              "       4.88914909e-09, 1.00000000e+00, 5.11939543e-05, 8.13782197e-09,\n",
              "       4.65750068e-01, 9.99989271e-01, 3.30236901e-07, 1.22001043e-09,\n",
              "       1.00000000e+00, 9.99999285e-01, 7.25160306e-03, 3.16626839e-02,\n",
              "       9.99997973e-01, 4.81483352e-04, 2.10108148e-04, 9.99919653e-01,\n",
              "       9.26889043e-05, 4.79489282e-10, 3.78296990e-03, 5.78363251e-04,\n",
              "       1.00000000e+00, 3.08954771e-12, 4.73892003e-01, 9.26775575e-01,\n",
              "       9.12081242e-01, 1.55677015e-04, 1.00000000e+00, 1.00000000e+00,\n",
              "       9.91122723e-01, 3.12236026e-02, 4.65750068e-01, 3.11032200e-04,\n",
              "       9.99776304e-01, 9.99931693e-01, 4.51305766e-07, 9.99944568e-01,\n",
              "       8.29976145e-03, 3.59960133e-04, 6.50672831e-08, 9.75654602e-01,\n",
              "       3.68529418e-03, 3.70544036e-13, 1.00000000e+00, 4.83825943e-07,\n",
              "       1.22777715e-01, 8.17658941e-10, 4.90508229e-03, 1.00862565e-06,\n",
              "       7.62042940e-01, 1.26839353e-07, 2.81738311e-01, 8.62876605e-03,\n",
              "       9.99974251e-01, 1.27048726e-04, 9.99736607e-01, 9.48852175e-06,\n",
              "       9.99977589e-01, 6.72586858e-01, 9.99994993e-01, 1.12178997e-04,\n",
              "       9.99797642e-01, 1.16895524e-06, 2.30718797e-06, 9.99999881e-01,\n",
              "       1.01596061e-02, 9.75599349e-01, 9.99999642e-01, 2.46407723e-07,\n",
              "       9.98378158e-01, 1.00000000e+00, 9.97795224e-01, 5.30641735e-01,\n",
              "       4.64087754e-01, 4.65750068e-01, 9.99999404e-01, 9.99918342e-01,\n",
              "       1.84852966e-09, 9.97547540e-05, 1.13079615e-03, 4.00666067e-06,\n",
              "       1.29978162e-05, 2.58271984e-06, 1.05872834e-02, 4.65750068e-01,\n",
              "       7.30242222e-09, 9.99997735e-01, 9.99997854e-01, 3.35393097e-14,\n",
              "       1.39948039e-03, 2.37131712e-06, 6.11548661e-04, 2.99399994e-09,\n",
              "       9.90722060e-01, 4.65750068e-01, 1.70393270e-02, 6.79570496e-01,\n",
              "       3.60191829e-04, 4.41807642e-05, 9.74167407e-01, 3.76176075e-07,\n",
              "       9.99999881e-01, 4.65750068e-01, 8.16113723e-04, 4.65750068e-01,\n",
              "       1.81613679e-04, 9.99994993e-01, 5.43728762e-04, 9.11341608e-02,\n",
              "       1.34821457e-03, 9.99999762e-01, 7.75903118e-06, 2.53320158e-01,\n",
              "       1.00000000e+00, 9.99994993e-01, 6.41397387e-02, 1.86770735e-03,\n",
              "       1.20129145e-04, 9.99999642e-01, 8.80162790e-03, 6.04816896e-14,\n",
              "       9.99992967e-01, 4.49539364e-12, 9.43526149e-01, 4.65750068e-01,\n",
              "       4.65750068e-01, 4.53473836e-01, 9.59542029e-11, 9.99877334e-01,\n",
              "       9.99999762e-01, 1.65768690e-10, 6.33688271e-01, 1.31943834e-08,\n",
              "       4.86596078e-01, 1.40756732e-04, 4.65750068e-01, 3.52470415e-05,\n",
              "       8.86945128e-01, 6.86614335e-01, 2.92158627e-04, 4.84038200e-12,\n",
              "       9.96176839e-01, 1.38644618e-03, 6.42297964e-04, 5.29943360e-03,\n",
              "       6.97648466e-01, 8.28728378e-02, 2.10232046e-02, 1.00000000e+00,\n",
              "       6.16449229e-02, 7.12930626e-12, 1.65402945e-02, 5.82190514e-05,\n",
              "       1.25558581e-04, 1.58806652e-01, 2.64352560e-01, 1.92963580e-06,\n",
              "       9.99994040e-01, 4.65750068e-01, 2.54646846e-04, 8.21566846e-06,\n",
              "       1.18248211e-02, 9.99960542e-01, 9.65696967e-10, 1.17291145e-01,\n",
              "       9.99917746e-01, 1.52376362e-10, 1.87418608e-10, 5.71007073e-01,\n",
              "       9.99997020e-01, 2.70776422e-04, 1.00000000e+00, 1.62671077e-09,\n",
              "       2.06077799e-01, 1.00000000e+00, 7.48004019e-01, 5.93060516e-02,\n",
              "       9.92851675e-01, 3.12236026e-02, 2.02573460e-06, 9.99798715e-01,\n",
              "       1.15093753e-12, 5.20613650e-03, 8.34396601e-01, 5.21881302e-05,\n",
              "       9.07751143e-01, 2.33291553e-06, 1.00000000e+00, 4.65750068e-01,\n",
              "       5.09805177e-05, 3.12037329e-08, 9.99627948e-01, 9.99999166e-01,\n",
              "       1.00000000e+00, 1.76683546e-03, 2.16265440e-01, 5.85248508e-02,\n",
              "       2.83658119e-06, 3.05505722e-07, 6.21070967e-06, 1.00000000e+00,\n",
              "       9.91155982e-01, 1.00000000e+00, 1.42470258e-09, 4.65750068e-01,\n",
              "       4.65750068e-01, 4.36944356e-05, 9.99998927e-01, 3.49695995e-07,\n",
              "       9.37289617e-04, 4.85120952e-04, 7.89627084e-05, 1.14472084e-01,\n",
              "       3.37857546e-06, 1.88293941e-02, 1.00000000e+00, 2.24879384e-03,\n",
              "       2.79284613e-08, 5.34297347e-01, 2.88994074e-01, 1.00000000e+00,\n",
              "       1.94621205e-01, 9.99995947e-01, 1.00000000e+00, 5.02185238e-10,\n",
              "       1.17408626e-11, 9.99320269e-01, 9.53611266e-03, 9.99827325e-01,\n",
              "       7.27757625e-03, 1.00000000e+00, 1.00000000e+00, 9.99999762e-01,\n",
              "       9.99946833e-01, 4.65750068e-01, 2.94558927e-02, 7.86973298e-01,\n",
              "       9.98013377e-01, 6.86974147e-07, 1.00000000e+00, 1.76843522e-11,\n",
              "       3.19707513e-01, 1.32203465e-02, 9.99627948e-01, 3.59375321e-04,\n",
              "       9.92423534e-01, 6.73249131e-03, 4.65750068e-01, 9.99836802e-01,\n",
              "       9.99998331e-01, 5.63021274e-08, 8.20531189e-01, 1.28065275e-11,\n",
              "       9.99938726e-01, 9.98993218e-01, 2.20050174e-06, 2.18567806e-07,\n",
              "       9.53848271e-08, 9.99480665e-01, 4.77229953e-02, 1.00000000e+00,\n",
              "       3.12236026e-02, 1.00000000e+00, 1.88224094e-05, 6.19490147e-01,\n",
              "       2.87436834e-03, 9.84509051e-01, 5.71839571e-08, 9.96145010e-01,\n",
              "       4.86566722e-02, 1.58476352e-03, 9.99981880e-01, 9.95661199e-01,\n",
              "       9.10320878e-01, 9.99229029e-02, 9.77754055e-08, 3.72172263e-03,\n",
              "       2.56732913e-10, 9.99627948e-01, 1.00000000e+00, 6.16449229e-02,\n",
              "       1.45044671e-02, 1.00000000e+00, 9.06710792e-03, 9.90260303e-01,\n",
              "       1.48006766e-05, 3.60027880e-05, 2.96446786e-04, 5.05875377e-08,\n",
              "       9.88908694e-04, 3.82592559e-01, 8.94918680e-01, 9.99575436e-01,\n",
              "       4.94915876e-04, 9.99878287e-01, 8.53367805e-01, 4.33316082e-02,\n",
              "       4.60964338e-06, 1.38524801e-01, 2.08333546e-12, 1.86712332e-05,\n",
              "       9.99962807e-01, 7.05114156e-02, 9.99988317e-01, 7.03226422e-10,\n",
              "       4.89674173e-02, 2.34213687e-07, 1.00000000e+00, 3.00556291e-02,\n",
              "       1.12186396e-03, 9.99999642e-01, 1.00000000e+00, 1.62022362e-09,\n",
              "       6.28472539e-04, 2.63556672e-06, 2.55666032e-06, 9.99999762e-01,\n",
              "       2.73509470e-12, 9.99798715e-01, 1.00000000e+00, 3.93321574e-01,\n",
              "       8.86642098e-01, 1.26478184e-07, 9.95011806e-01, 9.02736545e-01,\n",
              "       1.32069817e-06, 1.59495026e-01, 3.58653750e-07, 4.65750068e-01,\n",
              "       9.99999404e-01, 5.44784870e-03, 1.00000000e+00, 4.65750068e-01,\n",
              "       8.48464424e-06, 3.26695144e-01, 1.00627444e-10, 6.49332011e-04],\n",
              "      dtype=float32)"
            ]
          },
          "metadata": {},
          "execution_count": 244
        }
      ],
      "source": [
        "y_pred"
      ]
    },
    {
      "cell_type": "code",
      "execution_count": 245,
      "metadata": {
        "id": "XgeMDFjsjcqw"
      },
      "outputs": [],
      "source": [
        "text = \"ürün gerçekten çok güzel\"\n",
        "texts = [text]\n",
        "tokens = tokenizer.texts_to_sequences(texts)"
      ]
    },
    {
      "cell_type": "code",
      "execution_count": 246,
      "metadata": {
        "id": "LO_Lfv7mjctg",
        "colab": {
          "base_uri": "https://localhost:8080/"
        },
        "outputId": "aef3aa6e-7bba-40b9-d610-2771b35bf731"
      },
      "outputs": [
        {
          "output_type": "execute_result",
          "data": {
            "text/plain": [
              "(1, 42)"
            ]
          },
          "metadata": {},
          "execution_count": 246
        }
      ],
      "source": [
        "tokens_pad = pad_sequences(tokens,maxlen = max_tokens)\n",
        "tokens_pad.shape"
      ]
    },
    {
      "cell_type": "code",
      "execution_count": 247,
      "metadata": {
        "id": "GOUDY-kAVHMz",
        "colab": {
          "base_uri": "https://localhost:8080/"
        },
        "outputId": "94e6376a-4e8e-451a-a1b6-392b2649730d"
      },
      "outputs": [
        {
          "output_type": "execute_result",
          "data": {
            "text/plain": [
              "0"
            ]
          },
          "metadata": {},
          "execution_count": 247
        }
      ],
      "source": [
        "int(model.predict(tokens_pad).tolist()[0][0])"
      ]
    },
    {
      "cell_type": "code",
      "execution_count": 248,
      "metadata": {
        "id": "1n8n_icUjcv4",
        "colab": {
          "base_uri": "https://localhost:8080/"
        },
        "outputId": "62be891c-1049-4392-f40c-9f687b5ada93"
      },
      "outputs": [
        {
          "output_type": "stream",
          "name": "stdout",
          "text": [
            "moralinizin 0 olduğunu görüyorum. \n"
          ]
        }
      ],
      "source": [
        "classes = np.argmax(int(model.predict(tokens_pad).tolist()[0][0]))\n",
        "print(\"moralinizin {} olduğunu görüyorum. \".format(classes))\n"
      ]
    },
    {
      "cell_type": "code",
      "execution_count": 249,
      "metadata": {
        "id": "tvKq_1gXjcyn",
        "colab": {
          "base_uri": "https://localhost:8080/",
          "height": 350
        },
        "outputId": "7e5a88ae-56c7-42ef-a8a9-a9b115d914cf"
      },
      "outputs": [
        {
          "output_type": "display_data",
          "data": {
            "text/plain": [
              "<Figure size 720x360 with 1 Axes>"
            ],
            "image/png": "[encoded data removed]"
          },
          "metadata": {
            "needs_background": "light"
          }
        }
      ],
      "source": [
        "import matplotlib.pyplot as plt\n",
        "\n",
        "plt.figure(figsize = (10,5))\n",
        "plt.plot(history.history['loss'])\n",
        "plt.plot(history.history['val_loss'])\n",
        "plt.title('Model loss')\n",
        "plt.ylabel('Loss')\n",
        "plt.xlabel('Epoch')\n",
        "plt.legend(['Train', 'Test'], loc='upper left')\n",
        "plt.show()"
      ]
    },
    {
      "cell_type": "code",
      "execution_count": 250,
      "metadata": {
        "id": "g-coQKrEkz5D",
        "colab": {
          "base_uri": "https://localhost:8080/",
          "height": 350
        },
        "outputId": "852ffc0d-c89e-4c29-c45d-3325a18bffe3"
      },
      "outputs": [
        {
          "output_type": "display_data",
          "data": {
            "text/plain": [
              "<Figure size 720x360 with 1 Axes>"
            ],
            "image/png": "[encoded data removed]"
          },
          "metadata": {
            "needs_background": "light"
          }
        }
      ],
      "source": [
        "plt.figure(figsize = (10,5))\n",
        "plt.plot(history.history['accuracy'])\n",
        "plt.plot(history.history['val_accuracy'])\n",
        "plt.title('Model accuracy')\n",
        "plt.ylabel('Accuracy')\n",
        "plt.xlabel('Epoch')\n",
        "plt.legend(['Train', 'Test'], loc='upper left')\n",
        "plt.show()"
      ]
    },
    {
      "cell_type": "markdown",
      "metadata": {
        "id": "-Flm0vp169Qh"
      },
      "source": [
        ""
      ]
    },
    {
      "cell_type": "code",
      "execution_count": 251,
      "metadata": {
        "id": "sGYCO0zcFamQ"
      },
      "outputs": [],
      "source": [
        "model.save(\"sentiment_model.h5\")"
      ]
    },
    {
      "cell_type": "code",
      "execution_count": 252,
      "metadata": {
        "id": "J_PNW-MujlKc"
      },
      "outputs": [],
      "source": [
        "import pickle\n",
        "\n",
        "# saving\n",
        "with open('tokenizer.pickle', 'wb') as handle:\n",
        "    pickle.dump(tokenizer, handle, protocol=pickle.HIGHEST_PROTOCOL)"
      ]
    }
  ],
  "metadata": {
    "colab": {
      "collapsed_sections": [],
      "name": "deepLearning.ipynb adlı not defterinin kopyası30.04",
      "provenance": [],
      "include_colab_link": true
    },
    "kernelspec": {
      "display_name": "Python 3",
      "name": "python3"
    },
    "language_info": {
      "name": "python"
    }
  },
  "nbformat": 4,
  "nbformat_minor": 0
}