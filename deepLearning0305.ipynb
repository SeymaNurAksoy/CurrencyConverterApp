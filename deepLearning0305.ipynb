{
  "cells": [
    {
      "cell_type": "markdown",
      "metadata": {
        "id": "view-in-github",
        "colab_type": "text"
      },
      "source": [
        "<a href=\"https://colab.research.google.com/github/SeymaNurAksoy/CurrencyConverterApp/blob/main/deepLearning0305.ipynb\" target=\"_parent\"><img src=\"https://colab.research.google.com/assets/colab-badge.svg\" alt=\"Open In Colab\"/></a>"
      ]
    },
    {
      "cell_type": "code",
      "execution_count": null,
      "metadata": {
        "colab": {
          "base_uri": "https://localhost:8080/"
        },
        "id": "G8Lw0D3SAwG_",
        "outputId": "8aa2936f-0976-43dd-b8e5-ad454f753491"
      },
      "outputs": [
        {
          "output_type": "stream",
          "name": "stdout",
          "text": [
            "[nltk_data] Downloading package punkt to /root/nltk_data...\n",
            "[nltk_data]   Unzipping tokenizers/punkt.zip.\n",
            "[nltk_data] Downloading package stopwords to /root/nltk_data...\n",
            "[nltk_data]   Unzipping corpora/stopwords.zip.\n"
          ]
        },
        {
          "output_type": "execute_result",
          "data": {
            "text/plain": [
              "['acaba',\n",
              " 'ama',\n",
              " 'aslında',\n",
              " 'az',\n",
              " 'bazı',\n",
              " 'belki',\n",
              " 'biri',\n",
              " 'birkaç',\n",
              " 'birşey',\n",
              " 'biz',\n",
              " 'bu',\n",
              " 'çok',\n",
              " 'çünkü',\n",
              " 'da',\n",
              " 'daha',\n",
              " 'de',\n",
              " 'defa',\n",
              " 'diye',\n",
              " 'eğer',\n",
              " 'en',\n",
              " 'gibi',\n",
              " 'hem',\n",
              " 'hep',\n",
              " 'hepsi',\n",
              " 'her',\n",
              " 'hiç',\n",
              " 'için',\n",
              " 'ile',\n",
              " 'ise',\n",
              " 'kez',\n",
              " 'ki',\n",
              " 'kim',\n",
              " 'mı',\n",
              " 'mu',\n",
              " 'mü',\n",
              " 'nasıl',\n",
              " 'ne',\n",
              " 'neden',\n",
              " 'nerde',\n",
              " 'nerede',\n",
              " 'nereye',\n",
              " 'niçin',\n",
              " 'niye',\n",
              " 'o',\n",
              " 'sanki',\n",
              " 'şey',\n",
              " 'siz',\n",
              " 'şu',\n",
              " 'tüm',\n",
              " 've',\n",
              " 'veya',\n",
              " 'ya',\n",
              " 'yani']"
            ]
          },
          "metadata": {},
          "execution_count": 1
        }
      ],
      "source": [
        "import numpy as np\n",
        "import pandas as pd\n",
        "from tensorflow.python.keras.models import Sequential\n",
        "from tensorflow.python.keras.layers import Dense, GRU, Embedding, LSTM\n",
        "from tensorflow.keras.optimizers import Adam \n",
        "from keras.preprocessing.text import Tokenizer\n",
        "from keras.preprocessing.sequence import pad_sequences\n",
        "from tensorflow.python.keras.models import load_model\n",
        "import re\n",
        "import nltk\n",
        "\n",
        "nltk.download('punkt')\n",
        "nltk.download('stopwords')\n",
        "from nltk.corpus import stopwords\n",
        "WPT = nltk.WordPunctTokenizer()\n",
        "stop_word_list = nltk.corpus.stopwords.words('turkish')\n",
        "stop_word_list\n"
      ]
    },
    {
      "cell_type": "code",
      "execution_count": null,
      "metadata": {
        "id": "UkRlIUPX-gxG",
        "colab": {
          "base_uri": "https://localhost:8080/",
          "height": 423
        },
        "outputId": "13b1da71-8c3c-4ab4-b927-951a78359a51"
      },
      "outputs": [
        {
          "output_type": "execute_result",
          "data": {
            "text/plain": [
              "                                                    Text  Sentiment\n",
              "0      Daha öncede almıştım bu cihazdan ense ve sakal...          1\n",
              "1      Ürün gayet başarılı sakal kesmede başlık sayıs...          1\n",
              "2      Daha öncede aynısını almıştım çok güzel ve kal...          1\n",
              "3      Erkek kuaförüyüm ense ve sıfır sakal traşı içi...          1\n",
              "4                               ürün gerçekten çok güzel          1\n",
              "...                                                  ...        ...\n",
              "34187        J7 Pro Cihazı Geldi Fakat Faturası Gelmedi!          0\n",
              "34188             Müşteri Hizmetlerine Ulaşamama Sorunu!          0\n",
              "34189                                Para İadesi Sorunu!          0\n",
              "34190                                     Mağdur Ediyor!          0\n",
              "34191             Ürünü Aldığı Halde Parayı İade Etmedi!          0\n",
              "\n",
              "[34192 rows x 2 columns]"
            ],
            "text/html": [
              "\n",
              "  <div id=\"df-4334e7af-8bd2-4f6e-8764-82de20f5c728\">\n",
              "    <div class=\"colab-df-container\">\n",
              "      <div>\n",
              "<style scoped>\n",
              "    .dataframe tbody tr th:only-of-type {\n",
              "        vertical-align: middle;\n",
              "    }\n",
              "\n",
              "    .dataframe tbody tr th {\n",
              "        vertical-align: top;\n",
              "    }\n",
              "\n",
              "    .dataframe thead th {\n",
              "        text-align: right;\n",
              "    }\n",
              "</style>\n",
              "<table border=\"1\" class=\"dataframe\">\n",
              "  <thead>\n",
              "    <tr style=\"text-align: right;\">\n",
              "      <th></th>\n",
              "      <th>Text</th>\n",
              "      <th>Sentiment</th>\n",
              "    </tr>\n",
              "  </thead>\n",
              "  <tbody>\n",
              "    <tr>\n",
              "      <th>0</th>\n",
              "      <td>Daha öncede almıştım bu cihazdan ense ve sakal...</td>\n",
              "      <td>1</td>\n",
              "    </tr>\n",
              "    <tr>\n",
              "      <th>1</th>\n",
              "      <td>Ürün gayet başarılı sakal kesmede başlık sayıs...</td>\n",
              "      <td>1</td>\n",
              "    </tr>\n",
              "    <tr>\n",
              "      <th>2</th>\n",
              "      <td>Daha öncede aynısını almıştım çok güzel ve kal...</td>\n",
              "      <td>1</td>\n",
              "    </tr>\n",
              "    <tr>\n",
              "      <th>3</th>\n",
              "      <td>Erkek kuaförüyüm ense ve sıfır sakal traşı içi...</td>\n",
              "      <td>1</td>\n",
              "    </tr>\n",
              "    <tr>\n",
              "      <th>4</th>\n",
              "      <td>ürün gerçekten çok güzel</td>\n",
              "      <td>1</td>\n",
              "    </tr>\n",
              "    <tr>\n",
              "      <th>...</th>\n",
              "      <td>...</td>\n",
              "      <td>...</td>\n",
              "    </tr>\n",
              "    <tr>\n",
              "      <th>34187</th>\n",
              "      <td>J7 Pro Cihazı Geldi Fakat Faturası Gelmedi!</td>\n",
              "      <td>0</td>\n",
              "    </tr>\n",
              "    <tr>\n",
              "      <th>34188</th>\n",
              "      <td>Müşteri Hizmetlerine Ulaşamama Sorunu!</td>\n",
              "      <td>0</td>\n",
              "    </tr>\n",
              "    <tr>\n",
              "      <th>34189</th>\n",
              "      <td>Para İadesi Sorunu!</td>\n",
              "      <td>0</td>\n",
              "    </tr>\n",
              "    <tr>\n",
              "      <th>34190</th>\n",
              "      <td>Mağdur Ediyor!</td>\n",
              "      <td>0</td>\n",
              "    </tr>\n",
              "    <tr>\n",
              "      <th>34191</th>\n",
              "      <td>Ürünü Aldığı Halde Parayı İade Etmedi!</td>\n",
              "      <td>0</td>\n",
              "    </tr>\n",
              "  </tbody>\n",
              "</table>\n",
              "<p>34192 rows × 2 columns</p>\n",
              "</div>\n",
              "      <button class=\"colab-df-convert\" onclick=\"convertToInteractive('df-4334e7af-8bd2-4f6e-8764-82de20f5c728')\"\n",
              "              title=\"Convert this dataframe to an interactive table.\"\n",
              "              style=\"display:none;\">\n",
              "        \n",
              "  <svg xmlns=\"http://www.w3.org/2000/svg\" height=\"24px\"viewBox=\"0 0 24 24\"\n",
              "       width=\"24px\">\n",
              "    <path d=\"M0 0h24v24H0V0z\" fill=\"none\"/>\n",
              "    <path d=\"M18.56 5.44l.94 2.06.94-2.06 2.06-.94-2.06-.94-.94-2.06-.94 2.06-2.06.94zm-11 1L8.5 8.5l.94-2.06 2.06-.94-2.06-.94L8.5 2.5l-.94 2.06-2.06.94zm10 10l.94 2.06.94-2.06 2.06-.94-2.06-.94-.94-2.06-.94 2.06-2.06.94z\"/><path d=\"M17.41 7.96l-1.37-1.37c-.4-.4-.92-.59-1.43-.59-.52 0-1.04.2-1.43.59L10.3 9.45l-7.72 7.72c-.78.78-.78 2.05 0 2.83L4 21.41c.39.39.9.59 1.41.59.51 0 1.02-.2 1.41-.59l7.78-7.78 2.81-2.81c.8-.78.8-2.07 0-2.86zM5.41 20L4 18.59l7.72-7.72 1.47 1.35L5.41 20z\"/>\n",
              "  </svg>\n",
              "      </button>\n",
              "      \n",
              "  <style>\n",
              "    .colab-df-container {\n",
              "      display:flex;\n",
              "      flex-wrap:wrap;\n",
              "      gap: 12px;\n",
              "    }\n",
              "\n",
              "    .colab-df-convert {\n",
              "      background-color: #E8F0FE;\n",
              "      border: none;\n",
              "      border-radius: 50%;\n",
              "      cursor: pointer;\n",
              "      display: none;\n",
              "      fill: #1967D2;\n",
              "      height: 32px;\n",
              "      padding: 0 0 0 0;\n",
              "      width: 32px;\n",
              "    }\n",
              "\n",
              "    .colab-df-convert:hover {\n",
              "      background-color: #E2EBFA;\n",
              "      box-shadow: 0px 1px 2px rgba(60, 64, 67, 0.3), 0px 1px 3px 1px rgba(60, 64, 67, 0.15);\n",
              "      fill: #174EA6;\n",
              "    }\n",
              "\n",
              "    [theme=dark] .colab-df-convert {\n",
              "      background-color: #3B4455;\n",
              "      fill: #D2E3FC;\n",
              "    }\n",
              "\n",
              "    [theme=dark] .colab-df-convert:hover {\n",
              "      background-color: #434B5C;\n",
              "      box-shadow: 0px 1px 3px 1px rgba(0, 0, 0, 0.15);\n",
              "      filter: drop-shadow(0px 1px 2px rgba(0, 0, 0, 0.3));\n",
              "      fill: #FFFFFF;\n",
              "    }\n",
              "  </style>\n",
              "\n",
              "      <script>\n",
              "        const buttonEl =\n",
              "          document.querySelector('#df-4334e7af-8bd2-4f6e-8764-82de20f5c728 button.colab-df-convert');\n",
              "        buttonEl.style.display =\n",
              "          google.colab.kernel.accessAllowed ? 'block' : 'none';\n",
              "\n",
              "        async function convertToInteractive(key) {\n",
              "          const element = document.querySelector('#df-4334e7af-8bd2-4f6e-8764-82de20f5c728');\n",
              "          const dataTable =\n",
              "            await google.colab.kernel.invokeFunction('convertToInteractive',\n",
              "                                                     [key], {});\n",
              "          if (!dataTable) return;\n",
              "\n",
              "          const docLinkHtml = 'Like what you see? Visit the ' +\n",
              "            '<a target=\"_blank\" href=https://colab.research.google.com/notebooks/data_table.ipynb>data table notebook</a>'\n",
              "            + ' to learn more about interactive tables.';\n",
              "          element.innerHTML = '';\n",
              "          dataTable['output_type'] = 'display_data';\n",
              "          await google.colab.output.renderOutput(dataTable, element);\n",
              "          const docLink = document.createElement('div');\n",
              "          docLink.innerHTML = docLinkHtml;\n",
              "          element.appendChild(docLink);\n",
              "        }\n",
              "      </script>\n",
              "    </div>\n",
              "  </div>\n",
              "  "
            ]
          },
          "metadata": {},
          "execution_count": 2
        }
      ],
      "source": [
        "dataset = pd.read_excel('sentimentAnalysis.xlsx', sheet_name = 'Sheet1')\n",
        "dataset"
      ]
    },
    {
      "cell_type": "code",
      "execution_count": null,
      "metadata": {
        "id": "zpT6Vk7gFM6B"
      },
      "outputs": [],
      "source": [
        "dataset['Text'] = dataset['Text'].apply(lambda x: re.sub('[,\\.!?:()\"]', '', x))\n",
        "dataset['Text'] = dataset['Text'].apply(lambda x: x.lower())\n",
        "dataset['Text'] = dataset['Text'].apply(lambda x: x.strip())\n",
        "\n",
        "def token(values):\n",
        "    words = nltk.tokenize.word_tokenize(values)\n",
        "    filtered_words = [word for word in words if word not in stop_word_list]\n",
        "    not_stopword_doc = \" \".join(filtered_words)\n",
        "    return not_stopword_doc\n",
        "\n",
        "dataset['Text'] = dataset['Text'].apply(lambda x: token(x))"
      ]
    },
    {
      "cell_type": "code",
      "execution_count": null,
      "metadata": {
        "colab": {
          "base_uri": "https://localhost:8080/"
        },
        "id": "GqsmkpfoFW48",
        "outputId": "0e6fc71e-ffe9-487a-d5de-42a140907b31"
      },
      "outputs": [
        {
          "output_type": "execute_result",
          "data": {
            "text/plain": [
              "0        öncede almıştım cihazdan ense sakal tüketmek o...\n",
              "1        ürün gayet başarılı sakal kesmede başlık sayıs...\n",
              "2         öncede aynısını almıştım güzel kaliteli bir ürün\n",
              "3        erkek kuaförüyüm ense sıfır sakal traşı uygun ...\n",
              "4                                     ürün gerçekten güzel\n",
              "                               ...                        \n",
              "34187           j7 pro cihazı geldi fakat faturası gelmedi\n",
              "34188                müşteri hizmetlerine ulaşamama sorunu\n",
              "34189                                  para i̇adesi sorunu\n",
              "34190                                        mağdur ediyor\n",
              "34191               ürünü aldığı halde parayı i̇ade etmedi\n",
              "Name: Text, Length: 34192, dtype: object"
            ]
          },
          "metadata": {},
          "execution_count": 4
        }
      ],
      "source": [
        "dataset['Text']"
      ]
    },
    {
      "cell_type": "code",
      "execution_count": null,
      "metadata": {
        "id": "jlxdrklXFlhd"
      },
      "outputs": [],
      "source": [
        "data = dataset['Text'].values.tolist()\n",
        "sentiment = dataset['Sentiment'].values.tolist()"
      ]
    },
    {
      "cell_type": "code",
      "execution_count": null,
      "metadata": {
        "id": "whRHJXv7Freu"
      },
      "outputs": [],
      "source": [
        "from sklearn.model_selection import train_test_split\n",
        "x_train, x_test, y_train, y_test = train_test_split(data,sentiment,test_size = 0.2, random_state = 42)"
      ]
    },
    {
      "cell_type": "code",
      "execution_count": null,
      "metadata": {
        "colab": {
          "base_uri": "https://localhost:8080/",
          "height": 35
        },
        "id": "_uXs-wbnFvfq",
        "outputId": "d201c741-ae77-4e1d-9013-a23f36753a75"
      },
      "outputs": [
        {
          "output_type": "execute_result",
          "data": {
            "text/plain": [
              "'ürün güzel tabanı ince bir saat bir yürüme mesafesinde ayaklarınızı ağrıtıyor'"
            ],
            "application/vnd.google.colaboratory.intrinsic+json": {
              "type": "string"
            }
          },
          "metadata": {},
          "execution_count": 7
        }
      ],
      "source": [
        "x_train[290]"
      ]
    },
    {
      "cell_type": "code",
      "execution_count": null,
      "metadata": {
        "colab": {
          "base_uri": "https://localhost:8080/"
        },
        "id": "vWXY0QuaFxV5",
        "outputId": "a4583514-d0f4-4fbb-9a14-557ecc0ad84f"
      },
      "outputs": [
        {
          "output_type": "execute_result",
          "data": {
            "text/plain": [
              "0"
            ]
          },
          "metadata": {},
          "execution_count": 8
        }
      ],
      "source": [
        "y_train[290]"
      ]
    },
    {
      "cell_type": "code",
      "execution_count": null,
      "metadata": {
        "colab": {
          "base_uri": "https://localhost:8080/"
        },
        "id": "ZQpZUesfF0ME",
        "outputId": "527998b7-9578-4314-b84b-ebd327042786"
      },
      "outputs": [
        {
          "output_type": "execute_result",
          "data": {
            "text/plain": [
              "{'bir': 1,\n",
              " 'ürün': 2,\n",
              " 'güzel': 3,\n",
              " 'iyi': 4,\n",
              " 'tavsiye': 5,\n",
              " 'gayet': 6,\n",
              " 'ederim': 7,\n",
              " 'aldım': 8,\n",
              " 'yok': 9,\n",
              " 'geldi': 10,\n",
              " 'hızlı': 11,\n",
              " 'değil': 12,\n",
              " 'göre': 13,\n",
              " 'ürünü': 14,\n",
              " 'olarak': 15,\n",
              " 'var': 16,\n",
              " 'kaliteli': 17,\n",
              " 'kadar': 18,\n",
              " '0': 19,\n",
              " 'telefon': 20,\n",
              " 'uygun': 21,\n",
              " 'teşekkürler': 22,\n",
              " 'cok': 23,\n",
              " 'biraz': 24,\n",
              " 'ben': 25,\n",
              " 'kargo': 26,\n",
              " 'kullanışlı': 27,\n",
              " 'fiyat': 28,\n",
              " 'elime': 29,\n",
              " '1': 30,\n",
              " 'küçük': 31,\n",
              " 'fiyata': 32,\n",
              " 'bi': 33,\n",
              " 'gün': 34,\n",
              " 'kalitesi': 35,\n",
              " 'kesinlikle': 36,\n",
              " 'fiyatına': 37,\n",
              " 'şarj': 38,\n",
              " 'sonra': 39,\n",
              " 'gerçekten': 40,\n",
              " '3': 41,\n",
              " 'bile': 42,\n",
              " 'fakat': 43,\n",
              " 'tam': 44,\n",
              " 'memnun': 45,\n",
              " 'tek': 46,\n",
              " 'kötü': 47,\n",
              " 'kullanıyorum': 48,\n",
              " 'oldu': 49,\n",
              " 'bence': 50,\n",
              " 'iade': 51,\n",
              " 'performans': 52,\n",
              " 'fazla': 53,\n",
              " 'ses': 54,\n",
              " 'olması': 55,\n",
              " 'ulaştı': 56,\n",
              " 'ancak': 57,\n",
              " 'uzun': 58,\n",
              " 'harika': 59,\n",
              " 'önce': 60,\n",
              " 'sorun': 61,\n",
              " 'sipariş': 62,\n",
              " 'mükemmel': 63,\n",
              " 'büyük': 64,\n",
              " 'fiyatı': 65,\n",
              " 'ürünün': 66,\n",
              " 'başarılı': 67,\n",
              " 'oldukça': 68,\n",
              " 'aynı': 69,\n",
              " 'urun': 70,\n",
              " 'ayrıca': 71,\n",
              " 'kolay': 72,\n",
              " 'rahat': 73,\n",
              " 'süper': 74,\n",
              " 'sadece': 75,\n",
              " 'kalitesiz': 76,\n",
              " 'şekilde': 77,\n",
              " 'hemen': 78,\n",
              " 'ekran': 79,\n",
              " '5': 80,\n",
              " 'şık': 81,\n",
              " 'zaten': 82,\n",
              " 'ettim': 83,\n",
              " 'içinde': 84,\n",
              " 'memnunum': 85,\n",
              " '10': 86,\n",
              " 'ilk': 87,\n",
              " 'alın': 88,\n",
              " 'teşekkür': 89,\n",
              " 'hepsiburada': 90,\n",
              " 'sorunsuz': 91,\n",
              " 'saat': 92,\n",
              " 'kısa': 93,\n",
              " '4': 94,\n",
              " 'telefonu': 95,\n",
              " 'ediyorum': 96,\n",
              " 'benim': 97,\n",
              " 'hızı': 98,\n",
              " 'iki': 99,\n",
              " 'cihaz': 100,\n",
              " 'oyun': 101,\n",
              " 'bana': 102,\n",
              " 'sağlam': 103,\n",
              " 'olduğu': 104,\n",
              " 'guzel': 105,\n",
              " 'olan': 106,\n",
              " 'diğer': 107,\n",
              " 'almayın': 108,\n",
              " 'ideal': 109,\n",
              " 'para': 110,\n",
              " 'gerek': 111,\n",
              " 'almıştım': 112,\n",
              " 'beğendim': 113,\n",
              " 'şarjı': 114,\n",
              " 'numara': 115,\n",
              " 'günde': 116,\n",
              " 'kalite': 117,\n",
              " 'herkese': 118,\n",
              " 'rağmen': 119,\n",
              " 'başka': 120,\n",
              " 'olsun': 121,\n",
              " 'sıkıntı': 122,\n",
              " 'usb': 123,\n",
              " 'zaman': 124,\n",
              " 'arkadaşlar': 125,\n",
              " 'çıktı': 126,\n",
              " 'çalışıyor': 127,\n",
              " 'verdim': 128,\n",
              " 'mouse': 129,\n",
              " 'tane': 130,\n",
              " 'kaldım': 131,\n",
              " 'samsung': 132,\n",
              " 'hediye': 133,\n",
              " 'yeni': 134,\n",
              " 'yeterli': 135,\n",
              " 'aldığım': 136,\n",
              " 'kurulumu': 137,\n",
              " 'teslim': 138,\n",
              " 'normal': 139,\n",
              " 'gb': 140,\n",
              " 'son': 141,\n",
              " 'geri': 142,\n",
              " 'oluyor': 143,\n",
              " 'ay': 144,\n",
              " 'dışında': 145,\n",
              " 'geliyor': 146,\n",
              " 'pil': 147,\n",
              " 'etmiyorum': 148,\n",
              " 'icin': 149,\n",
              " 'basit': 150,\n",
              " 'marka': 151,\n",
              " 'eski': 152,\n",
              " 'olduğunu': 153,\n",
              " 'bunu': 154,\n",
              " 'böyle': 155,\n",
              " 'sakal': 156,\n",
              " 'ucuz': 157,\n",
              " 'yaklaşık': 158,\n",
              " 'özelliği': 159,\n",
              " 'hafif': 160,\n",
              " 'almak': 161,\n",
              " 'duruyor': 162,\n",
              " 'derim': 163,\n",
              " 'yine': 164,\n",
              " 'kullanımı': 165,\n",
              " 'gidiyor': 166,\n",
              " 'onun': 167,\n",
              " 'süre': 168,\n",
              " 'iş': 169,\n",
              " 'siyah': 170,\n",
              " 'zor': 171,\n",
              " 'teslimat': 172,\n",
              " 'gelen': 173,\n",
              " 'hafta': 174,\n",
              " 'farklı': 175,\n",
              " 'beğenmedim': 176,\n",
              " 'degil': 177,\n",
              " 'tercih': 178,\n",
              " 'çabuk': 179,\n",
              " 'olsa': 180,\n",
              " 'pişman': 181,\n",
              " 'yüksek': 182,\n",
              " 'ediyor': 183,\n",
              " 'eder': 184,\n",
              " 'pek': 185,\n",
              " 'sesi': 186,\n",
              " 'özellikle': 187,\n",
              " 'aldim': 188,\n",
              " 'fena': 189,\n",
              " 'paketleme': 190,\n",
              " 'mi': 191,\n",
              " 'kullanım': 192,\n",
              " 'berbat': 193,\n",
              " 'olur': 194,\n",
              " 'ufak': 195,\n",
              " 'göründüğü': 196,\n",
              " 'performansı': 197,\n",
              " 'kendi': 198,\n",
              " 'sürede': 199,\n",
              " '6': 200,\n",
              " '30': 201,\n",
              " 'kullandım': 202,\n",
              " 'plastik': 203,\n",
              " 'sürekli': 204,\n",
              " 'sorunu': 205,\n",
              " 'veriyor': 206,\n",
              " 'geçti': 207,\n",
              " 'idare': 208,\n",
              " 'çanta': 209,\n",
              " 'kulaklık': 210,\n",
              " 'oyunlar': 211,\n",
              " 'kablosu': 212,\n",
              " 'açısından': 213,\n",
              " 'düşük': 214,\n",
              " 'beni': 215,\n",
              " 'etmem': 216,\n",
              " 'ince': 217,\n",
              " 'ekranı': 218,\n",
              " 'gelmedi': 219,\n",
              " 'yapıyor': 220,\n",
              " 'sert': 221,\n",
              " 'yüzden': 222,\n",
              " 'ssd': 223,\n",
              " 'aşırı': 224,\n",
              " 'internet': 225,\n",
              " 'telefonun': 226,\n",
              " 'hiçbir': 227,\n",
              " 'tekrar': 228,\n",
              " 'aldık': 229,\n",
              " 'vardı': 230,\n",
              " '15': 231,\n",
              " 'burada': 232,\n",
              " 'malzeme': 233,\n",
              " 'kurulum': 234,\n",
              " 'alabilirsiniz': 235,\n",
              " 'hemde': 236,\n",
              " 'oldum': 237,\n",
              " 'falan': 238,\n",
              " 'adet': 239,\n",
              " 'bende': 240,\n",
              " 'baya': 241,\n",
              " 'geç': 242,\n",
              " 'saç': 243,\n",
              " 'yakın': 244,\n",
              " 'kablosuz': 245,\n",
              " 'ayakkabı': 246,\n",
              " 'özellikleri': 247,\n",
              " '8': 248,\n",
              " 'düşünmeden': 249,\n",
              " 'paraya': 250,\n",
              " 'orjinal': 251,\n",
              " 'konusunda': 252,\n",
              " 'yeri': 253,\n",
              " 'beyaz': 254,\n",
              " 'kısmı': 255,\n",
              " 'oğlum': 256,\n",
              " 'dokunmatik': 257,\n",
              " '00': 258,\n",
              " 'asla': 259,\n",
              " 'i̇ade': 260,\n",
              " 'bunun': 261,\n",
              " 'aydır': 262,\n",
              " 'resmen': 263,\n",
              " 'görüntü': 264,\n",
              " 'makine': 265,\n",
              " 'üründen': 266,\n",
              " 'artık': 267,\n",
              " 'dandik': 268,\n",
              " 'günü': 269,\n",
              " 'hizli': 270,\n",
              " 'sahip': 271,\n",
              " 'beklediğimden': 272,\n",
              " 'düşünüyorum': 273,\n",
              " 'vs': 274,\n",
              " 'hala': 275,\n",
              " 'dolayı': 276,\n",
              " 'alınabilecek': 277,\n",
              " 'kere': 278,\n",
              " 'eğlenceli': 279,\n",
              " 'öyle': 280,\n",
              " 'problem': 281,\n",
              " 'yanında': 282,\n",
              " 'yorumlara': 283,\n",
              " 'süresi': 284,\n",
              " 'çıkıyor': 285,\n",
              " 'alalı': 286,\n",
              " 'iphone': 287,\n",
              " 'hepsiburadacom': 288,\n",
              " 'olmasına': 289,\n",
              " 'kamera': 290,\n",
              " 'bozuk': 291,\n",
              " 'olmadı': 292,\n",
              " 'çekim': 293,\n",
              " 'ağır': 294,\n",
              " 'müzik': 295,\n",
              " 'yer': 296,\n",
              " 'diyebilirim': 297,\n",
              " 'bi̇r': 298,\n",
              " 'görür': 299,\n",
              " 'renk': 300,\n",
              " 'ev': 301,\n",
              " 'beklemeyin': 302,\n",
              " '7': 303,\n",
              " 'yerine': 304,\n",
              " 'ele': 305,\n",
              " 'ye': 306,\n",
              " 'orta': 307,\n",
              " 'hoş': 308,\n",
              " 'kullanmak': 309,\n",
              " 'şimdi': 310,\n",
              " 'evde': 311,\n",
              " 'kargoya': 312,\n",
              " 'bozuldu': 313,\n",
              " 'doğru': 314,\n",
              " 'hafıza': 315,\n",
              " 'sanırım': 316,\n",
              " 'varsa': 317,\n",
              " 'yazıcı': 318,\n",
              " 'wifi': 319,\n",
              " 'herhangi': 320,\n",
              " 'sıfır': 321,\n",
              " 'hız': 322,\n",
              " 'telefona': 323,\n",
              " 'etmek': 324,\n",
              " 'yaşamadım': 325,\n",
              " 'alışveriş': 326,\n",
              " 'kullanmaya': 327,\n",
              " 'gitti': 328,\n",
              " 'bütün': 329,\n",
              " 'yazma': 330,\n",
              " 'batarya': 331,\n",
              " 'ayrı': 332,\n",
              " 'arada': 333,\n",
              " 'dan': 334,\n",
              " 'taktım': 335,\n",
              " 'deri': 336,\n",
              " 'bugün': 337,\n",
              " 'öncelikle': 338,\n",
              " 'kablo': 339,\n",
              " 'gerekiyor': 340,\n",
              " 'sarj': 341,\n",
              " 'tl': 342,\n",
              " 'üzerinde': 343,\n",
              " 'lazım': 344,\n",
              " 'severek': 345,\n",
              " 'çocuklar': 346,\n",
              " 'beklediğim': 347,\n",
              " 'boyutu': 348,\n",
              " 'kullandığım': 349,\n",
              " 'bağlantı': 350,\n",
              " 'sessiz': 351,\n",
              " 'cihazı': 352,\n",
              " 'kamerası': 353,\n",
              " 'pahalı': 354,\n",
              " 'eksik': 355,\n",
              " 'istediğim': 356,\n",
              " 'yorum': 357,\n",
              " 'hic': 358,\n",
              " 'metal': 359,\n",
              " 'satın': 360,\n",
              " 'sakın': 361,\n",
              " 'net': 362,\n",
              " 'i̇lk': 363,\n",
              " 'edici': 364,\n",
              " 'derece': 365,\n",
              " 'dikkat': 366,\n",
              " 'alacak': 367,\n",
              " 'belli': 368,\n",
              " 'yıldız': 369,\n",
              " 'ertesi': 370,\n",
              " 'yavaş': 371,\n",
              " 'evet': 372,\n",
              " 'kutu': 373,\n",
              " 'rahatsız': 374,\n",
              " 'birde': 375,\n",
              " 'bitiyor': 376,\n",
              " 'tabi': 377,\n",
              " 'hatta': 378,\n",
              " 'almanızı': 379,\n",
              " 'olmuş': 380,\n",
              " 'olabilir': 381,\n",
              " 'an': 382,\n",
              " 'makina': 383,\n",
              " 'gore': 384,\n",
              " 'birlikte': 385,\n",
              " 'hb': 386,\n",
              " 'genel': 387,\n",
              " 'tasarımı': 388,\n",
              " 'almayı': 389,\n",
              " 'gücü': 390,\n",
              " 'bundan': 391,\n",
              " 'rengi': 392,\n",
              " 'günlük': 393,\n",
              " 'gönderi': 394,\n",
              " 'alırken': 395,\n",
              " '16': 396,\n",
              " 'sizin': 397,\n",
              " 'yerde': 398,\n",
              " 'ön': 399,\n",
              " 'okuma': 400,\n",
              " 'haftadır': 401,\n",
              " 'kartuş': 402,\n",
              " 'yada': 403,\n",
              " 'on': 404,\n",
              " 'denedim': 405,\n",
              " 'yanlış': 406,\n",
              " 'keşke': 407,\n",
              " 'fotoğraf': 408,\n",
              " 'kullanımda': 409,\n",
              " 'olurdu': 410,\n",
              " 'a': 411,\n",
              " 'satıcı': 412,\n",
              " 'yere': 413,\n",
              " 'fazlasıyla': 414,\n",
              " 'yıl': 415,\n",
              " 'su': 416,\n",
              " 'çocukluğuma': 417,\n",
              " 'bellek': 418,\n",
              " 'pratik': 419,\n",
              " 'olmuyor': 420,\n",
              " 'içerisinde': 421,\n",
              " 'alınabilir': 422,\n",
              " 'pc': 423,\n",
              " 'telefondan': 424,\n",
              " 'gönül': 425,\n",
              " 'size': 426,\n",
              " 'yaptım': 427,\n",
              " 'kaç': 428,\n",
              " 'tatmin': 429,\n",
              " 'kesiyor': 430,\n",
              " 'firma': 431,\n",
              " 'çalışmıyor': 432,\n",
              " 'beğendi': 433,\n",
              " 'den': 434,\n",
              " 'bişey': 435,\n",
              " 'anda': 436,\n",
              " 'zorunda': 437,\n",
              " 'tv': 438,\n",
              " 'kaldı': 439,\n",
              " 'kibar': 440,\n",
              " 'üründe': 441,\n",
              " 'üst': 442,\n",
              " 'içine': 443,\n",
              " 'fark': 444,\n",
              " 'kokusu': 445,\n",
              " 'nokia': 446,\n",
              " 'çekiyor': 447,\n",
              " 'ömrü': 448,\n",
              " 'bilgisayar': 449,\n",
              " 'yoksa': 450,\n",
              " 'zamanında': 451,\n",
              " 'döndüm': 452,\n",
              " 'istedim': 453,\n",
              " 'gündür': 454,\n",
              " 'alt': 455,\n",
              " 'işe': 456,\n",
              " 'pili': 457,\n",
              " 'rahatlıkla': 458,\n",
              " 'görüyor': 459,\n",
              " 'şimdilik': 460,\n",
              " 'şuan': 461,\n",
              " 'alıyor': 462,\n",
              " 'müşteri': 463,\n",
              " 'özellik': 464,\n",
              " 'veri': 465,\n",
              " 'önemli': 466,\n",
              " 'baskı': 467,\n",
              " 'altında': 468,\n",
              " 'laptop': 469,\n",
              " 'sıkıntısı': 470,\n",
              " 'iyisi': 471,\n",
              " 'zamanda': 472,\n",
              " 'hizmet': 473,\n",
              " 'arasında': 474,\n",
              " 'alıp': 475,\n",
              " 'maalesef': 476,\n",
              " 'nostalji': 477,\n",
              " 'telefonda': 478,\n",
              " 'onu': 479,\n",
              " 'ürüne': 480,\n",
              " 'hoşuma': 481,\n",
              " 'hayal': 482,\n",
              " 'edilir': 483,\n",
              " 'almaya': 484,\n",
              " 'yazık': 485,\n",
              " 'arka': 486,\n",
              " 'yoktu': 487,\n",
              " 'çocuk': 488,\n",
              " 'kızım': 489,\n",
              " 'mario': 490,\n",
              " 'kartı': 491,\n",
              " 'başladı': 492,\n",
              " 'i̇yi': 493,\n",
              " 'karar': 494,\n",
              " 'çıkmadı': 495,\n",
              " 'mevcut': 496,\n",
              " 'kırık': 497,\n",
              " 'hp': 498,\n",
              " 'henüz': 499,\n",
              " 'eşime': 500,\n",
              " '100': 501,\n",
              " 'inanılmaz': 502,\n",
              " 'öneririm': 503,\n",
              " 'etti': 504,\n",
              " 'tereddüt': 505,\n",
              " 'tasarım': 506,\n",
              " 'halde': 507,\n",
              " 'bataryası': 508,\n",
              " 'tamamen': 509,\n",
              " 'ona': 510,\n",
              " 'bakarak': 511,\n",
              " 'olabilirdi': 512,\n",
              " 'buna': 513,\n",
              " 'model': 514,\n",
              " 'üzerine': 515,\n",
              " 'üzerinden': 516,\n",
              " '40': 517,\n",
              " 'bilmiyorum': 518,\n",
              " 'bazen': 519,\n",
              " 'logitech': 520,\n",
              " 'umarım': 521,\n",
              " 'adım': 522,\n",
              " 'devam': 523,\n",
              " 'almadan': 524,\n",
              " 'ürünler': 525,\n",
              " 'ilgili': 526,\n",
              " 'tesekkurler': 527,\n",
              " 'hak': 528,\n",
              " 'olanlar': 529,\n",
              " 'arkadaşlara': 530,\n",
              " 'kalmadım': 531,\n",
              " 'kalitesini': 532,\n",
              " 'yanı': 533,\n",
              " '400': 534,\n",
              " 'parmak': 535,\n",
              " 'gece': 536,\n",
              " 'sn': 537,\n",
              " 'görünüyor': 538,\n",
              " 'ışık': 539,\n",
              " 'şiddetle': 540,\n",
              " 'olmadan': 541,\n",
              " 'olmaması': 542,\n",
              " 'kaçırmayın': 543,\n",
              " 'türlü': 544,\n",
              " 'video': 545,\n",
              " 'gördüm': 546,\n",
              " 'oturuyor': 547,\n",
              " 'etmiyor': 548,\n",
              " 'kat': 549,\n",
              " 'kırmızı': 550,\n",
              " 'malesef': 551,\n",
              " 'çıkan': 552,\n",
              " 'alakası': 553,\n",
              " 'arama': 554,\n",
              " 'neredeyse': 555,\n",
              " 'içinden': 556,\n",
              " 'ergonomik': 557,\n",
              " 'koku': 558,\n",
              " 'orijinal': 559,\n",
              " 'gereken': 560,\n",
              " 'görüntüsü': 561,\n",
              " 'mause': 562,\n",
              " 'üstelik': 563,\n",
              " 'note': 564,\n",
              " 'üstünde': 565,\n",
              " 'etmez': 566,\n",
              " 'eşim': 567,\n",
              " 'güçlü': 568,\n",
              " 'değilim': 569,\n",
              " 'olmayan': 570,\n",
              " 'gelince': 571,\n",
              " 'edildi': 572,\n",
              " 'bluetooth': 573,\n",
              " 'farkı': 574,\n",
              " 'oyunları': 575,\n",
              " 'p': 576,\n",
              " 'alan': 577,\n",
              " 'kılıf': 578,\n",
              " 'dk': 579,\n",
              " 'dün': 580,\n",
              " 'sizi': 581,\n",
              " 'sayesinde': 582,\n",
              " 'olsaydı': 583,\n",
              " 'modem': 584,\n",
              " 'olumsuz': 585,\n",
              " 'mb': 586,\n",
              " 'yalnız': 587,\n",
              " 'gercekten': 588,\n",
              " 'anca': 589,\n",
              " 'değer': 590,\n",
              " 'tavsi̇ye': 591,\n",
              " 'aktarım': 592,\n",
              " 'hdd': 593,\n",
              " 'iyiydi': 594,\n",
              " 'sıfıra': 595,\n",
              " 'sonuç': 596,\n",
              " 'verdiğim': 597,\n",
              " 'açık': 598,\n",
              " 'uyku': 599,\n",
              " 'traş': 600,\n",
              " 'görmedim': 601,\n",
              " 'dayanıklı': 602,\n",
              " 'beş': 603,\n",
              " 'saatte': 604,\n",
              " 'direk': 605,\n",
              " 'göz': 606,\n",
              " 'beğendik': 607,\n",
              " 'zayıf': 608,\n",
              " 'almışım': 609,\n",
              " 'sandisk': 610,\n",
              " 'avantaj': 611,\n",
              " 'kullanıyor': 612,\n",
              " 'yırtıldı': 613,\n",
              " 'mah': 614,\n",
              " 'f': 615,\n",
              " 'fiyatina': 616,\n",
              " 'kalıyor': 617,\n",
              " 'kalitede': 618,\n",
              " 'yinede': 619,\n",
              " 'yapmıyor': 620,\n",
              " 'yapılmış': 621,\n",
              " 'full': 622,\n",
              " 'renkli': 623,\n",
              " 'sinyal': 624,\n",
              " 'ikinci': 625,\n",
              " 'e': 626,\n",
              " 'değildi': 627,\n",
              " 'izi': 628,\n",
              " 'kullanan': 629,\n",
              " 'güvenilir': 630,\n",
              " 'rahatlığıyla': 631,\n",
              " 'muhteşem': 632,\n",
              " 'olmaz': 633,\n",
              " 'yi': 634,\n",
              " '04': 635,\n",
              " 'başladım': 636,\n",
              " 'ense': 637,\n",
              " 'resimdeki': 638,\n",
              " 'haricinde': 639,\n",
              " 'eksiği': 640,\n",
              " 'kendini': 641,\n",
              " 'elimde': 642,\n",
              " 'geniş': 643,\n",
              " 'oturma': 644,\n",
              " 'tuşu': 645,\n",
              " 'uygulama': 646,\n",
              " 'parasını': 647,\n",
              " 'yıldır': 648,\n",
              " 'içi': 649,\n",
              " 'urunu': 650,\n",
              " 'fatura': 651,\n",
              " 'isteyenler': 652,\n",
              " 'kargoda': 653,\n",
              " 'windows': 654,\n",
              " 'piyasada': 655,\n",
              " 'çöpe': 656,\n",
              " 'sık': 657,\n",
              " 'kokuyor': 658,\n",
              " 'kart': 659,\n",
              " 'oda': 660,\n",
              " 'i̇yi̇': 661,\n",
              " 'edin': 662,\n",
              " 'mutlaka': 663,\n",
              " 'flash': 664,\n",
              " 'anlatıldığı': 665,\n",
              " 'dahi': 666,\n",
              " 'yetersiz': 667,\n",
              " 'mesaj': 668,\n",
              " 'yan': 669,\n",
              " 'birçok': 670,\n",
              " 'uyumlu': 671,\n",
              " 'isteyenlere': 672,\n",
              " 'kendine': 673,\n",
              " 'android': 674,\n",
              " 'olacak': 675,\n",
              " 'yazıyor': 676,\n",
              " 'telefonla': 677,\n",
              " 'kendim': 678,\n",
              " 'parasına': 679,\n",
              " 'istiyorum': 680,\n",
              " 'düzgün': 681,\n",
              " 'karşılıyor': 682,\n",
              " 'gun': 683,\n",
              " 'olduğundan': 684,\n",
              " 'koptu': 685,\n",
              " 'kutusu': 686,\n",
              " 'hassas': 687,\n",
              " 'durum': 688,\n",
              " 'ederi̇m': 689,\n",
              " 'beri': 690,\n",
              " 'bilgisayarım': 691,\n",
              " 'fi': 692,\n",
              " 'yapmak': 693,\n",
              " 'kotu': 694,\n",
              " 'dar': 695,\n",
              " 'aldıktan': 696,\n",
              " 'oynuyorum': 697,\n",
              " 'sabah': 698,\n",
              " 'almayin': 699,\n",
              " 'yorumlarda': 700,\n",
              " 'disk': 701,\n",
              " 'garanti': 702,\n",
              " 'hakkını': 703,\n",
              " 'herkes': 704,\n",
              " 'edeceğim': 705,\n",
              " 'gözlük': 706,\n",
              " 'ram': 707,\n",
              " 'kullanıyordum': 708,\n",
              " 'sağlıyor': 709,\n",
              " 'i̇çi̇n': 710,\n",
              " 'göndermişler': 711,\n",
              " 'problemi': 712,\n",
              " 'cep': 713,\n",
              " 'akıllı': 714,\n",
              " 'kabul': 715,\n",
              " 'makul': 716,\n",
              " '05': 717,\n",
              " 'etmeden': 718,\n",
              " 'içindeki': 719,\n",
              " 'i': 720,\n",
              " 'el': 721,\n",
              " 'olduğum': 722,\n",
              " 'ortalama': 723,\n",
              " 'ihtiyacı': 724,\n",
              " 'trendyol': 725,\n",
              " '500': 726,\n",
              " 'oranı': 727,\n",
              " 'tarafı': 728,\n",
              " 'saniyede': 729,\n",
              " 'geldiğinde': 730,\n",
              " 'yorumları': 731,\n",
              " 'eden': 732,\n",
              " 'resimde': 733,\n",
              " 'yerden': 734,\n",
              " 'uzak': 735,\n",
              " 'gelmesi': 736,\n",
              " 'kucuk': 737,\n",
              " 'kasa': 738,\n",
              " 'sandalye': 739,\n",
              " 'açıkçası': 740,\n",
              " 'eksi': 741,\n",
              " 'aynısı': 742,\n",
              " 'dış': 743,\n",
              " 'mutlu': 744,\n",
              " 'telefonum': 745,\n",
              " 'hepsiburadaya': 746,\n",
              " 'wi': 747,\n",
              " 'çift': 748,\n",
              " 'müthiş': 749,\n",
              " 'boyut': 750,\n",
              " 'evin': 751,\n",
              " 'buldum': 752,\n",
              " 'fiyatlı': 753,\n",
              " 'cihazın': 754,\n",
              " 'durmuyor': 755,\n",
              " 'sene': 756,\n",
              " 'oynuyor': 757,\n",
              " 'yapısı': 758,\n",
              " 'işte': 759,\n",
              " 'insan': 760,\n",
              " 'buradan': 761,\n",
              " 'aldığıma': 762,\n",
              " 'açılıyor': 763,\n",
              " 'ışığı': 764,\n",
              " 'birisi': 765,\n",
              " 'olmadığı': 766,\n",
              " 'fiyatıda': 767,\n",
              " 'bakımından': 768,\n",
              " 'gps': 769,\n",
              " 'paket': 770,\n",
              " 'önceki': 771,\n",
              " 'hale': 772,\n",
              " 'herşey': 773,\n",
              " 'işinizi': 774,\n",
              " 'güzeldi': 775,\n",
              " 'tak': 776,\n",
              " 'hızlıydı': 777,\n",
              " 'araç': 778,\n",
              " 'asus': 779,\n",
              " 'üç': 780,\n",
              " 'alet': 781,\n",
              " 'beraber': 782,\n",
              " 'boşuna': 783,\n",
              " 'alıyorum': 784,\n",
              " 'saati': 785,\n",
              " 'prima': 786,\n",
              " 'super': 787,\n",
              " 'bır': 788,\n",
              " 'nostaljik': 789,\n",
              " 'kendime': 790,\n",
              " 'aldı': 791,\n",
              " 'ucuza': 792,\n",
              " 'ara': 793,\n",
              " 'çoğu': 794,\n",
              " 'gelmiyor': 795,\n",
              " 'almış': 796,\n",
              " 'geldiği': 797,\n",
              " 'mümkün': 798,\n",
              " 'gönderim': 799,\n",
              " 'ettiğim': 800,\n",
              " 'elimize': 801,\n",
              " 'test': 802,\n",
              " 'kelime': 803,\n",
              " 'tuşları': 804,\n",
              " 'verilen': 805,\n",
              " 'zarif': 806,\n",
              " 'karşıladı': 807,\n",
              " 'kırıklığı': 808,\n",
              " '50': 809,\n",
              " 'i̇adesi': 810,\n",
              " 'arkadaşıma': 811,\n",
              " 'kullaniyorum': 812,\n",
              " 'siparişi': 813,\n",
              " 'indirim': 814,\n",
              " 'sistemi': 815,\n",
              " 'üzerindeki': 816,\n",
              " 'bağlantısı': 817,\n",
              " 'keyifli': 818,\n",
              " 'atari': 819,\n",
              " 'donma': 820,\n",
              " 'işimi': 821,\n",
              " 'kullanılabilir': 822,\n",
              " 'olanlara': 823,\n",
              " 'dedim': 824,\n",
              " 'başta': 825,\n",
              " 'gereksiz': 826,\n",
              " 'fiyatının': 827,\n",
              " 'kaldık': 828,\n",
              " 'vakit': 829,\n",
              " 'kurdum': 830,\n",
              " 'değmez': 831,\n",
              " 'kesimi': 832,\n",
              " 'üstü': 833,\n",
              " 'çıkarıyor': 834,\n",
              " 'elinize': 835,\n",
              " '9': 836,\n",
              " 'merhaba': 837,\n",
              " 'görünce': 838,\n",
              " 'sevdi': 839,\n",
              " 'ana': 840,\n",
              " 'internete': 841,\n",
              " 'akşam': 842,\n",
              " 'boş': 843,\n",
              " 'kaba': 844,\n",
              " 'saniye': 845,\n",
              " 'kalın': 846,\n",
              " 'tuş': 847,\n",
              " 'cam': 848,\n",
              " 'yaptı': 849,\n",
              " 'begendim': 850,\n",
              " 'alınır': 851,\n",
              " 'dikkatli': 852,\n",
              " 'oyuncak': 853,\n",
              " 'oynuyoruz': 854,\n",
              " 'türkçe': 855,\n",
              " 'tabanı': 856,\n",
              " 'gönderdiler': 857,\n",
              " 'ürünleri': 858,\n",
              " 'i̇ki': 859,\n",
              " 'ürünle': 860,\n",
              " 'günden': 861,\n",
              " 'kargom': 862,\n",
              " 'piyasadaki': 863,\n",
              " 'toner': 864,\n",
              " 'konuda': 865,\n",
              " 'idi': 866,\n",
              " 'modeli': 867,\n",
              " 'arkadaşım': 868,\n",
              " 'yardımcı': 869,\n",
              " 'önceden': 870,\n",
              " 'elimden': 871,\n",
              " 'hediyesi': 872,\n",
              " 'olmasa': 873,\n",
              " 'bez': 874,\n",
              " 'ip': 875,\n",
              " 'kırıldı': 876,\n",
              " 'kablolu': 877,\n",
              " 'gönderildi': 878,\n",
              " 'kapalı': 879,\n",
              " 'fayda': 880,\n",
              " 'dakika': 881,\n",
              " 'kelimeyle': 882,\n",
              " 'karşı': 883,\n",
              " 's': 884,\n",
              " 'xiaomi': 885,\n",
              " 'verildi': 886,\n",
              " 'olunca': 887,\n",
              " 'azından': 888,\n",
              " 'seviyede': 889,\n",
              " 'verip': 890,\n",
              " 'ısınma': 891,\n",
              " 'oğluma': 892,\n",
              " 'gerekli': 893,\n",
              " 'oynamak': 894,\n",
              " 'ekranda': 895,\n",
              " 'bilgisayara': 896,\n",
              " 'fare': 897,\n",
              " 'tık': 898,\n",
              " 'yerinde': 899,\n",
              " 'hayırlı': 900,\n",
              " 'kontrol': 901,\n",
              " 'takip': 902,\n",
              " 'hissi': 903,\n",
              " 'derecede': 904,\n",
              " 'yönü': 905,\n",
              " 'cevap': 906,\n",
              " 'vb': 907,\n",
              " 'koltuk': 908,\n",
              " 'ekonomik': 909,\n",
              " 'kardeşime': 910,\n",
              " 'kullanıyoruz': 911,\n",
              " 'sonuçta': 912,\n",
              " 'bı': 913,\n",
              " 'yaparken': 914,\n",
              " 'efsane': 915,\n",
              " 'kullanın': 916,\n",
              " 'gelir': 917,\n",
              " 'kullanırken': 918,\n",
              " 'çin': 919,\n",
              " 'tşk': 920,\n",
              " 'koruyucu': 921,\n",
              " 'mavi': 922,\n",
              " 'takılma': 923,\n",
              " 'beklemiyordum': 924,\n",
              " 'gözüküyor': 925,\n",
              " 'sırt': 926,\n",
              " 'tabiki': 927,\n",
              " 'kullanisli': 928,\n",
              " 'standart': 929,\n",
              " 'ayrica': 930,\n",
              " 'kargolama': 931,\n",
              " 'garantili': 932,\n",
              " 'kağıt': 933,\n",
              " 'gösteriyor': 934,\n",
              " 'malzemesi': 935,\n",
              " 'kumaş': 936,\n",
              " 'saçma': 937,\n",
              " 'telefonumu': 938,\n",
              " 'şarja': 939,\n",
              " 'siparis': 940,\n",
              " 'diş': 941,\n",
              " 'alin': 942,\n",
              " 'olanı': 943,\n",
              " 'işi': 944,\n",
              " 'yumuşak': 945,\n",
              " 'haftada': 946,\n",
              " 'ekstra': 947,\n",
              " 'arası': 948,\n",
              " 'bekliyorum': 949,\n",
              " 'çantası': 950,\n",
              " 'artı': 951,\n",
              " 'site': 952,\n",
              " 'film': 953,\n",
              " 'nin': 954,\n",
              " 'kulaklığı': 955,\n",
              " 'diyor': 956,\n",
              " 'düştü': 957,\n",
              " 'malı': 958,\n",
              " 'kullanabilirsiniz': 959,\n",
              " 'geçen': 960,\n",
              " 'ayni': 961,\n",
              " 'ürünüm': 962,\n",
              " 'olmasi': 963,\n",
              " '90': 964,\n",
              " 'nabız': 965,\n",
              " 'tıklama': 966,\n",
              " 'sata': 967,\n",
              " 'kingston': 968,\n",
              " 'tarak': 969,\n",
              " 'boşa': 970,\n",
              " 'kısacası': 971,\n",
              " 'bedava': 972,\n",
              " 'dolu': 973,\n",
              " 'oldukca': 974,\n",
              " 'gelmiş': 975,\n",
              " 'bayıldım': 976,\n",
              " 'güvenli': 977,\n",
              " 'aldığımda': 978,\n",
              " 'iken': 979,\n",
              " 'uygulaması': 980,\n",
              " 'ayakkabının': 981,\n",
              " 'ücretsiz': 982,\n",
              " 'olumlu': 983,\n",
              " 'olmak': 984,\n",
              " 'olmazsınız': 985,\n",
              " 'ötesi': 986,\n",
              " 'fiyatını': 987,\n",
              " 'kisa': 988,\n",
              " 'yoğun': 989,\n",
              " 'dakikada': 990,\n",
              " 'estetik': 991,\n",
              " 'icinde': 992,\n",
              " 'desteği': 993,\n",
              " 'götürdü': 994,\n",
              " 'çekimi': 995,\n",
              " 'kullanmadım': 996,\n",
              " 'bide': 997,\n",
              " 'düşünenlere': 998,\n",
              " 'durumda': 999,\n",
              " 'bilgi': 1000,\n",
              " ...}"
            ]
          },
          "metadata": {},
          "execution_count": 9
        }
      ],
      "source": [
        "tokenizer = Tokenizer(num_words = 10000)\n",
        "tokenizer.fit_on_texts(data)\n",
        "tokenizer.word_index"
      ]
    },
    {
      "cell_type": "code",
      "execution_count": null,
      "metadata": {
        "id": "0yB9bEHsF6sd"
      },
      "outputs": [],
      "source": [
        "\n",
        "x_train_tokens = tokenizer.texts_to_sequences(x_train)\n",
        "x_test_tokens = tokenizer.texts_to_sequences(x_test)"
      ]
    },
    {
      "cell_type": "code",
      "execution_count": null,
      "metadata": {
        "colab": {
          "base_uri": "https://localhost:8080/"
        },
        "id": "4SpQELybF-ui",
        "outputId": "84ee1000-d218-4d45-d250-3bb51a6f798a"
      },
      "outputs": [
        {
          "output_type": "execute_result",
          "data": {
            "text/plain": [
              "[2, 3, 856, 217, 1, 92, 1, 4088]"
            ]
          },
          "metadata": {},
          "execution_count": 11
        }
      ],
      "source": [
        "x_train_tokens[290]"
      ]
    },
    {
      "cell_type": "code",
      "execution_count": null,
      "metadata": {
        "colab": {
          "base_uri": "https://localhost:8080/",
          "height": 35
        },
        "id": "5UJTOgKkGAsQ",
        "outputId": "7a586e8f-7f93-4e96-ab58-99b70762924b"
      },
      "outputs": [
        {
          "output_type": "execute_result",
          "data": {
            "text/plain": [
              "'ürün güzel tabanı ince bir saat bir yürüme mesafesinde ayaklarınızı ağrıtıyor'"
            ],
            "application/vnd.google.colaboratory.intrinsic+json": {
              "type": "string"
            }
          },
          "metadata": {},
          "execution_count": 12
        }
      ],
      "source": [
        "x_train[290]"
      ]
    },
    {
      "cell_type": "code",
      "execution_count": null,
      "metadata": {
        "id": "MtGNg3BVGAvg"
      },
      "outputs": [],
      "source": [
        "\n",
        "num_tokens = [len(tokens) for tokens in x_train_tokens + x_test_tokens]\n",
        "num_tokens = np.array(num_tokens)"
      ]
    },
    {
      "cell_type": "code",
      "execution_count": null,
      "metadata": {
        "colab": {
          "base_uri": "https://localhost:8080/"
        },
        "id": "d2gFjuUrGGLG",
        "outputId": "4e412f26-9686-4d8b-a073-bb837b354be6"
      },
      "outputs": [
        {
          "output_type": "execute_result",
          "data": {
            "text/plain": [
              "13.149303930744034"
            ]
          },
          "metadata": {},
          "execution_count": 14
        }
      ],
      "source": [
        "np.mean(num_tokens)"
      ]
    },
    {
      "cell_type": "code",
      "execution_count": null,
      "metadata": {
        "colab": {
          "base_uri": "https://localhost:8080/"
        },
        "id": "vpldhigLGGRM",
        "outputId": "3b288e0e-d674-48c9-c020-4d1f13d7be1b"
      },
      "outputs": [
        {
          "output_type": "execute_result",
          "data": {
            "text/plain": [
              "229"
            ]
          },
          "metadata": {},
          "execution_count": 15
        }
      ],
      "source": [
        "np.max(num_tokens)"
      ]
    },
    {
      "cell_type": "code",
      "execution_count": null,
      "metadata": {
        "colab": {
          "base_uri": "https://localhost:8080/"
        },
        "id": "vDPp41o7GGUN",
        "outputId": "fa71cbba-cca4-4345-95fe-3b65c2e19332"
      },
      "outputs": [
        {
          "output_type": "execute_result",
          "data": {
            "text/plain": [
              "42"
            ]
          },
          "metadata": {},
          "execution_count": 16
        }
      ],
      "source": [
        "\n",
        "max_tokens = np.mean(num_tokens) + 2 * np.std(num_tokens)\n",
        "max_tokens = int(max_tokens)\n",
        "max_tokens"
      ]
    },
    {
      "cell_type": "code",
      "execution_count": null,
      "metadata": {
        "colab": {
          "base_uri": "https://localhost:8080/"
        },
        "id": "pRU3toUGGGYZ",
        "outputId": "12dde478-3c65-4d9a-d03b-c20553874dfa"
      },
      "outputs": [
        {
          "output_type": "execute_result",
          "data": {
            "text/plain": [
              "0.9608095460926532"
            ]
          },
          "metadata": {},
          "execution_count": 17
        }
      ],
      "source": [
        "\n",
        "np.sum(num_tokens < max_tokens) / len(num_tokens)"
      ]
    },
    {
      "cell_type": "code",
      "execution_count": null,
      "metadata": {
        "id": "qkdJn3YqGGbQ"
      },
      "outputs": [],
      "source": [
        "\n",
        "x_train_pad = np.array(pad_sequences(x_train_tokens, maxlen=max_tokens))\n",
        "x_test_pad = np.array(pad_sequences(x_test_tokens, maxlen=max_tokens))\n"
      ]
    },
    {
      "cell_type": "code",
      "execution_count": null,
      "metadata": {
        "colab": {
          "base_uri": "https://localhost:8080/"
        },
        "id": "vnzmrjlkGTFg",
        "outputId": "36b88524-ffc9-4885-ed35-2b1d05480ecd"
      },
      "outputs": [
        {
          "output_type": "execute_result",
          "data": {
            "text/plain": [
              "array([0, 0, 0, 0, 0, 0, 0, 0, 0, 0, 0, 0, 0, 0, 0, 0, 0, 0, 0, 0, 0, 0,\n",
              "       0, 0, 0, 0, 0, 0, 0, 0, 0, 0, 0, 0, 0, 0, 0, 0, 0, 0, 0, 0],\n",
              "      dtype=int32)"
            ]
          },
          "metadata": {},
          "execution_count": 19
        }
      ],
      "source": [
        "np.array(x_train_pad[3027])"
      ]
    },
    {
      "cell_type": "code",
      "execution_count": null,
      "metadata": {
        "colab": {
          "base_uri": "https://localhost:8080/"
        },
        "id": "PHOAafVTGTIL",
        "outputId": "971020be-eb71-4f7d-e6a1-c3c5358af509"
      },
      "outputs": [
        {
          "output_type": "execute_result",
          "data": {
            "text/plain": [
              "array([ 0,  0,  0,  0,  0,  0,  0,  0,  0,  0,  0,  0,  0,  0,  0,  0,  0,\n",
              "        0,  0,  0,  0,  0,  0,  0,  0,  0,  0,  0,  0,  0,  0,  0,  0,  0,\n",
              "        0,  0,  0,  0,  0,  0, 36,  4], dtype=int32)"
            ]
          },
          "metadata": {},
          "execution_count": 20
        }
      ],
      "source": [
        "x_test_pad[2000]"
      ]
    },
    {
      "cell_type": "code",
      "execution_count": null,
      "metadata": {
        "id": "VJ5J9tlbGTKu"
      },
      "outputs": [],
      "source": [
        "\n",
        "idx = tokenizer.word_index\n",
        "inverse_map = dict(zip(idx.values(), idx.keys()))\n",
        "\n",
        "\n",
        "def tokens_to_string(tokens):\n",
        "    words = [inverse_map[token] for token in tokens if token!=0]\n",
        "    text = ' '.join(words)\n",
        "    return text"
      ]
    },
    {
      "cell_type": "code",
      "execution_count": null,
      "metadata": {
        "id": "ENghZnzzGTM7"
      },
      "outputs": [],
      "source": [
        "import tensorflow as tf\n",
        "from tensorflow import keras\n",
        "from tensorflow.keras import layers\n",
        "model =Sequential()\n",
        "\n",
        "embedding_size = 50\n",
        "\n",
        "\n",
        "model.add(Embedding(input_dim=10000,\n",
        "                    output_dim=embedding_size,\n",
        "                    input_length=max_tokens,\n",
        "                    name='embedding_layer'))"
      ]
    },
    {
      "cell_type": "code",
      "execution_count": null,
      "metadata": {
        "id": "68NBUjkFHCUF",
        "colab": {
          "base_uri": "https://localhost:8080/",
          "height": 1000
        },
        "outputId": "41b37011-b03c-4b8c-f032-1e4a3a241795"
      },
      "outputs": [
        {
          "output_type": "stream",
          "name": "stdout",
          "text": [
            "Collecting tensorflow==2.2.0rc2\n",
            "  Downloading tensorflow-2.2.0rc2-cp37-cp37m-manylinux2010_x86_64.whl (516.2 MB)\n",
            "\u001b[K     |████████████████████████████████| 516.2 MB 2.1 kB/s \n",
            "\u001b[?25hRequirement already satisfied: opt-einsum>=2.3.2 in /usr/local/lib/python3.7/dist-packages (from tensorflow==2.2.0rc2) (3.3.0)\n",
            "Requirement already satisfied: wheel>=0.26 in /usr/local/lib/python3.7/dist-packages (from tensorflow==2.2.0rc2) (0.37.1)\n",
            "Collecting tensorboard<2.3.0,>=2.2.0\n",
            "  Downloading tensorboard-2.2.2-py3-none-any.whl (3.0 MB)\n",
            "\u001b[K     |████████████████████████████████| 3.0 MB 37.7 MB/s \n",
            "\u001b[?25hRequirement already satisfied: six>=1.12.0 in /usr/local/lib/python3.7/dist-packages (from tensorflow==2.2.0rc2) (1.15.0)\n",
            "Requirement already satisfied: protobuf>=3.8.0 in /usr/local/lib/python3.7/dist-packages (from tensorflow==2.2.0rc2) (3.17.3)\n",
            "Collecting tensorflow-estimator<2.3.0,>=2.2.0rc0\n",
            "  Downloading tensorflow_estimator-2.2.0-py2.py3-none-any.whl (454 kB)\n",
            "\u001b[K     |████████████████████████████████| 454 kB 40.0 MB/s \n",
            "\u001b[?25hCollecting gast==0.3.3\n",
            "  Downloading gast-0.3.3-py2.py3-none-any.whl (9.7 kB)\n",
            "Requirement already satisfied: numpy<2.0,>=1.16.0 in /usr/local/lib/python3.7/dist-packages (from tensorflow==2.2.0rc2) (1.21.5)\n",
            "Requirement already satisfied: wrapt>=1.11.1 in /usr/local/lib/python3.7/dist-packages (from tensorflow==2.2.0rc2) (1.14.0)\n",
            "Requirement already satisfied: absl-py>=0.7.0 in /usr/local/lib/python3.7/dist-packages (from tensorflow==2.2.0rc2) (1.0.0)\n",
            "Requirement already satisfied: scipy==1.4.1 in /usr/local/lib/python3.7/dist-packages (from tensorflow==2.2.0rc2) (1.4.1)\n",
            "Requirement already satisfied: termcolor>=1.1.0 in /usr/local/lib/python3.7/dist-packages (from tensorflow==2.2.0rc2) (1.1.0)\n",
            "Collecting h5py<2.11.0,>=2.10.0\n",
            "  Downloading h5py-2.10.0-cp37-cp37m-manylinux1_x86_64.whl (2.9 MB)\n",
            "\u001b[K     |████████████████████████████████| 2.9 MB 25.3 MB/s \n",
            "\u001b[?25hRequirement already satisfied: keras-preprocessing>=1.1.0 in /usr/local/lib/python3.7/dist-packages (from tensorflow==2.2.0rc2) (1.1.2)\n",
            "Requirement already satisfied: grpcio>=1.8.6 in /usr/local/lib/python3.7/dist-packages (from tensorflow==2.2.0rc2) (1.44.0)\n",
            "Requirement already satisfied: google-pasta>=0.1.8 in /usr/local/lib/python3.7/dist-packages (from tensorflow==2.2.0rc2) (0.2.0)\n",
            "Requirement already satisfied: astunparse==1.6.3 in /usr/local/lib/python3.7/dist-packages (from tensorflow==2.2.0rc2) (1.6.3)\n",
            "Requirement already satisfied: werkzeug>=0.11.15 in /usr/local/lib/python3.7/dist-packages (from tensorboard<2.3.0,>=2.2.0->tensorflow==2.2.0rc2) (1.0.1)\n",
            "Requirement already satisfied: setuptools>=41.0.0 in /usr/local/lib/python3.7/dist-packages (from tensorboard<2.3.0,>=2.2.0->tensorflow==2.2.0rc2) (57.4.0)\n",
            "Requirement already satisfied: google-auth-oauthlib<0.5,>=0.4.1 in /usr/local/lib/python3.7/dist-packages (from tensorboard<2.3.0,>=2.2.0->tensorflow==2.2.0rc2) (0.4.6)\n",
            "Requirement already satisfied: requests<3,>=2.21.0 in /usr/local/lib/python3.7/dist-packages (from tensorboard<2.3.0,>=2.2.0->tensorflow==2.2.0rc2) (2.23.0)\n",
            "Requirement already satisfied: markdown>=2.6.8 in /usr/local/lib/python3.7/dist-packages (from tensorboard<2.3.0,>=2.2.0->tensorflow==2.2.0rc2) (3.3.6)\n",
            "Requirement already satisfied: tensorboard-plugin-wit>=1.6.0 in /usr/local/lib/python3.7/dist-packages (from tensorboard<2.3.0,>=2.2.0->tensorflow==2.2.0rc2) (1.8.1)\n",
            "Requirement already satisfied: google-auth<2,>=1.6.3 in /usr/local/lib/python3.7/dist-packages (from tensorboard<2.3.0,>=2.2.0->tensorflow==2.2.0rc2) (1.35.0)\n",
            "Requirement already satisfied: pyasn1-modules>=0.2.1 in /usr/local/lib/python3.7/dist-packages (from google-auth<2,>=1.6.3->tensorboard<2.3.0,>=2.2.0->tensorflow==2.2.0rc2) (0.2.8)\n",
            "Requirement already satisfied: cachetools<5.0,>=2.0.0 in /usr/local/lib/python3.7/dist-packages (from google-auth<2,>=1.6.3->tensorboard<2.3.0,>=2.2.0->tensorflow==2.2.0rc2) (4.2.4)\n",
            "Requirement already satisfied: rsa<5,>=3.1.4 in /usr/local/lib/python3.7/dist-packages (from google-auth<2,>=1.6.3->tensorboard<2.3.0,>=2.2.0->tensorflow==2.2.0rc2) (4.8)\n",
            "Requirement already satisfied: requests-oauthlib>=0.7.0 in /usr/local/lib/python3.7/dist-packages (from google-auth-oauthlib<0.5,>=0.4.1->tensorboard<2.3.0,>=2.2.0->tensorflow==2.2.0rc2) (1.3.1)\n",
            "Requirement already satisfied: importlib-metadata>=4.4 in /usr/local/lib/python3.7/dist-packages (from markdown>=2.6.8->tensorboard<2.3.0,>=2.2.0->tensorflow==2.2.0rc2) (4.11.3)\n",
            "Requirement already satisfied: zipp>=0.5 in /usr/local/lib/python3.7/dist-packages (from importlib-metadata>=4.4->markdown>=2.6.8->tensorboard<2.3.0,>=2.2.0->tensorflow==2.2.0rc2) (3.8.0)\n",
            "Requirement already satisfied: typing-extensions>=3.6.4 in /usr/local/lib/python3.7/dist-packages (from importlib-metadata>=4.4->markdown>=2.6.8->tensorboard<2.3.0,>=2.2.0->tensorflow==2.2.0rc2) (4.1.1)\n",
            "Requirement already satisfied: pyasn1<0.5.0,>=0.4.6 in /usr/local/lib/python3.7/dist-packages (from pyasn1-modules>=0.2.1->google-auth<2,>=1.6.3->tensorboard<2.3.0,>=2.2.0->tensorflow==2.2.0rc2) (0.4.8)\n",
            "Requirement already satisfied: chardet<4,>=3.0.2 in /usr/local/lib/python3.7/dist-packages (from requests<3,>=2.21.0->tensorboard<2.3.0,>=2.2.0->tensorflow==2.2.0rc2) (3.0.4)\n",
            "Requirement already satisfied: idna<3,>=2.5 in /usr/local/lib/python3.7/dist-packages (from requests<3,>=2.21.0->tensorboard<2.3.0,>=2.2.0->tensorflow==2.2.0rc2) (2.10)\n",
            "Requirement already satisfied: urllib3!=1.25.0,!=1.25.1,<1.26,>=1.21.1 in /usr/local/lib/python3.7/dist-packages (from requests<3,>=2.21.0->tensorboard<2.3.0,>=2.2.0->tensorflow==2.2.0rc2) (1.24.3)\n",
            "Requirement already satisfied: certifi>=2017.4.17 in /usr/local/lib/python3.7/dist-packages (from requests<3,>=2.21.0->tensorboard<2.3.0,>=2.2.0->tensorflow==2.2.0rc2) (2021.10.8)\n",
            "Requirement already satisfied: oauthlib>=3.0.0 in /usr/local/lib/python3.7/dist-packages (from requests-oauthlib>=0.7.0->google-auth-oauthlib<0.5,>=0.4.1->tensorboard<2.3.0,>=2.2.0->tensorflow==2.2.0rc2) (3.2.0)\n",
            "Installing collected packages: tensorflow-estimator, tensorboard, h5py, gast, tensorflow\n",
            "  Attempting uninstall: tensorflow-estimator\n",
            "    Found existing installation: tensorflow-estimator 2.8.0\n",
            "    Uninstalling tensorflow-estimator-2.8.0:\n",
            "      Successfully uninstalled tensorflow-estimator-2.8.0\n",
            "  Attempting uninstall: tensorboard\n",
            "    Found existing installation: tensorboard 2.8.0\n",
            "    Uninstalling tensorboard-2.8.0:\n",
            "      Successfully uninstalled tensorboard-2.8.0\n",
            "  Attempting uninstall: h5py\n",
            "    Found existing installation: h5py 3.1.0\n",
            "    Uninstalling h5py-3.1.0:\n",
            "      Successfully uninstalled h5py-3.1.0\n",
            "  Attempting uninstall: gast\n",
            "    Found existing installation: gast 0.5.3\n",
            "    Uninstalling gast-0.5.3:\n",
            "      Successfully uninstalled gast-0.5.3\n",
            "  Attempting uninstall: tensorflow\n",
            "    Found existing installation: tensorflow 2.8.0\n",
            "    Uninstalling tensorflow-2.8.0:\n",
            "      Successfully uninstalled tensorflow-2.8.0\n",
            "Successfully installed gast-0.3.3 h5py-2.10.0 tensorboard-2.2.2 tensorflow-2.2.0rc2 tensorflow-estimator-2.2.0\n"
          ]
        },
        {
          "output_type": "display_data",
          "data": {
            "application/vnd.colab-display-data+json": {
              "pip_warning": {
                "packages": [
                  "gast",
                  "h5py",
                  "tensorboard",
                  "tensorflow"
                ]
              }
            }
          },
          "metadata": {}
        },
        {
          "output_type": "stream",
          "name": "stdout",
          "text": [
            "Collecting keras==2.2.4\n",
            "  Downloading Keras-2.2.4-py2.py3-none-any.whl (312 kB)\n",
            "\u001b[?25l\r\u001b[K     |█                               | 10 kB 18.5 MB/s eta 0:00:01\r\u001b[K     |██                              | 20 kB 14.2 MB/s eta 0:00:01\r\u001b[K     |███▏                            | 30 kB 9.8 MB/s eta 0:00:01\r\u001b[K     |████▏                           | 40 kB 8.7 MB/s eta 0:00:01\r\u001b[K     |█████▎                          | 51 kB 4.3 MB/s eta 0:00:01\r\u001b[K     |██████▎                         | 61 kB 5.1 MB/s eta 0:00:01\r\u001b[K     |███████▍                        | 71 kB 5.5 MB/s eta 0:00:01\r\u001b[K     |████████▍                       | 81 kB 5.7 MB/s eta 0:00:01\r\u001b[K     |█████████▍                      | 92 kB 6.3 MB/s eta 0:00:01\r\u001b[K     |██████████▌                     | 102 kB 5.0 MB/s eta 0:00:01\r\u001b[K     |███████████▌                    | 112 kB 5.0 MB/s eta 0:00:01\r\u001b[K     |████████████▋                   | 122 kB 5.0 MB/s eta 0:00:01\r\u001b[K     |█████████████▋                  | 133 kB 5.0 MB/s eta 0:00:01\r\u001b[K     |██████████████▊                 | 143 kB 5.0 MB/s eta 0:00:01\r\u001b[K     |███████████████▊                | 153 kB 5.0 MB/s eta 0:00:01\r\u001b[K     |████████████████▊               | 163 kB 5.0 MB/s eta 0:00:01\r\u001b[K     |█████████████████▉              | 174 kB 5.0 MB/s eta 0:00:01\r\u001b[K     |██████████████████▉             | 184 kB 5.0 MB/s eta 0:00:01\r\u001b[K     |████████████████████            | 194 kB 5.0 MB/s eta 0:00:01\r\u001b[K     |█████████████████████           | 204 kB 5.0 MB/s eta 0:00:01\r\u001b[K     |██████████████████████          | 215 kB 5.0 MB/s eta 0:00:01\r\u001b[K     |███████████████████████         | 225 kB 5.0 MB/s eta 0:00:01\r\u001b[K     |████████████████████████▏       | 235 kB 5.0 MB/s eta 0:00:01\r\u001b[K     |█████████████████████████▏      | 245 kB 5.0 MB/s eta 0:00:01\r\u001b[K     |██████████████████████████▏     | 256 kB 5.0 MB/s eta 0:00:01\r\u001b[K     |███████████████████████████▎    | 266 kB 5.0 MB/s eta 0:00:01\r\u001b[K     |████████████████████████████▎   | 276 kB 5.0 MB/s eta 0:00:01\r\u001b[K     |█████████████████████████████▍  | 286 kB 5.0 MB/s eta 0:00:01\r\u001b[K     |██████████████████████████████▍ | 296 kB 5.0 MB/s eta 0:00:01\r\u001b[K     |███████████████████████████████▌| 307 kB 5.0 MB/s eta 0:00:01\r\u001b[K     |████████████████████████████████| 312 kB 5.0 MB/s \n",
            "\u001b[?25hRequirement already satisfied: six>=1.9.0 in /usr/local/lib/python3.7/dist-packages (from keras==2.2.4) (1.15.0)\n",
            "Requirement already satisfied: h5py in /usr/local/lib/python3.7/dist-packages (from keras==2.2.4) (2.10.0)\n",
            "Requirement already satisfied: scipy>=0.14 in /usr/local/lib/python3.7/dist-packages (from keras==2.2.4) (1.4.1)\n",
            "Requirement already satisfied: pyyaml in /usr/local/lib/python3.7/dist-packages (from keras==2.2.4) (3.13)\n",
            "Requirement already satisfied: keras-preprocessing>=1.0.5 in /usr/local/lib/python3.7/dist-packages (from keras==2.2.4) (1.1.2)\n",
            "Collecting keras-applications>=1.0.6\n",
            "  Downloading Keras_Applications-1.0.8-py3-none-any.whl (50 kB)\n",
            "\u001b[K     |████████████████████████████████| 50 kB 5.5 MB/s \n",
            "\u001b[?25hRequirement already satisfied: numpy>=1.9.1 in /usr/local/lib/python3.7/dist-packages (from keras==2.2.4) (1.21.5)\n",
            "Installing collected packages: keras-applications, keras\n",
            "  Attempting uninstall: keras\n",
            "    Found existing installation: keras 2.8.0\n",
            "    Uninstalling keras-2.8.0:\n",
            "      Successfully uninstalled keras-2.8.0\n",
            "Successfully installed keras-2.2.4 keras-applications-1.0.8\n"
          ]
        },
        {
          "output_type": "display_data",
          "data": {
            "application/vnd.colab-display-data+json": {
              "pip_warning": {
                "packages": [
                  "keras"
                ]
              }
            }
          },
          "metadata": {}
        }
      ],
      "source": [
        "!pip install tensorflow==2.2.0rc2\n",
        "!pip install keras==2.2.4"
      ]
    },
    {
      "cell_type": "code",
      "execution_count": null,
      "metadata": {
        "id": "5hiYjACWGTPw"
      },
      "outputs": [],
      "source": [
        "\n",
        "model.add(LSTM(units=16, return_sequences=True))\n",
        "\n",
        "model.add(LSTM(units=8, return_sequences=True))\n",
        "\n",
        "model.add(LSTM(units=4))\n",
        "\n",
        "model.add(Dense(1, activation='sigmoid'))"
      ]
    },
    {
      "cell_type": "code",
      "execution_count": null,
      "metadata": {
        "id": "rE5xURG1MV99"
      },
      "outputs": [],
      "source": [
        "\n",
        "adam = keras.optimizers.Adam(learning_rate=0.001)\n",
        "model.compile(loss='binary_crossentropy',\n",
        "              optimizer='adam',\n",
        "              metrics=['accuracy'])"
      ]
    },
    {
      "cell_type": "code",
      "execution_count": null,
      "metadata": {
        "id": "kt7BQK66MPAq",
        "colab": {
          "base_uri": "https://localhost:8080/"
        },
        "outputId": "46bfaa96-0fdc-47a8-bc35-62ce3f6c2b8e"
      },
      "outputs": [
        {
          "output_type": "stream",
          "name": "stdout",
          "text": [
            "Model: \"sequential\"\n",
            "_________________________________________________________________\n",
            "Layer (type)                 Output Shape              Param #   \n",
            "=================================================================\n",
            "embedding_layer (Embedding)  (None, 42, 50)            500000    \n",
            "_________________________________________________________________\n",
            "lstm (LSTM)                  (None, 42, 16)            4288      \n",
            "_________________________________________________________________\n",
            "lstm_1 (LSTM)                (None, 42, 8)             800       \n",
            "_________________________________________________________________\n",
            "lstm_2 (LSTM)                (None, 4)                 208       \n",
            "_________________________________________________________________\n",
            "dense (Dense)                (None, 1)                 5         \n",
            "=================================================================\n",
            "Total params: 505,301\n",
            "Trainable params: 505,301\n",
            "Non-trainable params: 0\n",
            "_________________________________________________________________\n"
          ]
        }
      ],
      "source": [
        "model.summary()"
      ]
    },
    {
      "cell_type": "code",
      "execution_count": null,
      "metadata": {
        "id": "Wzh5gGypGTSn",
        "colab": {
          "base_uri": "https://localhost:8080/"
        },
        "outputId": "95d58f2f-f1af-43dc-bd6c-c28c71214e0f"
      },
      "outputs": [
        {
          "output_type": "stream",
          "name": "stdout",
          "text": [
            "Epoch 1/100\n",
            "WARNING:tensorflow:AutoGraph could not transform <function Model.make_train_function.<locals>.train_function at 0x7fc4a8b40050> and will run it as-is.\n",
            "Please report this to the TensorFlow team. When filing the bug, set the verbosity to 10 (on Linux, `export AUTOGRAPH_VERBOSITY=10`) and attach the full output.\n",
            "Cause: closure mismatch, requested ('self', 'step_function'), but source function had ()\n",
            "To silence this warning, decorate the function with @tf.autograph.experimental.do_not_convert\n",
            "WARNING: AutoGraph could not transform <function Model.make_train_function.<locals>.train_function at 0x7fc4a8b40050> and will run it as-is.\n",
            "Please report this to the TensorFlow team. When filing the bug, set the verbosity to 10 (on Linux, `export AUTOGRAPH_VERBOSITY=10`) and attach the full output.\n",
            "Cause: closure mismatch, requested ('self', 'step_function'), but source function had ()\n",
            "To silence this warning, decorate the function with @tf.autograph.experimental.do_not_convert\n",
            "321/321 [==============================] - ETA: 0s - loss: 0.4578 - accuracy: 0.8034WARNING:tensorflow:AutoGraph could not transform <function Model.make_test_function.<locals>.test_function at 0x7fc4a1888ef0> and will run it as-is.\n",
            "Please report this to the TensorFlow team. When filing the bug, set the verbosity to 10 (on Linux, `export AUTOGRAPH_VERBOSITY=10`) and attach the full output.\n",
            "Cause: closure mismatch, requested ('self', 'step_function'), but source function had ()\n",
            "To silence this warning, decorate the function with @tf.autograph.experimental.do_not_convert\n",
            "WARNING: AutoGraph could not transform <function Model.make_test_function.<locals>.test_function at 0x7fc4a1888ef0> and will run it as-is.\n",
            "Please report this to the TensorFlow team. When filing the bug, set the verbosity to 10 (on Linux, `export AUTOGRAPH_VERBOSITY=10`) and attach the full output.\n",
            "Cause: closure mismatch, requested ('self', 'step_function'), but source function had ()\n",
            "To silence this warning, decorate the function with @tf.autograph.experimental.do_not_convert\n",
            "321/321 [==============================] - 79s 195ms/step - loss: 0.4578 - accuracy: 0.8034 - val_loss: 0.3183 - val_accuracy: 0.8919\n",
            "Epoch 2/100\n",
            "321/321 [==============================] - 40s 125ms/step - loss: 0.2240 - accuracy: 0.9297 - val_loss: 0.2539 - val_accuracy: 0.9121\n",
            "Epoch 3/100\n",
            "321/321 [==============================] - 45s 139ms/step - loss: 0.1442 - accuracy: 0.9559 - val_loss: 0.2568 - val_accuracy: 0.9083\n",
            "Epoch 4/100\n",
            "321/321 [==============================] - 40s 126ms/step - loss: 0.1066 - accuracy: 0.9694 - val_loss: 0.2694 - val_accuracy: 0.9093\n",
            "Epoch 5/100\n",
            "321/321 [==============================] - 40s 125ms/step - loss: 0.0844 - accuracy: 0.9763 - val_loss: 0.2970 - val_accuracy: 0.9091\n",
            "Epoch 6/100\n",
            "321/321 [==============================] - 39s 123ms/step - loss: 0.0701 - accuracy: 0.9812 - val_loss: 0.3228 - val_accuracy: 0.9039\n",
            "Epoch 7/100\n",
            "321/321 [==============================] - 49s 152ms/step - loss: 0.0612 - accuracy: 0.9832 - val_loss: 0.3351 - val_accuracy: 0.9048\n",
            "Epoch 8/100\n",
            "321/321 [==============================] - 40s 125ms/step - loss: 0.0558 - accuracy: 0.9844 - val_loss: 0.3332 - val_accuracy: 0.9048\n",
            "Epoch 9/100\n",
            "321/321 [==============================] - 40s 124ms/step - loss: 0.0490 - accuracy: 0.9867 - val_loss: 0.3508 - val_accuracy: 0.9057\n",
            "Epoch 10/100\n",
            "321/321 [==============================] - 40s 125ms/step - loss: 0.0444 - accuracy: 0.9876 - val_loss: 0.3612 - val_accuracy: 0.9054\n",
            "Epoch 11/100\n",
            "321/321 [==============================] - 41s 128ms/step - loss: 0.0417 - accuracy: 0.9883 - val_loss: 0.3820 - val_accuracy: 0.9036\n",
            "Epoch 12/100\n",
            "321/321 [==============================] - 40s 125ms/step - loss: 0.0383 - accuracy: 0.9899 - val_loss: 0.3880 - val_accuracy: 0.9035\n",
            "Epoch 13/100\n",
            "321/321 [==============================] - 40s 125ms/step - loss: 0.0367 - accuracy: 0.9899 - val_loss: 0.4083 - val_accuracy: 0.9016\n",
            "Epoch 14/100\n",
            "321/321 [==============================] - 40s 125ms/step - loss: 0.0332 - accuracy: 0.9906 - val_loss: 0.4149 - val_accuracy: 0.9054\n",
            "Epoch 15/100\n",
            "321/321 [==============================] - 41s 127ms/step - loss: 0.0302 - accuracy: 0.9914 - val_loss: 0.4331 - val_accuracy: 0.9035\n",
            "Epoch 16/100\n",
            "321/321 [==============================] - 43s 133ms/step - loss: 0.0295 - accuracy: 0.9912 - val_loss: 0.4297 - val_accuracy: 0.9029\n",
            "Epoch 17/100\n",
            "321/321 [==============================] - 43s 133ms/step - loss: 0.0273 - accuracy: 0.9922 - val_loss: 0.4363 - val_accuracy: 0.9013\n",
            "Epoch 18/100\n",
            "321/321 [==============================] - 40s 125ms/step - loss: 0.0254 - accuracy: 0.9922 - val_loss: 0.4514 - val_accuracy: 0.9031\n",
            "Epoch 19/100\n",
            "321/321 [==============================] - 41s 127ms/step - loss: 0.0234 - accuracy: 0.9923 - val_loss: 0.4842 - val_accuracy: 0.9032\n",
            "Epoch 20/100\n",
            "321/321 [==============================] - 40s 126ms/step - loss: 0.0215 - accuracy: 0.9933 - val_loss: 0.4438 - val_accuracy: 0.9029\n",
            "Epoch 21/100\n",
            "321/321 [==============================] - 40s 124ms/step - loss: 0.0251 - accuracy: 0.9911 - val_loss: 0.4584 - val_accuracy: 0.8988\n",
            "Epoch 22/100\n",
            "321/321 [==============================] - 45s 140ms/step - loss: 0.0222 - accuracy: 0.9928 - val_loss: 0.5033 - val_accuracy: 0.8978\n",
            "Epoch 23/100\n",
            "321/321 [==============================] - 41s 127ms/step - loss: 0.0211 - accuracy: 0.9932 - val_loss: 0.4823 - val_accuracy: 0.9001\n",
            "Epoch 24/100\n",
            "321/321 [==============================] - 41s 129ms/step - loss: 0.0185 - accuracy: 0.9939 - val_loss: 0.5002 - val_accuracy: 0.8969\n",
            "Epoch 25/100\n",
            "321/321 [==============================] - 41s 128ms/step - loss: 0.0180 - accuracy: 0.9938 - val_loss: 0.5306 - val_accuracy: 0.8978\n",
            "Epoch 26/100\n",
            "321/321 [==============================] - 41s 127ms/step - loss: 0.0167 - accuracy: 0.9942 - val_loss: 0.5426 - val_accuracy: 0.9004\n",
            "Epoch 27/100\n",
            "321/321 [==============================] - 41s 127ms/step - loss: 0.0154 - accuracy: 0.9946 - val_loss: 0.5456 - val_accuracy: 0.9001\n",
            "Epoch 28/100\n",
            "321/321 [==============================] - 41s 126ms/step - loss: 0.0152 - accuracy: 0.9946 - val_loss: 0.5565 - val_accuracy: 0.8971\n",
            "Epoch 29/100\n",
            "321/321 [==============================] - 41s 126ms/step - loss: 0.0144 - accuracy: 0.9948 - val_loss: 0.5594 - val_accuracy: 0.9000\n",
            "Epoch 30/100\n",
            "321/321 [==============================] - 40s 126ms/step - loss: 0.0172 - accuracy: 0.9938 - val_loss: 0.4806 - val_accuracy: 0.8944\n",
            "Epoch 31/100\n",
            "321/321 [==============================] - 41s 128ms/step - loss: 0.0186 - accuracy: 0.9935 - val_loss: 0.5490 - val_accuracy: 0.8982\n",
            "Epoch 32/100\n",
            "321/321 [==============================] - 40s 126ms/step - loss: 0.0145 - accuracy: 0.9944 - val_loss: 0.5544 - val_accuracy: 0.8988\n",
            "Epoch 33/100\n",
            "321/321 [==============================] - 40s 126ms/step - loss: 0.0128 - accuracy: 0.9949 - val_loss: 0.5641 - val_accuracy: 0.8988\n",
            "Epoch 34/100\n",
            "321/321 [==============================] - 41s 127ms/step - loss: 0.0120 - accuracy: 0.9953 - val_loss: 0.5732 - val_accuracy: 0.8981\n",
            "Epoch 35/100\n",
            "321/321 [==============================] - 40s 126ms/step - loss: 0.0120 - accuracy: 0.9952 - val_loss: 0.6083 - val_accuracy: 0.8966\n",
            "Epoch 36/100\n",
            "321/321 [==============================] - 40s 125ms/step - loss: 0.0117 - accuracy: 0.9954 - val_loss: 0.6195 - val_accuracy: 0.8962\n",
            "Epoch 37/100\n",
            "321/321 [==============================] - 43s 135ms/step - loss: 0.0115 - accuracy: 0.9956 - val_loss: 0.6308 - val_accuracy: 0.8966\n",
            "Epoch 38/100\n",
            " 62/321 [====>.........................] - ETA: 31s - loss: 0.0103 - accuracy: 0.9965"
          ]
        }
      ],
      "source": [
        "\n",
        "x_train_pad=np.array(x_train_pad)\n",
        "y_train =np.array(y_train)\n",
        "\n",
        "history = model.fit(x_train_pad, y_train, epochs=100, batch_size=64,validation_split=0.25)"
      ]
    },
    {
      "cell_type": "code",
      "execution_count": null,
      "metadata": {
        "id": "eDIEy0mVjC2i"
      },
      "outputs": [],
      "source": [
        "model.save(\"sentiment_model.h5\")"
      ]
    },
    {
      "cell_type": "code",
      "execution_count": null,
      "metadata": {
        "id": "Yrz_e-JljEq8"
      },
      "outputs": [],
      "source": [
        "\n",
        "x_test_pad=np.array(x_test_pad)\n",
        "y_test =np.array(y_test)\n",
        "result = model.evaluate(x_test_pad, y_test)"
      ]
    },
    {
      "cell_type": "code",
      "execution_count": null,
      "metadata": {
        "id": "J0YEVVgvjWaZ"
      },
      "outputs": [],
      "source": [
        "result[1]"
      ]
    },
    {
      "cell_type": "code",
      "execution_count": null,
      "metadata": {
        "id": "6_WIJgqxjWdT"
      },
      "outputs": [],
      "source": [
        "y_pred = model.predict_classes(x=x_test_pad[:700])\n"
      ]
    },
    {
      "cell_type": "code",
      "execution_count": null,
      "metadata": {
        "id": "wAY6P8objWf1"
      },
      "outputs": [],
      "source": [
        "y_pred = y_pred.T[0]"
      ]
    },
    {
      "cell_type": "code",
      "execution_count": null,
      "metadata": {
        "id": "AC7sko4FjEth"
      },
      "outputs": [],
      "source": [
        "y_pred"
      ]
    },
    {
      "cell_type": "code",
      "execution_count": null,
      "metadata": {
        "id": "XgeMDFjsjcqw"
      },
      "outputs": [],
      "source": [
        "text = \"güzel\"\n",
        "texts = [text]\n",
        "tokens = tokenizer.texts_to_sequences(texts)"
      ]
    },
    {
      "cell_type": "code",
      "execution_count": null,
      "metadata": {
        "id": "LO_Lfv7mjctg"
      },
      "outputs": [],
      "source": [
        "tokens_pad = pad_sequences(tokens,maxlen = max_tokens)\n",
        "tokens_pad.shape"
      ]
    },
    {
      "cell_type": "code",
      "execution_count": null,
      "metadata": {
        "id": "1n8n_icUjcv4"
      },
      "outputs": [],
      "source": [
        "print(\"moralinizin {} olduğunu görüyorum. \".format(model.predict_classes(tokens_pad).tolist()[0][0]))\n"
      ]
    },
    {
      "cell_type": "code",
      "execution_count": null,
      "metadata": {
        "id": "tvKq_1gXjcyn"
      },
      "outputs": [],
      "source": [
        "import matplotlib.pyplot as plt\n",
        "\n",
        "plt.figure(figsize = (10,5))\n",
        "plt.plot(history.history['loss'])\n",
        "plt.plot(history.history['val_loss'])\n",
        "plt.title('Model loss')\n",
        "plt.ylabel('Loss')\n",
        "plt.xlabel('Epoch')\n",
        "plt.legend(['Train', 'Test'], loc='upper left')\n",
        "plt.show()"
      ]
    },
    {
      "cell_type": "code",
      "execution_count": null,
      "metadata": {
        "id": "g-coQKrEkz5D"
      },
      "outputs": [],
      "source": [
        "plt.figure(figsize = (10,5))\n",
        "plt.plot(history.history['accuracy'])\n",
        "plt.plot(history.history['val_accuracy'])\n",
        "plt.title('Model accuracy')\n",
        "plt.ylabel('Accuracy')\n",
        "plt.xlabel('Epoch')\n",
        "plt.legend(['Train', 'Test'], loc='upper left')\n",
        "plt.show()"
      ]
    },
    {
      "cell_type": "markdown",
      "metadata": {
        "id": "-Flm0vp169Qh"
      },
      "source": [
        ""
      ]
    },
    {
      "cell_type": "code",
      "source": [
        "model.save(\"sentiment_model.h5\")"
      ],
      "metadata": {
        "id": "sGYCO0zcFamQ"
      },
      "execution_count": null,
      "outputs": []
    },
    {
      "cell_type": "code",
      "source": [
        ""
      ],
      "metadata": {
        "id": "J_PNW-MujlKc"
      },
      "execution_count": null,
      "outputs": []
    }
  ],
  "metadata": {
    "colab": {
      "collapsed_sections": [],
      "name": "deepLearning.ipynb",
      "provenance": [],
      "include_colab_link": true
    },
    "kernelspec": {
      "display_name": "Python 3",
      "name": "python3"
    },
    "language_info": {
      "name": "python"
    }
  },
  "nbformat": 4,
  "nbformat_minor": 0
}